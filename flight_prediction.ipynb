{
 "cells": [
  {
   "cell_type": "code",
   "execution_count": 1,
   "metadata": {
    "collapsed": true,
    "ExecuteTime": {
     "end_time": "2023-06-16T09:25:48.362465400Z",
     "start_time": "2023-06-16T09:25:48.349850800Z"
    }
   },
   "outputs": [],
   "source": [
    "import pandas as pd\n",
    "import numpy as  np\n",
    "import matplotlib.pyplot as plt\n",
    "import seaborn as sns"
   ]
  },
  {
   "cell_type": "code",
   "execution_count": 4,
   "outputs": [],
   "source": [
    "train_data = pd.read_excel(r\"C:\\Users\\My computer\\Downloads\\1..Flight_Price-- Machine Learning-20230616T090444Z-001\\1..Flight_Price--_ Machine Learning\\Datasets/Data_train.xlsx\")"
   ],
   "metadata": {
    "collapsed": false,
    "ExecuteTime": {
     "end_time": "2023-06-16T09:30:41.932675400Z",
     "start_time": "2023-06-16T09:30:40.150445300Z"
    }
   }
  },
  {
   "cell_type": "code",
   "execution_count": 5,
   "outputs": [
    {
     "data": {
      "text/plain": "       Airline Date_of_Journey    Source Destination                  Route  \\\n0       IndiGo      24/03/2019  Banglore   New Delhi              BLR → DEL   \n1    Air India       1/05/2019   Kolkata    Banglore  CCU → IXR → BBI → BLR   \n2  Jet Airways       9/06/2019     Delhi      Cochin  DEL → LKO → BOM → COK   \n3       IndiGo      12/05/2019   Kolkata    Banglore        CCU → NAG → BLR   \n\n  Dep_Time  Arrival_Time Duration Total_Stops Additional_Info  Price  \n0    22:20  01:10 22 Mar   2h 50m    non-stop         No info   3897  \n1    05:50         13:15   7h 25m     2 stops         No info   7662  \n2    09:25  04:25 10 Jun      19h     2 stops         No info  13882  \n3    18:05         23:30   5h 25m      1 stop         No info   6218  ",
      "text/html": "<div>\n<style scoped>\n    .dataframe tbody tr th:only-of-type {\n        vertical-align: middle;\n    }\n\n    .dataframe tbody tr th {\n        vertical-align: top;\n    }\n\n    .dataframe thead th {\n        text-align: right;\n    }\n</style>\n<table border=\"1\" class=\"dataframe\">\n  <thead>\n    <tr style=\"text-align: right;\">\n      <th></th>\n      <th>Airline</th>\n      <th>Date_of_Journey</th>\n      <th>Source</th>\n      <th>Destination</th>\n      <th>Route</th>\n      <th>Dep_Time</th>\n      <th>Arrival_Time</th>\n      <th>Duration</th>\n      <th>Total_Stops</th>\n      <th>Additional_Info</th>\n      <th>Price</th>\n    </tr>\n  </thead>\n  <tbody>\n    <tr>\n      <th>0</th>\n      <td>IndiGo</td>\n      <td>24/03/2019</td>\n      <td>Banglore</td>\n      <td>New Delhi</td>\n      <td>BLR → DEL</td>\n      <td>22:20</td>\n      <td>01:10 22 Mar</td>\n      <td>2h 50m</td>\n      <td>non-stop</td>\n      <td>No info</td>\n      <td>3897</td>\n    </tr>\n    <tr>\n      <th>1</th>\n      <td>Air India</td>\n      <td>1/05/2019</td>\n      <td>Kolkata</td>\n      <td>Banglore</td>\n      <td>CCU → IXR → BBI → BLR</td>\n      <td>05:50</td>\n      <td>13:15</td>\n      <td>7h 25m</td>\n      <td>2 stops</td>\n      <td>No info</td>\n      <td>7662</td>\n    </tr>\n    <tr>\n      <th>2</th>\n      <td>Jet Airways</td>\n      <td>9/06/2019</td>\n      <td>Delhi</td>\n      <td>Cochin</td>\n      <td>DEL → LKO → BOM → COK</td>\n      <td>09:25</td>\n      <td>04:25 10 Jun</td>\n      <td>19h</td>\n      <td>2 stops</td>\n      <td>No info</td>\n      <td>13882</td>\n    </tr>\n    <tr>\n      <th>3</th>\n      <td>IndiGo</td>\n      <td>12/05/2019</td>\n      <td>Kolkata</td>\n      <td>Banglore</td>\n      <td>CCU → NAG → BLR</td>\n      <td>18:05</td>\n      <td>23:30</td>\n      <td>5h 25m</td>\n      <td>1 stop</td>\n      <td>No info</td>\n      <td>6218</td>\n    </tr>\n  </tbody>\n</table>\n</div>"
     },
     "execution_count": 5,
     "metadata": {},
     "output_type": "execute_result"
    }
   ],
   "source": [
    "train_data.head(4)"
   ],
   "metadata": {
    "collapsed": false,
    "ExecuteTime": {
     "end_time": "2023-06-16T09:30:56.735160600Z",
     "start_time": "2023-06-16T09:30:56.712220900Z"
    }
   }
  },
  {
   "cell_type": "code",
   "execution_count": 6,
   "outputs": [
    {
     "data": {
      "text/plain": "           Airline Date_of_Journey    Source Destination  \\\n10679    Air India      27/04/2019   Kolkata    Banglore   \n10680  Jet Airways      27/04/2019  Banglore       Delhi   \n10681      Vistara      01/03/2019  Banglore   New Delhi   \n10682    Air India       9/05/2019     Delhi      Cochin   \n\n                       Route Dep_Time Arrival_Time Duration Total_Stops  \\\n10679              CCU → BLR    20:45        23:20   2h 35m    non-stop   \n10680              BLR → DEL    08:20        11:20       3h    non-stop   \n10681              BLR → DEL    11:30        14:10   2h 40m    non-stop   \n10682  DEL → GOI → BOM → COK    10:55        19:15   8h 20m     2 stops   \n\n      Additional_Info  Price  \n10679         No info   4145  \n10680         No info   7229  \n10681         No info  12648  \n10682         No info  11753  ",
      "text/html": "<div>\n<style scoped>\n    .dataframe tbody tr th:only-of-type {\n        vertical-align: middle;\n    }\n\n    .dataframe tbody tr th {\n        vertical-align: top;\n    }\n\n    .dataframe thead th {\n        text-align: right;\n    }\n</style>\n<table border=\"1\" class=\"dataframe\">\n  <thead>\n    <tr style=\"text-align: right;\">\n      <th></th>\n      <th>Airline</th>\n      <th>Date_of_Journey</th>\n      <th>Source</th>\n      <th>Destination</th>\n      <th>Route</th>\n      <th>Dep_Time</th>\n      <th>Arrival_Time</th>\n      <th>Duration</th>\n      <th>Total_Stops</th>\n      <th>Additional_Info</th>\n      <th>Price</th>\n    </tr>\n  </thead>\n  <tbody>\n    <tr>\n      <th>10679</th>\n      <td>Air India</td>\n      <td>27/04/2019</td>\n      <td>Kolkata</td>\n      <td>Banglore</td>\n      <td>CCU → BLR</td>\n      <td>20:45</td>\n      <td>23:20</td>\n      <td>2h 35m</td>\n      <td>non-stop</td>\n      <td>No info</td>\n      <td>4145</td>\n    </tr>\n    <tr>\n      <th>10680</th>\n      <td>Jet Airways</td>\n      <td>27/04/2019</td>\n      <td>Banglore</td>\n      <td>Delhi</td>\n      <td>BLR → DEL</td>\n      <td>08:20</td>\n      <td>11:20</td>\n      <td>3h</td>\n      <td>non-stop</td>\n      <td>No info</td>\n      <td>7229</td>\n    </tr>\n    <tr>\n      <th>10681</th>\n      <td>Vistara</td>\n      <td>01/03/2019</td>\n      <td>Banglore</td>\n      <td>New Delhi</td>\n      <td>BLR → DEL</td>\n      <td>11:30</td>\n      <td>14:10</td>\n      <td>2h 40m</td>\n      <td>non-stop</td>\n      <td>No info</td>\n      <td>12648</td>\n    </tr>\n    <tr>\n      <th>10682</th>\n      <td>Air India</td>\n      <td>9/05/2019</td>\n      <td>Delhi</td>\n      <td>Cochin</td>\n      <td>DEL → GOI → BOM → COK</td>\n      <td>10:55</td>\n      <td>19:15</td>\n      <td>8h 20m</td>\n      <td>2 stops</td>\n      <td>No info</td>\n      <td>11753</td>\n    </tr>\n  </tbody>\n</table>\n</div>"
     },
     "execution_count": 6,
     "metadata": {},
     "output_type": "execute_result"
    }
   ],
   "source": [
    "train_data.tail(4)"
   ],
   "metadata": {
    "collapsed": false,
    "ExecuteTime": {
     "end_time": "2023-06-16T09:31:12.640096600Z",
     "start_time": "2023-06-16T09:31:12.581256500Z"
    }
   }
  },
  {
   "cell_type": "code",
   "execution_count": 7,
   "outputs": [
    {
     "name": "stdout",
     "output_type": "stream",
     "text": [
      "<class 'pandas.core.frame.DataFrame'>\n",
      "RangeIndex: 10683 entries, 0 to 10682\n",
      "Data columns (total 11 columns):\n",
      " #   Column           Non-Null Count  Dtype \n",
      "---  ------           --------------  ----- \n",
      " 0   Airline          10683 non-null  object\n",
      " 1   Date_of_Journey  10683 non-null  object\n",
      " 2   Source           10683 non-null  object\n",
      " 3   Destination      10683 non-null  object\n",
      " 4   Route            10682 non-null  object\n",
      " 5   Dep_Time         10683 non-null  object\n",
      " 6   Arrival_Time     10683 non-null  object\n",
      " 7   Duration         10683 non-null  object\n",
      " 8   Total_Stops      10682 non-null  object\n",
      " 9   Additional_Info  10683 non-null  object\n",
      " 10  Price            10683 non-null  int64 \n",
      "dtypes: int64(1), object(10)\n",
      "memory usage: 918.2+ KB\n"
     ]
    }
   ],
   "source": [
    "train_data.info()"
   ],
   "metadata": {
    "collapsed": false,
    "ExecuteTime": {
     "end_time": "2023-06-16T09:47:23.741129100Z",
     "start_time": "2023-06-16T09:47:23.726168500Z"
    }
   }
  },
  {
   "cell_type": "code",
   "execution_count": 9,
   "outputs": [
    {
     "data": {
      "text/plain": "Airline            0\nDate_of_Journey    0\nSource             0\nDestination        0\nRoute              1\nDep_Time           0\nArrival_Time       0\nDuration           0\nTotal_Stops        1\nAdditional_Info    0\nPrice              0\ndtype: int64"
     },
     "execution_count": 9,
     "metadata": {},
     "output_type": "execute_result"
    }
   ],
   "source": [
    "train_data.isnull().sum()"
   ],
   "metadata": {
    "collapsed": false,
    "ExecuteTime": {
     "end_time": "2023-06-16T09:48:49.446547600Z",
     "start_time": "2023-06-16T09:48:49.434230300Z"
    }
   }
  },
  {
   "cell_type": "code",
   "execution_count": 10,
   "outputs": [
    {
     "data": {
      "text/plain": "0        False\n1        False\n2        False\n3        False\n4        False\n         ...  \n10678    False\n10679    False\n10680    False\n10681    False\n10682    False\nName: Total_Stops, Length: 10683, dtype: bool"
     },
     "execution_count": 10,
     "metadata": {},
     "output_type": "execute_result"
    }
   ],
   "source": [
    "train_data[\"Total_Stops\"].isnull()"
   ],
   "metadata": {
    "collapsed": false,
    "ExecuteTime": {
     "end_time": "2023-06-16T09:49:34.688669200Z",
     "start_time": "2023-06-16T09:49:34.683712500Z"
    }
   }
  },
  {
   "cell_type": "code",
   "execution_count": 11,
   "outputs": [
    {
     "data": {
      "text/plain": "        Airline Date_of_Journey Source Destination Route Dep_Time  \\\n9039  Air India       6/05/2019  Delhi      Cochin   NaN    09:45   \n\n      Arrival_Time Duration Total_Stops Additional_Info  Price  \n9039  09:25 07 May  23h 40m         NaN         No info   7480  ",
      "text/html": "<div>\n<style scoped>\n    .dataframe tbody tr th:only-of-type {\n        vertical-align: middle;\n    }\n\n    .dataframe tbody tr th {\n        vertical-align: top;\n    }\n\n    .dataframe thead th {\n        text-align: right;\n    }\n</style>\n<table border=\"1\" class=\"dataframe\">\n  <thead>\n    <tr style=\"text-align: right;\">\n      <th></th>\n      <th>Airline</th>\n      <th>Date_of_Journey</th>\n      <th>Source</th>\n      <th>Destination</th>\n      <th>Route</th>\n      <th>Dep_Time</th>\n      <th>Arrival_Time</th>\n      <th>Duration</th>\n      <th>Total_Stops</th>\n      <th>Additional_Info</th>\n      <th>Price</th>\n    </tr>\n  </thead>\n  <tbody>\n    <tr>\n      <th>9039</th>\n      <td>Air India</td>\n      <td>6/05/2019</td>\n      <td>Delhi</td>\n      <td>Cochin</td>\n      <td>NaN</td>\n      <td>09:45</td>\n      <td>09:25 07 May</td>\n      <td>23h 40m</td>\n      <td>NaN</td>\n      <td>No info</td>\n      <td>7480</td>\n    </tr>\n  </tbody>\n</table>\n</div>"
     },
     "execution_count": 11,
     "metadata": {},
     "output_type": "execute_result"
    }
   ],
   "source": [
    "train_data[train_data[\"Total_Stops\"].isnull()]"
   ],
   "metadata": {
    "collapsed": false,
    "ExecuteTime": {
     "end_time": "2023-06-16T09:50:05.581754900Z",
     "start_time": "2023-06-16T09:50:05.544853900Z"
    }
   }
  },
  {
   "cell_type": "code",
   "execution_count": 12,
   "outputs": [],
   "source": [
    "train_data.dropna(inplace=True)"
   ],
   "metadata": {
    "collapsed": false,
    "ExecuteTime": {
     "end_time": "2023-06-16T09:51:01.506203800Z",
     "start_time": "2023-06-16T09:51:01.472290500Z"
    }
   }
  },
  {
   "cell_type": "code",
   "execution_count": 13,
   "outputs": [
    {
     "data": {
      "text/plain": "Airline            0\nDate_of_Journey    0\nSource             0\nDestination        0\nRoute              0\nDep_Time           0\nArrival_Time       0\nDuration           0\nTotal_Stops        0\nAdditional_Info    0\nPrice              0\ndtype: int64"
     },
     "execution_count": 13,
     "metadata": {},
     "output_type": "execute_result"
    }
   ],
   "source": [
    "train_data.isnull().sum()"
   ],
   "metadata": {
    "collapsed": false,
    "ExecuteTime": {
     "end_time": "2023-06-16T09:51:19.471533500Z",
     "start_time": "2023-06-16T09:51:19.443612600Z"
    }
   }
  },
  {
   "cell_type": "code",
   "execution_count": 14,
   "outputs": [
    {
     "data": {
      "text/plain": "Airline            object\nDate_of_Journey    object\nSource             object\nDestination        object\nRoute              object\nDep_Time           object\nArrival_Time       object\nDuration           object\nTotal_Stops        object\nAdditional_Info    object\nPrice               int64\ndtype: object"
     },
     "execution_count": 14,
     "metadata": {},
     "output_type": "execute_result"
    }
   ],
   "source": [
    "train_data.dtypes"
   ],
   "metadata": {
    "collapsed": false,
    "ExecuteTime": {
     "end_time": "2023-06-16T09:51:42.504496600Z",
     "start_time": "2023-06-16T09:51:42.497514900Z"
    }
   }
  },
  {
   "cell_type": "code",
   "execution_count": 15,
   "outputs": [
    {
     "name": "stdout",
     "output_type": "stream",
     "text": [
      "<class 'pandas.core.frame.DataFrame'>\n",
      "Int64Index: 10682 entries, 0 to 10682\n",
      "Data columns (total 11 columns):\n",
      " #   Column           Non-Null Count  Dtype \n",
      "---  ------           --------------  ----- \n",
      " 0   Airline          10682 non-null  object\n",
      " 1   Date_of_Journey  10682 non-null  object\n",
      " 2   Source           10682 non-null  object\n",
      " 3   Destination      10682 non-null  object\n",
      " 4   Route            10682 non-null  object\n",
      " 5   Dep_Time         10682 non-null  object\n",
      " 6   Arrival_Time     10682 non-null  object\n",
      " 7   Duration         10682 non-null  object\n",
      " 8   Total_Stops      10682 non-null  object\n",
      " 9   Additional_Info  10682 non-null  object\n",
      " 10  Price            10682 non-null  int64 \n",
      "dtypes: int64(1), object(10)\n",
      "memory usage: 7.2 MB\n"
     ]
    }
   ],
   "source": [
    "train_data.info(memory_usage=\"deep\")"
   ],
   "metadata": {
    "collapsed": false,
    "ExecuteTime": {
     "end_time": "2023-06-16T09:56:13.358733200Z",
     "start_time": "2023-06-16T09:56:13.319836100Z"
    }
   }
  },
  {
   "cell_type": "code",
   "execution_count": 16,
   "outputs": [],
   "source": [
    "data = train_data.copy()"
   ],
   "metadata": {
    "collapsed": false,
    "ExecuteTime": {
     "end_time": "2023-06-16T09:59:02.886203Z",
     "start_time": "2023-06-16T09:59:02.869247Z"
    }
   }
  },
  {
   "cell_type": "code",
   "execution_count": null,
   "outputs": [],
   "source": [],
   "metadata": {
    "collapsed": false
   }
  },
  {
   "cell_type": "code",
   "execution_count": 18,
   "outputs": [
    {
     "data": {
      "text/plain": "Index(['Airline', 'Date_of_Journey', 'Source', 'Destination', 'Route',\n       'Dep_Time', 'Arrival_Time', 'Duration', 'Total_Stops',\n       'Additional_Info', 'Price'],\n      dtype='object')"
     },
     "execution_count": 18,
     "metadata": {},
     "output_type": "execute_result"
    }
   ],
   "source": [
    "data.columns"
   ],
   "metadata": {
    "collapsed": false,
    "ExecuteTime": {
     "end_time": "2023-06-16T10:00:31.086046600Z",
     "start_time": "2023-06-16T10:00:31.064179700Z"
    }
   }
  },
  {
   "cell_type": "code",
   "execution_count": 19,
   "outputs": [
    {
     "data": {
      "text/plain": "     Airline Date_of_Journey    Source Destination                  Route  \\\n0     IndiGo      24/03/2019  Banglore   New Delhi              BLR → DEL   \n1  Air India       1/05/2019   Kolkata    Banglore  CCU → IXR → BBI → BLR   \n\n  Dep_Time  Arrival_Time Duration Total_Stops Additional_Info  Price  \n0    22:20  01:10 22 Mar   2h 50m    non-stop         No info   3897  \n1    05:50         13:15   7h 25m     2 stops         No info   7662  ",
      "text/html": "<div>\n<style scoped>\n    .dataframe tbody tr th:only-of-type {\n        vertical-align: middle;\n    }\n\n    .dataframe tbody tr th {\n        vertical-align: top;\n    }\n\n    .dataframe thead th {\n        text-align: right;\n    }\n</style>\n<table border=\"1\" class=\"dataframe\">\n  <thead>\n    <tr style=\"text-align: right;\">\n      <th></th>\n      <th>Airline</th>\n      <th>Date_of_Journey</th>\n      <th>Source</th>\n      <th>Destination</th>\n      <th>Route</th>\n      <th>Dep_Time</th>\n      <th>Arrival_Time</th>\n      <th>Duration</th>\n      <th>Total_Stops</th>\n      <th>Additional_Info</th>\n      <th>Price</th>\n    </tr>\n  </thead>\n  <tbody>\n    <tr>\n      <th>0</th>\n      <td>IndiGo</td>\n      <td>24/03/2019</td>\n      <td>Banglore</td>\n      <td>New Delhi</td>\n      <td>BLR → DEL</td>\n      <td>22:20</td>\n      <td>01:10 22 Mar</td>\n      <td>2h 50m</td>\n      <td>non-stop</td>\n      <td>No info</td>\n      <td>3897</td>\n    </tr>\n    <tr>\n      <th>1</th>\n      <td>Air India</td>\n      <td>1/05/2019</td>\n      <td>Kolkata</td>\n      <td>Banglore</td>\n      <td>CCU → IXR → BBI → BLR</td>\n      <td>05:50</td>\n      <td>13:15</td>\n      <td>7h 25m</td>\n      <td>2 stops</td>\n      <td>No info</td>\n      <td>7662</td>\n    </tr>\n  </tbody>\n</table>\n</div>"
     },
     "execution_count": 19,
     "metadata": {},
     "output_type": "execute_result"
    }
   ],
   "source": [
    "data.head(2)"
   ],
   "metadata": {
    "collapsed": false,
    "ExecuteTime": {
     "end_time": "2023-06-16T10:01:00.987320400Z",
     "start_time": "2023-06-16T10:01:00.924599300Z"
    }
   }
  },
  {
   "cell_type": "code",
   "execution_count": 20,
   "outputs": [
    {
     "data": {
      "text/plain": "Airline            object\nDate_of_Journey    object\nSource             object\nDestination        object\nRoute              object\nDep_Time           object\nArrival_Time       object\nDuration           object\nTotal_Stops        object\nAdditional_Info    object\nPrice               int64\ndtype: object"
     },
     "execution_count": 20,
     "metadata": {},
     "output_type": "execute_result"
    }
   ],
   "source": [
    "data.dtypes"
   ],
   "metadata": {
    "collapsed": false,
    "ExecuteTime": {
     "end_time": "2023-06-16T10:02:39.646069600Z",
     "start_time": "2023-06-16T10:02:39.640085700Z"
    }
   }
  },
  {
   "cell_type": "code",
   "execution_count": 24,
   "outputs": [],
   "source": [
    "def change_into_datetime(column):\n",
    "    data[column] = pd.to_datetime(data[column])"
   ],
   "metadata": {
    "collapsed": false,
    "ExecuteTime": {
     "end_time": "2023-06-16T10:07:44.515628800Z",
     "start_time": "2023-06-16T10:07:44.504657900Z"
    }
   }
  },
  {
   "cell_type": "code",
   "execution_count": 25,
   "outputs": [],
   "source": [
    "import warnings\n",
    "from warnings import filterwarnings\n",
    "filterwarnings(\"ignore\")"
   ],
   "metadata": {
    "collapsed": false,
    "ExecuteTime": {
     "end_time": "2023-06-16T10:07:49.258442Z",
     "start_time": "2023-06-16T10:07:49.238496100Z"
    }
   }
  },
  {
   "cell_type": "code",
   "execution_count": 21,
   "outputs": [
    {
     "data": {
      "text/plain": "Index(['Airline', 'Date_of_Journey', 'Source', 'Destination', 'Route',\n       'Dep_Time', 'Arrival_Time', 'Duration', 'Total_Stops',\n       'Additional_Info', 'Price'],\n      dtype='object')"
     },
     "execution_count": 21,
     "metadata": {},
     "output_type": "execute_result"
    }
   ],
   "source": [
    "data.columns"
   ],
   "metadata": {
    "collapsed": false,
    "ExecuteTime": {
     "end_time": "2023-06-16T10:06:05.126154Z",
     "start_time": "2023-06-16T10:06:05.120167900Z"
    }
   }
  },
  {
   "cell_type": "code",
   "execution_count": 26,
   "outputs": [],
   "source": [
    "for feature in ['Dep_Time', 'Arrival_Time', 'Date_of_Journey']:\n",
    "    change_into_datetime(feature)"
   ],
   "metadata": {
    "collapsed": false,
    "ExecuteTime": {
     "end_time": "2023-06-16T10:07:52.976654500Z",
     "start_time": "2023-06-16T10:07:52.825061400Z"
    }
   }
  },
  {
   "cell_type": "code",
   "execution_count": 27,
   "outputs": [
    {
     "data": {
      "text/plain": "Airline                    object\nDate_of_Journey    datetime64[ns]\nSource                     object\nDestination                object\nRoute                      object\nDep_Time           datetime64[ns]\nArrival_Time       datetime64[ns]\nDuration                   object\nTotal_Stops                object\nAdditional_Info            object\nPrice                       int64\ndtype: object"
     },
     "execution_count": 27,
     "metadata": {},
     "output_type": "execute_result"
    }
   ],
   "source": [
    "data.dtypes"
   ],
   "metadata": {
    "collapsed": false,
    "ExecuteTime": {
     "end_time": "2023-06-16T10:07:56.035158300Z",
     "start_time": "2023-06-16T10:07:56.028178100Z"
    }
   }
  },
  {
   "cell_type": "code",
   "execution_count": 32,
   "outputs": [],
   "source": [
    "data[\"Journey_Day\"] = data[\"Date_of_Journey\"].dt.day"
   ],
   "metadata": {
    "collapsed": false,
    "ExecuteTime": {
     "end_time": "2023-06-16T10:11:03.343950Z",
     "start_time": "2023-06-16T10:11:03.317805500Z"
    }
   }
  },
  {
   "cell_type": "code",
   "execution_count": 31,
   "outputs": [],
   "source": [
    "data[\"Journey_Month\"] = data[\"Date_of_Journey\"].dt.month"
   ],
   "metadata": {
    "collapsed": false,
    "ExecuteTime": {
     "end_time": "2023-06-16T10:11:01.673994700Z",
     "start_time": "2023-06-16T10:11:01.645195100Z"
    }
   }
  },
  {
   "cell_type": "code",
   "execution_count": 30,
   "outputs": [],
   "source": [
    "data[\"Journey_Year\"] = data[\"Date_of_Journey\"].dt.year"
   ],
   "metadata": {
    "collapsed": false,
    "ExecuteTime": {
     "end_time": "2023-06-16T10:10:54.194499400Z",
     "start_time": "2023-06-16T10:10:54.187489400Z"
    }
   }
  },
  {
   "cell_type": "code",
   "execution_count": 33,
   "outputs": [
    {
     "data": {
      "text/plain": "       Airline Date_of_Journey    Source Destination                  Route  \\\n0       IndiGo      2019-03-24  Banglore   New Delhi              BLR → DEL   \n1    Air India      2019-01-05   Kolkata    Banglore  CCU → IXR → BBI → BLR   \n2  Jet Airways      2019-09-06     Delhi      Cochin  DEL → LKO → BOM → COK   \n\n             Dep_Time        Arrival_Time Duration Total_Stops  \\\n0 2023-06-16 22:20:00 2023-03-22 01:10:00   2h 50m    non-stop   \n1 2023-06-16 05:50:00 2023-06-16 13:15:00   7h 25m     2 stops   \n2 2023-06-16 09:25:00 2023-06-10 04:25:00      19h     2 stops   \n\n  Additional_Info  Price  Journey_Year  Journey_Month  Journey_Day  \n0         No info   3897          2019              3           24  \n1         No info   7662          2019              1            5  \n2         No info  13882          2019              9            6  ",
      "text/html": "<div>\n<style scoped>\n    .dataframe tbody tr th:only-of-type {\n        vertical-align: middle;\n    }\n\n    .dataframe tbody tr th {\n        vertical-align: top;\n    }\n\n    .dataframe thead th {\n        text-align: right;\n    }\n</style>\n<table border=\"1\" class=\"dataframe\">\n  <thead>\n    <tr style=\"text-align: right;\">\n      <th></th>\n      <th>Airline</th>\n      <th>Date_of_Journey</th>\n      <th>Source</th>\n      <th>Destination</th>\n      <th>Route</th>\n      <th>Dep_Time</th>\n      <th>Arrival_Time</th>\n      <th>Duration</th>\n      <th>Total_Stops</th>\n      <th>Additional_Info</th>\n      <th>Price</th>\n      <th>Journey_Year</th>\n      <th>Journey_Month</th>\n      <th>Journey_Day</th>\n    </tr>\n  </thead>\n  <tbody>\n    <tr>\n      <th>0</th>\n      <td>IndiGo</td>\n      <td>2019-03-24</td>\n      <td>Banglore</td>\n      <td>New Delhi</td>\n      <td>BLR → DEL</td>\n      <td>2023-06-16 22:20:00</td>\n      <td>2023-03-22 01:10:00</td>\n      <td>2h 50m</td>\n      <td>non-stop</td>\n      <td>No info</td>\n      <td>3897</td>\n      <td>2019</td>\n      <td>3</td>\n      <td>24</td>\n    </tr>\n    <tr>\n      <th>1</th>\n      <td>Air India</td>\n      <td>2019-01-05</td>\n      <td>Kolkata</td>\n      <td>Banglore</td>\n      <td>CCU → IXR → BBI → BLR</td>\n      <td>2023-06-16 05:50:00</td>\n      <td>2023-06-16 13:15:00</td>\n      <td>7h 25m</td>\n      <td>2 stops</td>\n      <td>No info</td>\n      <td>7662</td>\n      <td>2019</td>\n      <td>1</td>\n      <td>5</td>\n    </tr>\n    <tr>\n      <th>2</th>\n      <td>Jet Airways</td>\n      <td>2019-09-06</td>\n      <td>Delhi</td>\n      <td>Cochin</td>\n      <td>DEL → LKO → BOM → COK</td>\n      <td>2023-06-16 09:25:00</td>\n      <td>2023-06-10 04:25:00</td>\n      <td>19h</td>\n      <td>2 stops</td>\n      <td>No info</td>\n      <td>13882</td>\n      <td>2019</td>\n      <td>9</td>\n      <td>6</td>\n    </tr>\n  </tbody>\n</table>\n</div>"
     },
     "execution_count": 33,
     "metadata": {},
     "output_type": "execute_result"
    }
   ],
   "source": [
    "data.head(3)"
   ],
   "metadata": {
    "collapsed": false,
    "ExecuteTime": {
     "end_time": "2023-06-16T10:11:12.594502800Z",
     "start_time": "2023-06-16T10:11:12.564586600Z"
    }
   }
  },
  {
   "cell_type": "code",
   "execution_count": 34,
   "outputs": [],
   "source": [
    "def extract_hour_minute(df, col):\n",
    "    df[col+\"_hour\"] = df[col].dt.hour\n",
    "    df[col+\"_minute\"] = df[col].dt.minute\n",
    "    return df.head(3)"
   ],
   "metadata": {
    "collapsed": false,
    "ExecuteTime": {
     "end_time": "2023-06-16T10:27:07.706914Z",
     "start_time": "2023-06-16T10:27:07.681978900Z"
    }
   }
  },
  {
   "cell_type": "code",
   "execution_count": 36,
   "outputs": [
    {
     "data": {
      "text/plain": "       Airline Date_of_Journey    Source Destination                  Route  \\\n0       IndiGo      2019-03-24  Banglore   New Delhi              BLR → DEL   \n1    Air India      2019-01-05   Kolkata    Banglore  CCU → IXR → BBI → BLR   \n2  Jet Airways      2019-09-06     Delhi      Cochin  DEL → LKO → BOM → COK   \n\n             Dep_Time        Arrival_Time Duration Total_Stops  \\\n0 2023-06-16 22:20:00 2023-03-22 01:10:00   2h 50m    non-stop   \n1 2023-06-16 05:50:00 2023-06-16 13:15:00   7h 25m     2 stops   \n2 2023-06-16 09:25:00 2023-06-10 04:25:00      19h     2 stops   \n\n  Additional_Info  Price  Journey_Year  Journey_Month  Journey_Day  \\\n0         No info   3897          2019              3           24   \n1         No info   7662          2019              1            5   \n2         No info  13882          2019              9            6   \n\n   Dep_Time_hour  Dep_Time_minute  \n0             22               20  \n1              5               50  \n2              9               25  ",
      "text/html": "<div>\n<style scoped>\n    .dataframe tbody tr th:only-of-type {\n        vertical-align: middle;\n    }\n\n    .dataframe tbody tr th {\n        vertical-align: top;\n    }\n\n    .dataframe thead th {\n        text-align: right;\n    }\n</style>\n<table border=\"1\" class=\"dataframe\">\n  <thead>\n    <tr style=\"text-align: right;\">\n      <th></th>\n      <th>Airline</th>\n      <th>Date_of_Journey</th>\n      <th>Source</th>\n      <th>Destination</th>\n      <th>Route</th>\n      <th>Dep_Time</th>\n      <th>Arrival_Time</th>\n      <th>Duration</th>\n      <th>Total_Stops</th>\n      <th>Additional_Info</th>\n      <th>Price</th>\n      <th>Journey_Year</th>\n      <th>Journey_Month</th>\n      <th>Journey_Day</th>\n      <th>Dep_Time_hour</th>\n      <th>Dep_Time_minute</th>\n    </tr>\n  </thead>\n  <tbody>\n    <tr>\n      <th>0</th>\n      <td>IndiGo</td>\n      <td>2019-03-24</td>\n      <td>Banglore</td>\n      <td>New Delhi</td>\n      <td>BLR → DEL</td>\n      <td>2023-06-16 22:20:00</td>\n      <td>2023-03-22 01:10:00</td>\n      <td>2h 50m</td>\n      <td>non-stop</td>\n      <td>No info</td>\n      <td>3897</td>\n      <td>2019</td>\n      <td>3</td>\n      <td>24</td>\n      <td>22</td>\n      <td>20</td>\n    </tr>\n    <tr>\n      <th>1</th>\n      <td>Air India</td>\n      <td>2019-01-05</td>\n      <td>Kolkata</td>\n      <td>Banglore</td>\n      <td>CCU → IXR → BBI → BLR</td>\n      <td>2023-06-16 05:50:00</td>\n      <td>2023-06-16 13:15:00</td>\n      <td>7h 25m</td>\n      <td>2 stops</td>\n      <td>No info</td>\n      <td>7662</td>\n      <td>2019</td>\n      <td>1</td>\n      <td>5</td>\n      <td>5</td>\n      <td>50</td>\n    </tr>\n    <tr>\n      <th>2</th>\n      <td>Jet Airways</td>\n      <td>2019-09-06</td>\n      <td>Delhi</td>\n      <td>Cochin</td>\n      <td>DEL → LKO → BOM → COK</td>\n      <td>2023-06-16 09:25:00</td>\n      <td>2023-06-10 04:25:00</td>\n      <td>19h</td>\n      <td>2 stops</td>\n      <td>No info</td>\n      <td>13882</td>\n      <td>2019</td>\n      <td>9</td>\n      <td>6</td>\n      <td>9</td>\n      <td>25</td>\n    </tr>\n  </tbody>\n</table>\n</div>"
     },
     "execution_count": 36,
     "metadata": {},
     "output_type": "execute_result"
    }
   ],
   "source": [
    "extract_hour_minute(data, \"Dep_Time\")"
   ],
   "metadata": {
    "collapsed": false,
    "ExecuteTime": {
     "end_time": "2023-06-16T10:27:36.399629900Z",
     "start_time": "2023-06-16T10:27:36.366719Z"
    }
   }
  },
  {
   "cell_type": "code",
   "execution_count": 37,
   "outputs": [
    {
     "data": {
      "text/plain": "       Airline Date_of_Journey    Source Destination                  Route  \\\n0       IndiGo      2019-03-24  Banglore   New Delhi              BLR → DEL   \n1    Air India      2019-01-05   Kolkata    Banglore  CCU → IXR → BBI → BLR   \n2  Jet Airways      2019-09-06     Delhi      Cochin  DEL → LKO → BOM → COK   \n\n             Dep_Time        Arrival_Time Duration Total_Stops  \\\n0 2023-06-16 22:20:00 2023-03-22 01:10:00   2h 50m    non-stop   \n1 2023-06-16 05:50:00 2023-06-16 13:15:00   7h 25m     2 stops   \n2 2023-06-16 09:25:00 2023-06-10 04:25:00      19h     2 stops   \n\n  Additional_Info  Price  Journey_Year  Journey_Month  Journey_Day  \\\n0         No info   3897          2019              3           24   \n1         No info   7662          2019              1            5   \n2         No info  13882          2019              9            6   \n\n   Dep_Time_hour  Dep_Time_minute  Arrival_Time_hour  Arrival_Time_minute  \n0             22               20                  1                   10  \n1              5               50                 13                   15  \n2              9               25                  4                   25  ",
      "text/html": "<div>\n<style scoped>\n    .dataframe tbody tr th:only-of-type {\n        vertical-align: middle;\n    }\n\n    .dataframe tbody tr th {\n        vertical-align: top;\n    }\n\n    .dataframe thead th {\n        text-align: right;\n    }\n</style>\n<table border=\"1\" class=\"dataframe\">\n  <thead>\n    <tr style=\"text-align: right;\">\n      <th></th>\n      <th>Airline</th>\n      <th>Date_of_Journey</th>\n      <th>Source</th>\n      <th>Destination</th>\n      <th>Route</th>\n      <th>Dep_Time</th>\n      <th>Arrival_Time</th>\n      <th>Duration</th>\n      <th>Total_Stops</th>\n      <th>Additional_Info</th>\n      <th>Price</th>\n      <th>Journey_Year</th>\n      <th>Journey_Month</th>\n      <th>Journey_Day</th>\n      <th>Dep_Time_hour</th>\n      <th>Dep_Time_minute</th>\n      <th>Arrival_Time_hour</th>\n      <th>Arrival_Time_minute</th>\n    </tr>\n  </thead>\n  <tbody>\n    <tr>\n      <th>0</th>\n      <td>IndiGo</td>\n      <td>2019-03-24</td>\n      <td>Banglore</td>\n      <td>New Delhi</td>\n      <td>BLR → DEL</td>\n      <td>2023-06-16 22:20:00</td>\n      <td>2023-03-22 01:10:00</td>\n      <td>2h 50m</td>\n      <td>non-stop</td>\n      <td>No info</td>\n      <td>3897</td>\n      <td>2019</td>\n      <td>3</td>\n      <td>24</td>\n      <td>22</td>\n      <td>20</td>\n      <td>1</td>\n      <td>10</td>\n    </tr>\n    <tr>\n      <th>1</th>\n      <td>Air India</td>\n      <td>2019-01-05</td>\n      <td>Kolkata</td>\n      <td>Banglore</td>\n      <td>CCU → IXR → BBI → BLR</td>\n      <td>2023-06-16 05:50:00</td>\n      <td>2023-06-16 13:15:00</td>\n      <td>7h 25m</td>\n      <td>2 stops</td>\n      <td>No info</td>\n      <td>7662</td>\n      <td>2019</td>\n      <td>1</td>\n      <td>5</td>\n      <td>5</td>\n      <td>50</td>\n      <td>13</td>\n      <td>15</td>\n    </tr>\n    <tr>\n      <th>2</th>\n      <td>Jet Airways</td>\n      <td>2019-09-06</td>\n      <td>Delhi</td>\n      <td>Cochin</td>\n      <td>DEL → LKO → BOM → COK</td>\n      <td>2023-06-16 09:25:00</td>\n      <td>2023-06-10 04:25:00</td>\n      <td>19h</td>\n      <td>2 stops</td>\n      <td>No info</td>\n      <td>13882</td>\n      <td>2019</td>\n      <td>9</td>\n      <td>6</td>\n      <td>9</td>\n      <td>25</td>\n      <td>4</td>\n      <td>25</td>\n    </tr>\n  </tbody>\n</table>\n</div>"
     },
     "execution_count": 37,
     "metadata": {},
     "output_type": "execute_result"
    }
   ],
   "source": [
    "extract_hour_minute(data, \"Arrival_Time\")"
   ],
   "metadata": {
    "collapsed": false,
    "ExecuteTime": {
     "end_time": "2023-06-16T10:27:50.010419900Z",
     "start_time": "2023-06-16T10:27:49.983491900Z"
    }
   }
  },
  {
   "cell_type": "code",
   "execution_count": 38,
   "outputs": [],
   "source": [
    "columns_to_drop = [\"Arrival_Time\", \"Dep_Time\"]\n",
    "\n",
    "data.drop(columns_to_drop, axis=1, inplace=True)"
   ],
   "metadata": {
    "collapsed": false,
    "ExecuteTime": {
     "end_time": "2023-06-16T10:29:05.197388200Z",
     "start_time": "2023-06-16T10:29:05.149520900Z"
    }
   }
  },
  {
   "cell_type": "code",
   "execution_count": 39,
   "outputs": [
    {
     "data": {
      "text/plain": "       Airline Date_of_Journey    Source Destination                  Route  \\\n0       IndiGo      2019-03-24  Banglore   New Delhi              BLR → DEL   \n1    Air India      2019-01-05   Kolkata    Banglore  CCU → IXR → BBI → BLR   \n2  Jet Airways      2019-09-06     Delhi      Cochin  DEL → LKO → BOM → COK   \n\n  Duration Total_Stops Additional_Info  Price  Journey_Year  Journey_Month  \\\n0   2h 50m    non-stop         No info   3897          2019              3   \n1   7h 25m     2 stops         No info   7662          2019              1   \n2      19h     2 stops         No info  13882          2019              9   \n\n   Journey_Day  Dep_Time_hour  Dep_Time_minute  Arrival_Time_hour  \\\n0           24             22               20                  1   \n1            5              5               50                 13   \n2            6              9               25                  4   \n\n   Arrival_Time_minute  \n0                   10  \n1                   15  \n2                   25  ",
      "text/html": "<div>\n<style scoped>\n    .dataframe tbody tr th:only-of-type {\n        vertical-align: middle;\n    }\n\n    .dataframe tbody tr th {\n        vertical-align: top;\n    }\n\n    .dataframe thead th {\n        text-align: right;\n    }\n</style>\n<table border=\"1\" class=\"dataframe\">\n  <thead>\n    <tr style=\"text-align: right;\">\n      <th></th>\n      <th>Airline</th>\n      <th>Date_of_Journey</th>\n      <th>Source</th>\n      <th>Destination</th>\n      <th>Route</th>\n      <th>Duration</th>\n      <th>Total_Stops</th>\n      <th>Additional_Info</th>\n      <th>Price</th>\n      <th>Journey_Year</th>\n      <th>Journey_Month</th>\n      <th>Journey_Day</th>\n      <th>Dep_Time_hour</th>\n      <th>Dep_Time_minute</th>\n      <th>Arrival_Time_hour</th>\n      <th>Arrival_Time_minute</th>\n    </tr>\n  </thead>\n  <tbody>\n    <tr>\n      <th>0</th>\n      <td>IndiGo</td>\n      <td>2019-03-24</td>\n      <td>Banglore</td>\n      <td>New Delhi</td>\n      <td>BLR → DEL</td>\n      <td>2h 50m</td>\n      <td>non-stop</td>\n      <td>No info</td>\n      <td>3897</td>\n      <td>2019</td>\n      <td>3</td>\n      <td>24</td>\n      <td>22</td>\n      <td>20</td>\n      <td>1</td>\n      <td>10</td>\n    </tr>\n    <tr>\n      <th>1</th>\n      <td>Air India</td>\n      <td>2019-01-05</td>\n      <td>Kolkata</td>\n      <td>Banglore</td>\n      <td>CCU → IXR → BBI → BLR</td>\n      <td>7h 25m</td>\n      <td>2 stops</td>\n      <td>No info</td>\n      <td>7662</td>\n      <td>2019</td>\n      <td>1</td>\n      <td>5</td>\n      <td>5</td>\n      <td>50</td>\n      <td>13</td>\n      <td>15</td>\n    </tr>\n    <tr>\n      <th>2</th>\n      <td>Jet Airways</td>\n      <td>2019-09-06</td>\n      <td>Delhi</td>\n      <td>Cochin</td>\n      <td>DEL → LKO → BOM → COK</td>\n      <td>19h</td>\n      <td>2 stops</td>\n      <td>No info</td>\n      <td>13882</td>\n      <td>2019</td>\n      <td>9</td>\n      <td>6</td>\n      <td>9</td>\n      <td>25</td>\n      <td>4</td>\n      <td>25</td>\n    </tr>\n  </tbody>\n</table>\n</div>"
     },
     "execution_count": 39,
     "metadata": {},
     "output_type": "execute_result"
    }
   ],
   "source": [
    "data.head(3)"
   ],
   "metadata": {
    "collapsed": false,
    "ExecuteTime": {
     "end_time": "2023-06-16T10:29:14.639539700Z",
     "start_time": "2023-06-16T10:29:14.572808400Z"
    }
   }
  },
  {
   "cell_type": "code",
   "execution_count": 40,
   "outputs": [
    {
     "data": {
      "text/plain": "(10682, 16)"
     },
     "execution_count": 40,
     "metadata": {},
     "output_type": "execute_result"
    }
   ],
   "source": [
    "data.shape"
   ],
   "metadata": {
    "collapsed": false,
    "ExecuteTime": {
     "end_time": "2023-06-16T10:29:28.188029Z",
     "start_time": "2023-06-16T10:29:28.165546600Z"
    }
   }
  },
  {
   "cell_type": "code",
   "execution_count": 41,
   "outputs": [
    {
     "data": {
      "text/plain": "Index(['Airline', 'Date_of_Journey', 'Source', 'Destination', 'Route',\n       'Duration', 'Total_Stops', 'Additional_Info', 'Price', 'Journey_Year',\n       'Journey_Month', 'Journey_Day', 'Dep_Time_hour', 'Dep_Time_minute',\n       'Arrival_Time_hour', 'Arrival_Time_minute'],\n      dtype='object')"
     },
     "execution_count": 41,
     "metadata": {},
     "output_type": "execute_result"
    }
   ],
   "source": [
    "data.columns"
   ],
   "metadata": {
    "collapsed": false,
    "ExecuteTime": {
     "end_time": "2023-06-16T10:31:52.090949700Z",
     "start_time": "2023-06-16T10:31:52.068010700Z"
    }
   }
  },
  {
   "cell_type": "code",
   "execution_count": 45,
   "outputs": [],
   "source": [
    "def flight_departure_time(x):\n",
    "    if (x>4) and (x<=8):\n",
    "        return \"Early Morning\"\n",
    "    elif (x>8) and (x<=12):\n",
    "        return \"Morning\"\n",
    "    elif (x>12) and (x<=16):\n",
    "        return \"Afternoon\"\n",
    "    elif (x>16) and (x<=20):\n",
    "        return \"Evening\"\n",
    "    elif (x>20) and (x<=24):\n",
    "        return \"Afternoon\"\n",
    "    else:\n",
    "        return \"Late Night\""
   ],
   "metadata": {
    "collapsed": false,
    "ExecuteTime": {
     "end_time": "2023-06-16T10:35:25.235901100Z",
     "start_time": "2023-06-16T10:35:25.224927Z"
    }
   }
  },
  {
   "cell_type": "code",
   "execution_count": 48,
   "outputs": [
    {
     "data": {
      "text/plain": "<Axes: >"
     },
     "execution_count": 48,
     "metadata": {},
     "output_type": "execute_result"
    },
    {
     "data": {
      "text/plain": "<Figure size 640x480 with 1 Axes>",
      "image/png": "[encoded data removed]"
     },
     "metadata": {},
     "output_type": "display_data"
    }
   ],
   "source": [
    "data[\"Dep_Time_hour\"].apply(flight_departure_time).value_counts().plot(kind=\"bar\", color= \"green\")"
   ],
   "metadata": {
    "collapsed": false,
    "ExecuteTime": {
     "end_time": "2023-06-16T10:36:51.129960500Z",
     "start_time": "2023-06-16T10:36:50.827059600Z"
    }
   }
  },
  {
   "cell_type": "code",
   "execution_count": 49,
   "outputs": [
    {
     "name": "stdout",
     "output_type": "stream",
     "text": [
      "Collecting plotly\n",
      "  Downloading plotly-5.15.0-py2.py3-none-any.whl (15.5 MB)\n",
      "                                              0.0/15.5 MB ? eta -:--:--\n",
      "                                              0.0/15.5 MB ? eta -:--:--\n",
      "                                             0.0/15.5 MB 330.3 kB/s eta 0:00:47\n",
      "                                             0.0/15.5 MB 281.8 kB/s eta 0:00:55\n",
      "                                             0.0/15.5 MB 281.8 kB/s eta 0:00:55\n",
      "                                             0.0/15.5 MB 281.8 kB/s eta 0:00:55\n",
      "                                             0.0/15.5 MB 281.8 kB/s eta 0:00:55\n",
      "                                             0.0/15.5 MB 281.8 kB/s eta 0:00:55\n",
      "                                             0.0/15.5 MB 281.8 kB/s eta 0:00:55\n",
      "                                             0.1/15.5 MB 131.3 kB/s eta 0:01:58\n",
      "                                             0.1/15.5 MB 140.6 kB/s eta 0:01:50\n",
      "                                             0.1/15.5 MB 211.6 kB/s eta 0:01:13\n",
      "                                             0.1/15.5 MB 225.3 kB/s eta 0:01:09\n",
      "                                             0.1/15.5 MB 225.3 kB/s eta 0:01:09\n",
      "                                             0.1/15.5 MB 225.3 kB/s eta 0:01:09\n",
      "                                             0.1/15.5 MB 225.3 kB/s eta 0:01:09\n",
      "                                             0.1/15.5 MB 225.3 kB/s eta 0:01:09\n",
      "                                             0.1/15.5 MB 225.3 kB/s eta 0:01:09\n",
      "                                             0.1/15.5 MB 157.9 kB/s eta 0:01:38\n",
      "                                             0.2/15.5 MB 161.1 kB/s eta 0:01:36\n",
      "                                             0.2/15.5 MB 177.9 kB/s eta 0:01:27\n",
      "                                             0.2/15.5 MB 193.4 kB/s eta 0:01:20\n",
      "                                             0.2/15.5 MB 193.4 kB/s eta 0:01:20\n",
      "                                             0.2/15.5 MB 193.4 kB/s eta 0:01:20\n",
      "                                             0.2/15.5 MB 193.4 kB/s eta 0:01:20\n",
      "                                             0.2/15.5 MB 193.4 kB/s eta 0:01:20\n",
      "                                             0.2/15.5 MB 193.4 kB/s eta 0:01:20\n",
      "                                             0.2/15.5 MB 193.4 kB/s eta 0:01:20\n",
      "                                             0.2/15.5 MB 150.1 kB/s eta 0:01:43\n",
      "                                             0.2/15.5 MB 165.8 kB/s eta 0:01:33\n",
      "                                             0.3/15.5 MB 189.4 kB/s eta 0:01:21\n",
      "                                             0.3/15.5 MB 189.4 kB/s eta 0:01:21\n",
      "                                             0.3/15.5 MB 189.4 kB/s eta 0:01:21\n",
      "                                             0.3/15.5 MB 189.4 kB/s eta 0:01:21\n",
      "                                             0.3/15.5 MB 189.4 kB/s eta 0:01:21\n",
      "                                             0.3/15.5 MB 189.4 kB/s eta 0:01:21\n",
      "                                             0.3/15.5 MB 189.4 kB/s eta 0:01:21\n",
      "                                             0.3/15.5 MB 189.4 kB/s eta 0:01:21\n",
      "                                             0.3/15.5 MB 189.4 kB/s eta 0:01:21\n",
      "                                             0.3/15.5 MB 161.1 kB/s eta 0:01:35\n",
      "                                             0.3/15.5 MB 165.2 kB/s eta 0:01:32\n",
      "                                             0.4/15.5 MB 182.7 kB/s eta 0:01:24\n",
      "                                             0.4/15.5 MB 182.7 kB/s eta 0:01:24\n",
      "                                             0.4/15.5 MB 182.7 kB/s eta 0:01:24\n",
      "                                             0.4/15.5 MB 182.7 kB/s eta 0:01:24\n",
      "                                             0.4/15.5 MB 182.7 kB/s eta 0:01:24\n",
      "                                             0.4/15.5 MB 182.7 kB/s eta 0:01:24\n",
      "     -                                       0.4/15.5 MB 174.2 kB/s eta 0:01:27\n",
      "     -                                       0.4/15.5 MB 182.9 kB/s eta 0:01:23\n",
      "     -                                       0.5/15.5 MB 190.4 kB/s eta 0:01:20\n",
      "     -                                       0.5/15.5 MB 190.4 kB/s eta 0:01:20\n",
      "     -                                       0.5/15.5 MB 190.4 kB/s eta 0:01:20\n",
      "     -                                       0.5/15.5 MB 190.4 kB/s eta 0:01:20\n",
      "     -                                       0.5/15.5 MB 190.4 kB/s eta 0:01:20\n",
      "     -                                       0.5/15.5 MB 190.4 kB/s eta 0:01:20\n",
      "     -                                       0.5/15.5 MB 190.4 kB/s eta 0:01:20\n",
      "     -                                       0.5/15.5 MB 176.4 kB/s eta 0:01:26\n",
      "     -                                       0.5/15.5 MB 184.6 kB/s eta 0:01:22\n",
      "     -                                       0.5/15.5 MB 191.0 kB/s eta 0:01:19\n",
      "     -                                       0.5/15.5 MB 191.0 kB/s eta 0:01:19\n",
      "     -                                       0.5/15.5 MB 191.0 kB/s eta 0:01:19\n",
      "     -                                       0.5/15.5 MB 191.0 kB/s eta 0:01:19\n",
      "     -                                       0.5/15.5 MB 191.0 kB/s eta 0:01:19\n",
      "     -                                       0.5/15.5 MB 191.0 kB/s eta 0:01:19\n",
      "     -                                       0.5/15.5 MB 191.0 kB/s eta 0:01:19\n",
      "     -                                       0.5/15.5 MB 172.2 kB/s eta 0:01:27\n",
      "     -                                       0.6/15.5 MB 179.4 kB/s eta 0:01:24\n",
      "     -                                       0.6/15.5 MB 184.9 kB/s eta 0:01:21\n",
      "     -                                       0.6/15.5 MB 184.9 kB/s eta 0:01:21\n",
      "     -                                       0.6/15.5 MB 184.9 kB/s eta 0:01:21\n",
      "     -                                       0.6/15.5 MB 184.9 kB/s eta 0:01:21\n",
      "     -                                       0.6/15.5 MB 184.9 kB/s eta 0:01:21\n",
      "     -                                       0.6/15.5 MB 184.9 kB/s eta 0:01:21\n",
      "     -                                       0.6/15.5 MB 176.3 kB/s eta 0:01:25\n",
      "     -                                       0.7/15.5 MB 182.7 kB/s eta 0:01:22\n",
      "     -                                       0.7/15.5 MB 187.7 kB/s eta 0:01:20\n",
      "     -                                       0.7/15.5 MB 187.7 kB/s eta 0:01:20\n",
      "     -                                       0.7/15.5 MB 187.7 kB/s eta 0:01:20\n",
      "     -                                       0.7/15.5 MB 187.7 kB/s eta 0:01:20\n",
      "     -                                       0.7/15.5 MB 187.7 kB/s eta 0:01:20\n",
      "     -                                       0.7/15.5 MB 187.7 kB/s eta 0:01:20\n",
      "     -                                       0.7/15.5 MB 187.7 kB/s eta 0:01:20\n",
      "     -                                       0.7/15.5 MB 176.4 kB/s eta 0:01:25\n",
      "     -                                       0.7/15.5 MB 176.9 kB/s eta 0:01:24\n",
      "     -                                       0.7/15.5 MB 183.2 kB/s eta 0:01:21\n",
      "     -                                       0.7/15.5 MB 183.2 kB/s eta 0:01:21\n",
      "     -                                       0.7/15.5 MB 183.2 kB/s eta 0:01:21\n",
      "     -                                       0.7/15.5 MB 183.2 kB/s eta 0:01:21\n",
      "     -                                       0.7/15.5 MB 183.2 kB/s eta 0:01:21\n",
      "     -                                       0.7/15.5 MB 183.2 kB/s eta 0:01:21\n",
      "     -                                       0.7/15.5 MB 183.2 kB/s eta 0:01:21\n",
      "     -                                       0.8/15.5 MB 174.0 kB/s eta 0:01:25\n",
      "     --                                      0.8/15.5 MB 183.2 kB/s eta 0:01:21\n",
      "     --                                      0.8/15.5 MB 183.2 kB/s eta 0:01:21\n",
      "     --                                      0.8/15.5 MB 183.2 kB/s eta 0:01:21\n",
      "     --                                      0.8/15.5 MB 183.2 kB/s eta 0:01:21\n",
      "     --                                      0.8/15.5 MB 183.2 kB/s eta 0:01:21\n",
      "     --                                      0.8/15.5 MB 183.2 kB/s eta 0:01:21\n",
      "     --                                      0.8/15.5 MB 183.2 kB/s eta 0:01:21\n",
      "     --                                      0.8/15.5 MB 183.2 kB/s eta 0:01:21\n",
      "     --                                      0.8/15.5 MB 174.6 kB/s eta 0:01:25\n",
      "     --                                      0.9/15.5 MB 179.9 kB/s eta 0:01:22\n",
      "     --                                      0.9/15.5 MB 179.9 kB/s eta 0:01:22\n",
      "     --                                      0.9/15.5 MB 179.9 kB/s eta 0:01:22\n",
      "     --                                      0.9/15.5 MB 179.9 kB/s eta 0:01:22\n",
      "     --                                      0.9/15.5 MB 179.9 kB/s eta 0:01:22\n",
      "     --                                      0.9/15.5 MB 179.9 kB/s eta 0:01:22\n",
      "     --                                      0.9/15.5 MB 179.9 kB/s eta 0:01:22\n",
      "     --                                      0.9/15.5 MB 173.8 kB/s eta 0:01:25\n",
      "     --                                      0.9/15.5 MB 180.2 kB/s eta 0:01:21\n",
      "     --                                      1.0/15.5 MB 181.6 kB/s eta 0:01:21\n",
      "     --                                      1.0/15.5 MB 181.6 kB/s eta 0:01:21\n",
      "     --                                      1.0/15.5 MB 181.6 kB/s eta 0:01:21\n",
      "     --                                      1.0/15.5 MB 181.6 kB/s eta 0:01:21\n",
      "     --                                      1.0/15.5 MB 181.6 kB/s eta 0:01:21\n",
      "     --                                      1.0/15.5 MB 181.6 kB/s eta 0:01:21\n",
      "     --                                      1.0/15.5 MB 176.9 kB/s eta 0:01:23\n",
      "     --                                      1.0/15.5 MB 177.7 kB/s eta 0:01:22\n",
      "     --                                      1.0/15.5 MB 185.4 kB/s eta 0:01:19\n",
      "     --                                      1.0/15.5 MB 185.4 kB/s eta 0:01:19\n",
      "     --                                      1.0/15.5 MB 185.4 kB/s eta 0:01:19\n",
      "     --                                      1.0/15.5 MB 185.4 kB/s eta 0:01:19\n",
      "     --                                      1.0/15.5 MB 185.4 kB/s eta 0:01:19\n",
      "     --                                      1.0/15.5 MB 185.4 kB/s eta 0:01:19\n",
      "     --                                      1.0/15.5 MB 185.4 kB/s eta 0:01:19\n",
      "     --                                      1.1/15.5 MB 179.9 kB/s eta 0:01:21\n",
      "     --                                      1.1/15.5 MB 186.5 kB/s eta 0:01:18\n",
      "     --                                      1.1/15.5 MB 186.5 kB/s eta 0:01:18\n",
      "     --                                      1.1/15.5 MB 186.5 kB/s eta 0:01:18\n",
      "     --                                      1.1/15.5 MB 186.5 kB/s eta 0:01:18\n",
      "     --                                      1.1/15.5 MB 186.5 kB/s eta 0:01:18\n",
      "     --                                      1.1/15.5 MB 186.5 kB/s eta 0:01:18\n",
      "     --                                      1.1/15.5 MB 186.5 kB/s eta 0:01:18\n",
      "     --                                      1.2/15.5 MB 181.7 kB/s eta 0:01:20\n",
      "     ---                                     1.2/15.5 MB 188.4 kB/s eta 0:01:16\n",
      "     ---                                     1.2/15.5 MB 188.4 kB/s eta 0:01:16\n",
      "     ---                                     1.2/15.5 MB 188.4 kB/s eta 0:01:16\n",
      "     ---                                     1.2/15.5 MB 188.4 kB/s eta 0:01:16\n",
      "     ---                                     1.2/15.5 MB 183.9 kB/s eta 0:01:18\n",
      "     ---                                     1.2/15.5 MB 184.6 kB/s eta 0:01:18\n",
      "     ---                                     1.3/15.5 MB 190.5 kB/s eta 0:01:15\n",
      "     ---                                     1.3/15.5 MB 190.5 kB/s eta 0:01:15\n",
      "     ---                                     1.3/15.5 MB 190.5 kB/s eta 0:01:15\n",
      "     ---                                     1.3/15.5 MB 190.5 kB/s eta 0:01:15\n",
      "     ---                                     1.3/15.5 MB 190.5 kB/s eta 0:01:15\n",
      "     ---                                     1.3/15.5 MB 190.5 kB/s eta 0:01:15\n",
      "     ---                                     1.3/15.5 MB 185.8 kB/s eta 0:01:17\n",
      "     ---                                     1.4/15.5 MB 190.4 kB/s eta 0:01:15\n",
      "     ---                                     1.4/15.5 MB 195.3 kB/s eta 0:01:13\n",
      "     ---                                     1.4/15.5 MB 198.3 kB/s eta 0:01:12\n",
      "     ---                                     1.4/15.5 MB 198.3 kB/s eta 0:01:12\n",
      "     ---                                     1.4/15.5 MB 198.3 kB/s eta 0:01:12\n",
      "     ---                                     1.4/15.5 MB 198.3 kB/s eta 0:01:12\n",
      "     ---                                     1.4/15.5 MB 198.3 kB/s eta 0:01:12\n",
      "     ---                                     1.4/15.5 MB 198.3 kB/s eta 0:01:12\n",
      "     ---                                     1.4/15.5 MB 198.3 kB/s eta 0:01:12\n",
      "     ---                                     1.5/15.5 MB 193.3 kB/s eta 0:01:13\n",
      "     ---                                     1.5/15.5 MB 196.2 kB/s eta 0:01:12\n",
      "     ---                                     1.5/15.5 MB 198.5 kB/s eta 0:01:11\n",
      "     ---                                     1.5/15.5 MB 198.5 kB/s eta 0:01:11\n",
      "     ---                                     1.5/15.5 MB 198.5 kB/s eta 0:01:11\n",
      "     ---                                     1.5/15.5 MB 198.5 kB/s eta 0:01:11\n",
      "     ---                                     1.5/15.5 MB 198.5 kB/s eta 0:01:11\n",
      "     ---                                     1.5/15.5 MB 198.5 kB/s eta 0:01:11\n",
      "     ---                                     1.5/15.5 MB 198.5 kB/s eta 0:01:11\n",
      "     ---                                     1.6/15.5 MB 196.3 kB/s eta 0:01:12\n",
      "     ---                                     1.6/15.5 MB 199.1 kB/s eta 0:01:10\n",
      "     ----                                    1.6/15.5 MB 200.0 kB/s eta 0:01:10\n",
      "     ----                                    1.6/15.5 MB 200.0 kB/s eta 0:01:10\n",
      "     ----                                    1.6/15.5 MB 200.0 kB/s eta 0:01:10\n",
      "     ----                                    1.6/15.5 MB 200.0 kB/s eta 0:01:10\n",
      "     ----                                    1.6/15.5 MB 200.0 kB/s eta 0:01:10\n",
      "     ----                                    1.6/15.5 MB 200.0 kB/s eta 0:01:10\n",
      "     ----                                    1.6/15.5 MB 195.8 kB/s eta 0:01:11\n",
      "     ----                                    1.7/15.5 MB 198.7 kB/s eta 0:01:10\n",
      "     ----                                    1.7/15.5 MB 203.7 kB/s eta 0:01:08\n",
      "     ----                                    1.7/15.5 MB 203.7 kB/s eta 0:01:08\n",
      "     ----                                    1.7/15.5 MB 203.7 kB/s eta 0:01:08\n",
      "     ----                                    1.7/15.5 MB 203.7 kB/s eta 0:01:08\n",
      "     ----                                    1.7/15.5 MB 203.7 kB/s eta 0:01:08\n",
      "     ----                                    1.7/15.5 MB 203.7 kB/s eta 0:01:08\n",
      "     ----                                    1.7/15.5 MB 203.7 kB/s eta 0:01:08\n",
      "     ----                                    1.7/15.5 MB 198.0 kB/s eta 0:01:10\n",
      "     ----                                    1.8/15.5 MB 200.9 kB/s eta 0:01:09\n",
      "     ----                                    1.8/15.5 MB 203.6 kB/s eta 0:01:08\n",
      "     ----                                    1.8/15.5 MB 203.6 kB/s eta 0:01:08\n",
      "     ----                                    1.8/15.5 MB 203.6 kB/s eta 0:01:08\n",
      "     ----                                    1.8/15.5 MB 203.6 kB/s eta 0:01:08\n",
      "     ----                                    1.8/15.5 MB 203.6 kB/s eta 0:01:08\n",
      "     ----                                    1.8/15.5 MB 203.6 kB/s eta 0:01:08\n",
      "     ----                                    1.8/15.5 MB 203.6 kB/s eta 0:01:08\n",
      "     ----                                    1.9/15.5 MB 202.3 kB/s eta 0:01:08\n",
      "     ----                                    1.9/15.5 MB 206.9 kB/s eta 0:01:06\n",
      "     ----                                    1.9/15.5 MB 206.9 kB/s eta 0:01:06\n",
      "     ----                                    1.9/15.5 MB 206.9 kB/s eta 0:01:06\n",
      "     ----                                    1.9/15.5 MB 206.9 kB/s eta 0:01:06\n",
      "     ----                                    1.9/15.5 MB 206.9 kB/s eta 0:01:06\n",
      "     ----                                    1.9/15.5 MB 206.9 kB/s eta 0:01:06\n",
      "     ----                                    1.9/15.5 MB 206.9 kB/s eta 0:01:06\n",
      "     ----                                    1.9/15.5 MB 203.0 kB/s eta 0:01:07\n",
      "     ----                                    2.0/15.5 MB 207.4 kB/s eta 0:01:06\n",
      "     -----                                   2.0/15.5 MB 209.9 kB/s eta 0:01:05\n",
      "     -----                                   2.0/15.5 MB 209.9 kB/s eta 0:01:05\n",
      "     -----                                   2.0/15.5 MB 209.9 kB/s eta 0:01:05\n",
      "     -----                                   2.0/15.5 MB 209.9 kB/s eta 0:01:05\n",
      "     -----                                   2.0/15.5 MB 209.9 kB/s eta 0:01:05\n",
      "     -----                                   2.0/15.5 MB 209.9 kB/s eta 0:01:05\n",
      "     -----                                   2.0/15.5 MB 205.7 kB/s eta 0:01:06\n",
      "     -----                                   2.1/15.5 MB 209.8 kB/s eta 0:01:05\n",
      "     -----                                   2.1/15.5 MB 213.0 kB/s eta 0:01:03\n",
      "     -----                                   2.2/15.5 MB 215.0 kB/s eta 0:01:03\n",
      "     -----                                   2.2/15.5 MB 215.0 kB/s eta 0:01:03\n",
      "     -----                                   2.2/15.5 MB 215.0 kB/s eta 0:01:03\n",
      "     -----                                   2.2/15.5 MB 215.0 kB/s eta 0:01:03\n",
      "     -----                                   2.2/15.5 MB 215.0 kB/s eta 0:01:03\n",
      "     -----                                   2.2/15.5 MB 215.0 kB/s eta 0:01:03\n",
      "     -----                                   2.2/15.5 MB 215.0 kB/s eta 0:01:03\n",
      "     -----                                   2.2/15.5 MB 215.0 kB/s eta 0:01:03\n",
      "     -----                                   2.2/15.5 MB 215.0 kB/s eta 0:01:03\n",
      "     -----                                   2.2/15.5 MB 207.3 kB/s eta 0:01:05\n",
      "     -----                                   2.2/15.5 MB 210.3 kB/s eta 0:01:04\n",
      "     -----                                   2.2/15.5 MB 212.6 kB/s eta 0:01:03\n",
      "     -----                                   2.2/15.5 MB 212.6 kB/s eta 0:01:03\n",
      "     -----                                   2.2/15.5 MB 212.6 kB/s eta 0:01:03\n",
      "     -----                                   2.2/15.5 MB 212.6 kB/s eta 0:01:03\n",
      "     -----                                   2.2/15.5 MB 212.6 kB/s eta 0:01:03\n",
      "     -----                                   2.2/15.5 MB 212.6 kB/s eta 0:01:03\n",
      "     -----                                   2.2/15.5 MB 212.6 kB/s eta 0:01:03\n",
      "     -----                                   2.3/15.5 MB 210.6 kB/s eta 0:01:03\n",
      "     -----                                   2.3/15.5 MB 212.5 kB/s eta 0:01:03\n",
      "     -----                                   2.3/15.5 MB 214.1 kB/s eta 0:01:02\n",
      "     -----                                   2.3/15.5 MB 214.1 kB/s eta 0:01:02\n",
      "     -----                                   2.3/15.5 MB 214.1 kB/s eta 0:01:02\n",
      "     -----                                   2.3/15.5 MB 214.1 kB/s eta 0:01:02\n",
      "     -----                                   2.3/15.5 MB 214.1 kB/s eta 0:01:02\n",
      "     -----                                   2.3/15.5 MB 214.1 kB/s eta 0:01:02\n",
      "     -----                                   2.3/15.5 MB 214.1 kB/s eta 0:01:02\n",
      "     ------                                  2.4/15.5 MB 211.8 kB/s eta 0:01:02\n",
      "     ------                                  2.4/15.5 MB 213.6 kB/s eta 0:01:02\n",
      "     ------                                  2.4/15.5 MB 214.9 kB/s eta 0:01:01\n",
      "     ------                                  2.4/15.5 MB 214.9 kB/s eta 0:01:01\n",
      "     ------                                  2.4/15.5 MB 214.9 kB/s eta 0:01:01\n",
      "     ------                                  2.4/15.5 MB 214.9 kB/s eta 0:01:01\n",
      "     ------                                  2.4/15.5 MB 214.9 kB/s eta 0:01:01\n",
      "     ------                                  2.4/15.5 MB 214.9 kB/s eta 0:01:01\n",
      "     ------                                  2.4/15.5 MB 214.9 kB/s eta 0:01:01\n",
      "     ------                                  2.5/15.5 MB 211.4 kB/s eta 0:01:02\n",
      "     ------                                  2.5/15.5 MB 215.2 kB/s eta 0:01:01\n",
      "     ------                                  2.5/15.5 MB 215.2 kB/s eta 0:01:01\n",
      "     ------                                  2.5/15.5 MB 215.2 kB/s eta 0:01:01\n",
      "     ------                                  2.5/15.5 MB 215.2 kB/s eta 0:01:01\n",
      "     ------                                  2.5/15.5 MB 215.2 kB/s eta 0:01:01\n",
      "     ------                                  2.5/15.5 MB 215.2 kB/s eta 0:01:01\n",
      "     ------                                  2.5/15.5 MB 215.2 kB/s eta 0:01:01\n",
      "     ------                                  2.6/15.5 MB 216.2 kB/s eta 0:01:00\n",
      "     ------                                  2.7/15.5 MB 220.4 kB/s eta 0:00:59\n",
      "     ------                                  2.7/15.5 MB 220.4 kB/s eta 0:00:59\n",
      "     ------                                  2.7/15.5 MB 220.4 kB/s eta 0:00:59\n",
      "     ------                                  2.7/15.5 MB 220.4 kB/s eta 0:00:59\n",
      "     ------                                  2.7/15.5 MB 220.4 kB/s eta 0:00:59\n",
      "     ------                                  2.7/15.5 MB 220.4 kB/s eta 0:00:59\n",
      "     ------                                  2.8/15.5 MB 220.9 kB/s eta 0:00:58\n",
      "     -------                                 2.8/15.5 MB 224.7 kB/s eta 0:00:57\n",
      "     -------                                 2.9/15.5 MB 232.6 kB/s eta 0:00:55\n",
      "     -------                                 3.0/15.5 MB 240.7 kB/s eta 0:00:52\n",
      "     -------                                 3.1/15.5 MB 242.5 kB/s eta 0:00:52\n",
      "     --------                                3.2/15.5 MB 250.5 kB/s eta 0:00:50\n",
      "     --------                                3.2/15.5 MB 252.3 kB/s eta 0:00:49\n",
      "     --------                                3.2/15.5 MB 252.7 kB/s eta 0:00:49\n",
      "     --------                                3.2/15.5 MB 252.7 kB/s eta 0:00:49\n",
      "     --------                                3.2/15.5 MB 252.7 kB/s eta 0:00:49\n",
      "     --------                                3.2/15.5 MB 252.7 kB/s eta 0:00:49\n",
      "     --------                                3.2/15.5 MB 252.7 kB/s eta 0:00:49\n",
      "     --------                                3.2/15.5 MB 252.7 kB/s eta 0:00:49\n",
      "     --------                                3.2/15.5 MB 252.7 kB/s eta 0:00:49\n",
      "     --------                                3.3/15.5 MB 250.7 kB/s eta 0:00:49\n",
      "     --------                                3.4/15.5 MB 257.6 kB/s eta 0:00:48\n",
      "     --------                                3.5/15.5 MB 264.5 kB/s eta 0:00:46\n",
      "     --------                                3.6/15.5 MB 267.4 kB/s eta 0:00:45\n",
      "     ---------                               3.7/15.5 MB 276.2 kB/s eta 0:00:43\n",
      "     ---------                               3.8/15.5 MB 282.1 kB/s eta 0:00:42\n",
      "     ---------                               3.9/15.5 MB 289.5 kB/s eta 0:00:41\n",
      "     ---------                               3.9/15.5 MB 292.6 kB/s eta 0:00:40\n",
      "     ---------                               3.9/15.5 MB 292.6 kB/s eta 0:00:40\n",
      "     ---------                               3.9/15.5 MB 292.6 kB/s eta 0:00:40\n",
      "     ----------                              4.1/15.5 MB 299.1 kB/s eta 0:00:39\n",
      "     ----------                              4.2/15.5 MB 304.8 kB/s eta 0:00:38\n",
      "     ----------                              4.3/15.5 MB 312.7 kB/s eta 0:00:36\n",
      "     ----------                              4.3/15.5 MB 316.1 kB/s eta 0:00:36\n",
      "     -----------                             4.5/15.5 MB 324.0 kB/s eta 0:00:35\n",
      "     -----------                             4.6/15.5 MB 330.3 kB/s eta 0:00:34\n",
      "     -----------                             4.7/15.5 MB 335.4 kB/s eta 0:00:33\n",
      "     -----------                             4.7/15.5 MB 340.2 kB/s eta 0:00:32\n",
      "     ------------                            4.9/15.5 MB 346.8 kB/s eta 0:00:31\n",
      "     ------------                            5.0/15.5 MB 355.1 kB/s eta 0:00:30\n",
      "     ------------                            5.1/15.5 MB 360.5 kB/s eta 0:00:29\n",
      "     ------------                            5.2/15.5 MB 365.5 kB/s eta 0:00:29\n",
      "     -------------                           5.2/15.5 MB 366.0 kB/s eta 0:00:29\n",
      "     -------------                           5.3/15.5 MB 374.9 kB/s eta 0:00:28\n",
      "     -------------                           5.4/15.5 MB 379.4 kB/s eta 0:00:27\n",
      "     -------------                           5.5/15.5 MB 383.9 kB/s eta 0:00:27\n",
      "     --------------                          5.6/15.5 MB 392.0 kB/s eta 0:00:26\n",
      "     --------------                          5.7/15.5 MB 396.8 kB/s eta 0:00:25\n",
      "     --------------                          5.8/15.5 MB 403.3 kB/s eta 0:00:25\n",
      "     --------------                          6.0/15.5 MB 410.8 kB/s eta 0:00:24\n",
      "     ---------------                         6.1/15.5 MB 416.2 kB/s eta 0:00:23\n",
      "     ---------------                         6.2/15.5 MB 421.5 kB/s eta 0:00:23\n",
      "     ---------------                         6.2/15.5 MB 426.4 kB/s eta 0:00:22\n",
      "     ---------------                         6.3/15.5 MB 431.6 kB/s eta 0:00:22\n",
      "     ----------------                        6.4/15.5 MB 433.9 kB/s eta 0:00:22\n",
      "     ----------------                        6.5/15.5 MB 435.8 kB/s eta 0:00:21\n",
      "     ----------------                        6.5/15.5 MB 439.9 kB/s eta 0:00:21\n",
      "     ----------------                        6.6/15.5 MB 443.3 kB/s eta 0:00:21\n",
      "     ----------------                        6.7/15.5 MB 449.5 kB/s eta 0:00:20\n",
      "     -----------------                       6.8/15.5 MB 454.9 kB/s eta 0:00:20\n",
      "     -----------------                       6.9/15.5 MB 460.3 kB/s eta 0:00:19\n",
      "     -----------------                       7.0/15.5 MB 466.4 kB/s eta 0:00:19\n",
      "     -----------------                       7.1/15.5 MB 468.8 kB/s eta 0:00:18\n",
      "     ------------------                      7.2/15.5 MB 476.8 kB/s eta 0:00:18\n",
      "     ------------------                      7.3/15.5 MB 480.7 kB/s eta 0:00:18\n",
      "     ------------------                      7.4/15.5 MB 486.8 kB/s eta 0:00:17\n",
      "     ------------------                      7.5/15.5 MB 489.9 kB/s eta 0:00:17\n",
      "     -------------------                     7.6/15.5 MB 493.5 kB/s eta 0:00:17\n",
      "     -------------------                     7.6/15.5 MB 494.7 kB/s eta 0:00:16\n",
      "     -------------------                     7.6/15.5 MB 494.4 kB/s eta 0:00:16\n",
      "     -------------------                     7.7/15.5 MB 494.5 kB/s eta 0:00:16\n",
      "     -------------------                     7.7/15.5 MB 496.5 kB/s eta 0:00:16\n",
      "     -------------------                     7.8/15.5 MB 498.3 kB/s eta 0:00:16\n",
      "     -------------------                     7.8/15.5 MB 500.0 kB/s eta 0:00:16\n",
      "     -------------------                     7.9/15.5 MB 501.2 kB/s eta 0:00:16\n",
      "     -------------------                     7.9/15.5 MB 502.4 kB/s eta 0:00:16\n",
      "     --------------------                    8.0/15.5 MB 504.7 kB/s eta 0:00:15\n",
      "     --------------------                    8.0/15.5 MB 505.1 kB/s eta 0:00:15\n",
      "     --------------------                    8.1/15.5 MB 508.2 kB/s eta 0:00:15\n",
      "     --------------------                    8.1/15.5 MB 508.6 kB/s eta 0:00:15\n",
      "     --------------------                    8.2/15.5 MB 511.9 kB/s eta 0:00:15\n",
      "     --------------------                    8.2/15.5 MB 513.6 kB/s eta 0:00:15\n",
      "     --------------------                    8.3/15.5 MB 516.4 kB/s eta 0:00:14\n",
      "     --------------------                    8.3/15.5 MB 516.8 kB/s eta 0:00:14\n",
      "     ---------------------                   8.4/15.5 MB 519.9 kB/s eta 0:00:14\n",
      "     ---------------------                   8.4/15.5 MB 520.8 kB/s eta 0:00:14\n",
      "     ---------------------                   8.5/15.5 MB 522.4 kB/s eta 0:00:14\n",
      "     ---------------------                   8.6/15.5 MB 524.7 kB/s eta 0:00:14\n",
      "     ---------------------                   8.6/15.5 MB 526.3 kB/s eta 0:00:14\n",
      "     ---------------------                   8.7/15.5 MB 528.0 kB/s eta 0:00:13\n",
      "     ---------------------                   8.7/15.5 MB 530.2 kB/s eta 0:00:13\n",
      "     ----------------------                  8.8/15.5 MB 532.5 kB/s eta 0:00:13\n",
      "     ----------------------                  8.9/15.5 MB 534.7 kB/s eta 0:00:13\n",
      "     ----------------------                  8.9/15.5 MB 534.7 kB/s eta 0:00:13\n",
      "     ----------------------                  8.9/15.5 MB 533.5 kB/s eta 0:00:13\n",
      "     ----------------------                  9.0/15.5 MB 536.3 kB/s eta 0:00:13\n",
      "     ----------------------                  9.0/15.5 MB 536.0 kB/s eta 0:00:13\n",
      "     ----------------------                  9.1/15.5 MB 538.8 kB/s eta 0:00:13\n",
      "     ----------------------                  9.1/15.5 MB 539.1 kB/s eta 0:00:12\n",
      "     ----------------------                  9.1/15.5 MB 541.3 kB/s eta 0:00:12\n",
      "     -----------------------                 9.2/15.5 MB 543.3 kB/s eta 0:00:12\n",
      "     -----------------------                 9.2/15.5 MB 544.3 kB/s eta 0:00:12\n",
      "     -----------------------                 9.2/15.5 MB 544.3 kB/s eta 0:00:12\n",
      "     -----------------------                 9.2/15.5 MB 544.3 kB/s eta 0:00:12\n",
      "     -----------------------                 9.2/15.5 MB 544.3 kB/s eta 0:00:12\n",
      "     -----------------------                 9.3/15.5 MB 538.6 kB/s eta 0:00:12\n",
      "     -----------------------                 9.3/15.5 MB 538.7 kB/s eta 0:00:12\n",
      "     -----------------------                 9.4/15.5 MB 541.0 kB/s eta 0:00:12\n",
      "     -----------------------                 9.4/15.5 MB 541.7 kB/s eta 0:00:12\n",
      "     -----------------------                 9.4/15.5 MB 542.2 kB/s eta 0:00:12\n",
      "     -----------------------                 9.5/15.5 MB 544.8 kB/s eta 0:00:12\n",
      "     ------------------------                9.7/15.5 MB 552.4 kB/s eta 0:00:11\n",
      "     ------------------------                9.7/15.5 MB 553.1 kB/s eta 0:00:11\n",
      "     ------------------------                9.8/15.5 MB 556.9 kB/s eta 0:00:11\n",
      "     ------------------------                9.9/15.5 MB 563.0 kB/s eta 0:00:10\n",
      "     ------------------------               10.0/15.5 MB 567.3 kB/s eta 0:00:10\n",
      "     ------------------------               10.1/15.5 MB 572.2 kB/s eta 0:00:10\n",
      "     -------------------------              10.3/15.5 MB 588.2 kB/s eta 0:00:09\n",
      "     -------------------------              10.4/15.5 MB 602.8 kB/s eta 0:00:09\n",
      "     -------------------------              10.5/15.5 MB 621.2 kB/s eta 0:00:09\n",
      "     -------------------------              10.5/15.5 MB 619.4 kB/s eta 0:00:09\n",
      "     -------------------------              10.5/15.5 MB 635.0 kB/s eta 0:00:08\n",
      "     --------------------------             10.7/15.5 MB 665.4 kB/s eta 0:00:08\n",
      "     --------------------------             10.7/15.5 MB 666.7 kB/s eta 0:00:08\n",
      "     --------------------------             10.9/15.5 MB 699.5 kB/s eta 0:00:07\n",
      "     --------------------------             10.9/15.5 MB 701.0 kB/s eta 0:00:07\n",
      "     ---------------------------            11.0/15.5 MB 758.6 kB/s eta 0:00:06\n",
      "     ---------------------------            11.1/15.5 MB 760.4 kB/s eta 0:00:06\n",
      "     ---------------------------            11.2/15.5 MB 803.3 kB/s eta 0:00:06\n",
      "     ---------------------------            11.4/15.5 MB 828.7 kB/s eta 0:00:06\n",
      "     ----------------------------           11.5/15.5 MB 870.6 kB/s eta 0:00:05\n",
      "     ----------------------------           11.6/15.5 MB 896.9 kB/s eta 0:00:05\n",
      "     ----------------------------           11.6/15.5 MB 895.6 kB/s eta 0:00:05\n",
      "     ----------------------------           11.7/15.5 MB 926.0 kB/s eta 0:00:05\n",
      "     ----------------------------           11.7/15.5 MB 926.0 kB/s eta 0:00:05\n",
      "     ----------------------------           11.7/15.5 MB 920.8 kB/s eta 0:00:05\n",
      "     ----------------------------           11.8/15.5 MB 946.1 kB/s eta 0:00:04\n",
      "     -----------------------------          11.9/15.5 MB 978.6 kB/s eta 0:00:04\n",
      "     -----------------------------          11.9/15.5 MB 983.0 kB/s eta 0:00:04\n",
      "     -------------------------------          12.1/15.5 MB 1.1 MB/s eta 0:00:04\n",
      "     -------------------------------          12.1/15.5 MB 1.1 MB/s eta 0:00:04\n",
      "     -------------------------------          12.2/15.5 MB 1.1 MB/s eta 0:00:04\n",
      "     -------------------------------          12.3/15.5 MB 1.1 MB/s eta 0:00:03\n",
      "     -------------------------------          12.4/15.5 MB 1.2 MB/s eta 0:00:03\n",
      "     --------------------------------         12.5/15.5 MB 1.2 MB/s eta 0:00:03\n",
      "     --------------------------------         12.6/15.5 MB 1.3 MB/s eta 0:00:03\n",
      "     --------------------------------         12.7/15.5 MB 1.4 MB/s eta 0:00:03\n",
      "     ---------------------------------        12.9/15.5 MB 1.4 MB/s eta 0:00:02\n",
      "     ---------------------------------        12.9/15.5 MB 1.4 MB/s eta 0:00:02\n",
      "     ---------------------------------        12.9/15.5 MB 1.4 MB/s eta 0:00:02\n",
      "     ---------------------------------        12.9/15.5 MB 1.5 MB/s eta 0:00:02\n",
      "     ---------------------------------        13.0/15.5 MB 1.5 MB/s eta 0:00:02\n",
      "     ---------------------------------        13.2/15.5 MB 1.5 MB/s eta 0:00:02\n",
      "     ----------------------------------       13.3/15.5 MB 1.5 MB/s eta 0:00:02\n",
      "     ----------------------------------       13.3/15.5 MB 1.5 MB/s eta 0:00:02\n",
      "     ----------------------------------       13.5/15.5 MB 1.5 MB/s eta 0:00:02\n",
      "     ----------------------------------       13.6/15.5 MB 1.6 MB/s eta 0:00:02\n",
      "     -----------------------------------      13.7/15.5 MB 1.6 MB/s eta 0:00:02\n",
      "     -----------------------------------      13.8/15.5 MB 1.6 MB/s eta 0:00:02\n",
      "     -----------------------------------      13.9/15.5 MB 1.6 MB/s eta 0:00:02\n",
      "     ------------------------------------     14.0/15.5 MB 1.6 MB/s eta 0:00:01\n",
      "     ------------------------------------     14.1/15.5 MB 1.6 MB/s eta 0:00:01\n",
      "     ------------------------------------     14.2/15.5 MB 1.6 MB/s eta 0:00:01\n",
      "     ------------------------------------     14.2/15.5 MB 1.6 MB/s eta 0:00:01\n",
      "     ------------------------------------     14.3/15.5 MB 1.6 MB/s eta 0:00:01\n",
      "     ------------------------------------     14.3/15.5 MB 1.6 MB/s eta 0:00:01\n",
      "     -------------------------------------    14.5/15.5 MB 1.6 MB/s eta 0:00:01\n",
      "     -------------------------------------    14.6/15.5 MB 1.6 MB/s eta 0:00:01\n",
      "     -------------------------------------    14.7/15.5 MB 1.6 MB/s eta 0:00:01\n",
      "     --------------------------------------   14.8/15.5 MB 1.6 MB/s eta 0:00:01\n",
      "     --------------------------------------   14.8/15.5 MB 1.6 MB/s eta 0:00:01\n",
      "     --------------------------------------   15.0/15.5 MB 1.6 MB/s eta 0:00:01\n",
      "     --------------------------------------   15.1/15.5 MB 1.6 MB/s eta 0:00:01\n",
      "     ---------------------------------------  15.2/15.5 MB 1.6 MB/s eta 0:00:01\n",
      "     ---------------------------------------  15.3/15.5 MB 1.6 MB/s eta 0:00:01\n",
      "     ---------------------------------------  15.4/15.5 MB 1.6 MB/s eta 0:00:01\n",
      "     ---------------------------------------  15.4/15.5 MB 1.6 MB/s eta 0:00:01\n",
      "     ---------------------------------------  15.5/15.5 MB 1.6 MB/s eta 0:00:01\n",
      "     ---------------------------------------  15.5/15.5 MB 1.6 MB/s eta 0:00:01\n",
      "     ---------------------------------------- 15.5/15.5 MB 1.6 MB/s eta 0:00:00\n",
      "Collecting tenacity>=6.2.0 (from plotly)\n",
      "  Downloading tenacity-8.2.2-py3-none-any.whl (24 kB)\n",
      "Requirement already satisfied: packaging in c:\\users\\my computer\\anaconda3\\envs\\flightprice\\lib\\site-packages (from plotly) (23.0)\n",
      "Installing collected packages: tenacity, plotly\n",
      "Successfully installed plotly-5.15.0 tenacity-8.2.2\n",
      "Requirement already satisfied: chart_studio in c:\\users\\my computer\\anaconda3\\envs\\flightprice\\lib\\site-packages (1.1.0)\n",
      "Requirement already satisfied: plotly in c:\\users\\my computer\\anaconda3\\envs\\flightprice\\lib\\site-packages (from chart_studio) (5.15.0)\n",
      "Requirement already satisfied: requests in c:\\users\\my computer\\anaconda3\\envs\\flightprice\\lib\\site-packages (from chart_studio) (2.29.0)\n",
      "Requirement already satisfied: retrying>=1.3.3 in c:\\users\\my computer\\anaconda3\\envs\\flightprice\\lib\\site-packages (from chart_studio) (1.3.4)\n",
      "Requirement already satisfied: six in c:\\users\\my computer\\anaconda3\\envs\\flightprice\\lib\\site-packages (from chart_studio) (1.16.0)\n",
      "Requirement already satisfied: tenacity>=6.2.0 in c:\\users\\my computer\\anaconda3\\envs\\flightprice\\lib\\site-packages (from plotly->chart_studio) (8.2.2)\n",
      "Requirement already satisfied: packaging in c:\\users\\my computer\\anaconda3\\envs\\flightprice\\lib\\site-packages (from plotly->chart_studio) (23.0)\n",
      "Requirement already satisfied: charset-normalizer<4,>=2 in c:\\users\\my computer\\anaconda3\\envs\\flightprice\\lib\\site-packages (from requests->chart_studio) (2.0.4)\n",
      "Requirement already satisfied: idna<4,>=2.5 in c:\\users\\my computer\\anaconda3\\envs\\flightprice\\lib\\site-packages (from requests->chart_studio) (3.4)\n",
      "Requirement already satisfied: urllib3<1.27,>=1.21.1 in c:\\users\\my computer\\anaconda3\\envs\\flightprice\\lib\\site-packages (from requests->chart_studio) (1.26.16)\n",
      "Requirement already satisfied: certifi>=2017.4.17 in c:\\users\\my computer\\anaconda3\\envs\\flightprice\\lib\\site-packages (from requests->chart_studio) (2023.5.7)\n"
     ]
    }
   ],
   "source": [
    "!pip install plotly\n",
    "!pip install chart_studio"
   ],
   "metadata": {
    "collapsed": false,
    "ExecuteTime": {
     "end_time": "2023-06-16T10:39:53.848467500Z",
     "start_time": "2023-06-16T10:38:10.802334500Z"
    }
   }
  },
  {
   "cell_type": "code",
   "execution_count": 50,
   "outputs": [
    {
     "data": {
      "text/html": "        <script type=\"text/javascript\">\n        window.PlotlyConfig = {MathJaxConfig: 'local'};\n        if (window.MathJax && window.MathJax.Hub && window.MathJax.Hub.Config) {window.MathJax.Hub.Config({SVG: {font: \"STIX-Web\"}});}\n        if (typeof require !== 'undefined') {\n        require.undef(\"plotly\");\n        requirejs.config({\n            paths: {\n                'plotly': ['https://cdn.plot.ly/plotly-2.24.1.min']\n            }\n        });\n        require(['plotly'], function(Plotly) {\n            window._Plotly = Plotly;\n        });\n        }\n        </script>\n        "
     },
     "metadata": {},
     "output_type": "display_data"
    },
    {
     "data": {
      "text/html": "        <script type=\"text/javascript\">\n        window.PlotlyConfig = {MathJaxConfig: 'local'};\n        if (window.MathJax && window.MathJax.Hub && window.MathJax.Hub.Config) {window.MathJax.Hub.Config({SVG: {font: \"STIX-Web\"}});}\n        if (typeof require !== 'undefined') {\n        require.undef(\"plotly\");\n        requirejs.config({\n            paths: {\n                'plotly': ['https://cdn.plot.ly/plotly-2.24.1.min']\n            }\n        });\n        require(['plotly'], function(Plotly) {\n            window._Plotly = Plotly;\n        });\n        }\n        </script>\n        "
     },
     "metadata": {},
     "output_type": "display_data"
    }
   ],
   "source": [
    "import plotly\n",
    "import cufflinks as cf\n",
    "from cufflinks.offline import go_offline\n",
    "from plotly.offline import plot, iplot, init_notebook_mode, download_plotlyjs\n",
    "init_notebook_mode(connected=True)\n",
    "cf.go_offline()"
   ],
   "metadata": {
    "collapsed": false,
    "ExecuteTime": {
     "end_time": "2023-06-16T10:42:13.030047600Z",
     "start_time": "2023-06-16T10:42:11.670229900Z"
    }
   }
  },
  {
   "cell_type": "code",
   "execution_count": 51,
   "outputs": [
    {
     "data": {
      "application/vnd.plotly.v1+json": {
       "data": [
        {
         "marker": {
          "color": "rgba(255, 153, 51, 0.6)",
          "line": {
           "color": "rgba(255, 153, 51, 1.0)",
           "width": 1
          }
         },
         "name": "Dep_Time_hour",
         "orientation": "v",
         "text": "",
         "x": [
          "Early Morning",
          "Afternoon",
          "Evening",
          "Morning",
          "Late Night"
         ],
         "y": [
          2880,
          2771,
          2357,
          2209,
          465
         ],
         "type": "bar"
        }
       ],
       "layout": {
        "legend": {
         "bgcolor": "#F5F6F9",
         "font": {
          "color": "#4D5663"
         }
        },
        "paper_bgcolor": "#F5F6F9",
        "plot_bgcolor": "#F5F6F9",
        "template": {
         "data": {
          "barpolar": [
           {
            "marker": {
             "line": {
              "color": "#E5ECF6",
              "width": 0.5
             },
             "pattern": {
              "fillmode": "overlay",
              "size": 10,
              "solidity": 0.2
             }
            },
            "type": "barpolar"
           }
          ],
          "bar": [
           {
            "error_x": {
             "color": "#2a3f5f"
            },
            "error_y": {
             "color": "#2a3f5f"
            },
            "marker": {
             "line": {
              "color": "#E5ECF6",
              "width": 0.5
             },
             "pattern": {
              "fillmode": "overlay",
              "size": 10,
              "solidity": 0.2
             }
            },
            "type": "bar"
           }
          ],
          "carpet": [
           {
            "aaxis": {
             "endlinecolor": "#2a3f5f",
             "gridcolor": "white",
             "linecolor": "white",
             "minorgridcolor": "white",
             "startlinecolor": "#2a3f5f"
            },
            "baxis": {
             "endlinecolor": "#2a3f5f",
             "gridcolor": "white",
             "linecolor": "white",
             "minorgridcolor": "white",
             "startlinecolor": "#2a3f5f"
            },
            "type": "carpet"
           }
          ],
          "choropleth": [
           {
            "colorbar": {
             "outlinewidth": 0,
             "ticks": ""
            },
            "type": "choropleth"
           }
          ],
          "contourcarpet": [
           {
            "colorbar": {
             "outlinewidth": 0,
             "ticks": ""
            },
            "type": "contourcarpet"
           }
          ],
          "contour": [
           {
            "colorbar": {
             "outlinewidth": 0,
             "ticks": ""
            },
            "colorscale": [
             [
              0.0,
              "#0d0887"
             ],
             [
              0.1111111111111111,
              "#46039f"
             ],
             [
              0.2222222222222222,
              "#7201a8"
             ],
             [
              0.3333333333333333,
              "#9c179e"
             ],
             [
              0.4444444444444444,
              "#bd3786"
             ],
             [
              0.5555555555555556,
              "#d8576b"
             ],
             [
              0.6666666666666666,
              "#ed7953"
             ],
             [
              0.7777777777777778,
              "#fb9f3a"
             ],
             [
              0.8888888888888888,
              "#fdca26"
             ],
             [
              1.0,
              "#f0f921"
             ]
            ],
            "type": "contour"
           }
          ],
          "heatmapgl": [
           {
            "colorbar": {
             "outlinewidth": 0,
             "ticks": ""
            },
            "colorscale": [
             [
              0.0,
              "#0d0887"
             ],
             [
              0.1111111111111111,
              "#46039f"
             ],
             [
              0.2222222222222222,
              "#7201a8"
             ],
             [
              0.3333333333333333,
              "#9c179e"
             ],
             [
              0.4444444444444444,
              "#bd3786"
             ],
             [
              0.5555555555555556,
              "#d8576b"
             ],
             [
              0.6666666666666666,
              "#ed7953"
             ],
             [
              0.7777777777777778,
              "#fb9f3a"
             ],
             [
              0.8888888888888888,
              "#fdca26"
             ],
             [
              1.0,
              "#f0f921"
             ]
            ],
            "type": "heatmapgl"
           }
          ],
          "heatmap": [
           {
            "colorbar": {
             "outlinewidth": 0,
             "ticks": ""
            },
            "colorscale": [
             [
              0.0,
              "#0d0887"
             ],
             [
              0.1111111111111111,
              "#46039f"
             ],
             [
              0.2222222222222222,
              "#7201a8"
             ],
             [
              0.3333333333333333,
              "#9c179e"
             ],
             [
              0.4444444444444444,
              "#bd3786"
             ],
             [
              0.5555555555555556,
              "#d8576b"
             ],
             [
              0.6666666666666666,
              "#ed7953"
             ],
             [
              0.7777777777777778,
              "#fb9f3a"
             ],
             [
              0.8888888888888888,
              "#fdca26"
             ],
             [
              1.0,
              "#f0f921"
             ]
            ],
            "type": "heatmap"
           }
          ],
          "histogram2dcontour": [
           {
            "colorbar": {
             "outlinewidth": 0,
             "ticks": ""
            },
            "colorscale": [
             [
              0.0,
              "#0d0887"
             ],
             [
              0.1111111111111111,
              "#46039f"
             ],
             [
              0.2222222222222222,
              "#7201a8"
             ],
             [
              0.3333333333333333,
              "#9c179e"
             ],
             [
              0.4444444444444444,
              "#bd3786"
             ],
             [
              0.5555555555555556,
              "#d8576b"
             ],
             [
              0.6666666666666666,
              "#ed7953"
             ],
             [
              0.7777777777777778,
              "#fb9f3a"
             ],
             [
              0.8888888888888888,
              "#fdca26"
             ],
             [
              1.0,
              "#f0f921"
             ]
            ],
            "type": "histogram2dcontour"
           }
          ],
          "histogram2d": [
           {
            "colorbar": {
             "outlinewidth": 0,
             "ticks": ""
            },
            "colorscale": [
             [
              0.0,
              "#0d0887"
             ],
             [
              0.1111111111111111,
              "#46039f"
             ],
             [
              0.2222222222222222,
              "#7201a8"
             ],
             [
              0.3333333333333333,
              "#9c179e"
             ],
             [
              0.4444444444444444,
              "#bd3786"
             ],
             [
              0.5555555555555556,
              "#d8576b"
             ],
             [
              0.6666666666666666,
              "#ed7953"
             ],
             [
              0.7777777777777778,
              "#fb9f3a"
             ],
             [
              0.8888888888888888,
              "#fdca26"
             ],
             [
              1.0,
              "#f0f921"
             ]
            ],
            "type": "histogram2d"
           }
          ],
          "histogram": [
           {
            "marker": {
             "pattern": {
              "fillmode": "overlay",
              "size": 10,
              "solidity": 0.2
             }
            },
            "type": "histogram"
           }
          ],
          "mesh3d": [
           {
            "colorbar": {
             "outlinewidth": 0,
             "ticks": ""
            },
            "type": "mesh3d"
           }
          ],
          "parcoords": [
           {
            "line": {
             "colorbar": {
              "outlinewidth": 0,
              "ticks": ""
             }
            },
            "type": "parcoords"
           }
          ],
          "pie": [
           {
            "automargin": true,
            "type": "pie"
           }
          ],
          "scatter3d": [
           {
            "line": {
             "colorbar": {
              "outlinewidth": 0,
              "ticks": ""
             }
            },
            "marker": {
             "colorbar": {
              "outlinewidth": 0,
              "ticks": ""
             }
            },
            "type": "scatter3d"
           }
          ],
          "scattercarpet": [
           {
            "marker": {
             "colorbar": {
              "outlinewidth": 0,
              "ticks": ""
             }
            },
            "type": "scattercarpet"
           }
          ],
          "scattergeo": [
           {
            "marker": {
             "colorbar": {
              "outlinewidth": 0,
              "ticks": ""
             }
            },
            "type": "scattergeo"
           }
          ],
          "scattergl": [
           {
            "marker": {
             "colorbar": {
              "outlinewidth": 0,
              "ticks": ""
             }
            },
            "type": "scattergl"
           }
          ],
          "scattermapbox": [
           {
            "marker": {
             "colorbar": {
              "outlinewidth": 0,
              "ticks": ""
             }
            },
            "type": "scattermapbox"
           }
          ],
          "scatterpolargl": [
           {
            "marker": {
             "colorbar": {
              "outlinewidth": 0,
              "ticks": ""
             }
            },
            "type": "scatterpolargl"
           }
          ],
          "scatterpolar": [
           {
            "marker": {
             "colorbar": {
              "outlinewidth": 0,
              "ticks": ""
             }
            },
            "type": "scatterpolar"
           }
          ],
          "scatter": [
           {
            "fillpattern": {
             "fillmode": "overlay",
             "size": 10,
             "solidity": 0.2
            },
            "type": "scatter"
           }
          ],
          "scatterternary": [
           {
            "marker": {
             "colorbar": {
              "outlinewidth": 0,
              "ticks": ""
             }
            },
            "type": "scatterternary"
           }
          ],
          "surface": [
           {
            "colorbar": {
             "outlinewidth": 0,
             "ticks": ""
            },
            "colorscale": [
             [
              0.0,
              "#0d0887"
             ],
             [
              0.1111111111111111,
              "#46039f"
             ],
             [
              0.2222222222222222,
              "#7201a8"
             ],
             [
              0.3333333333333333,
              "#9c179e"
             ],
             [
              0.4444444444444444,
              "#bd3786"
             ],
             [
              0.5555555555555556,
              "#d8576b"
             ],
             [
              0.6666666666666666,
              "#ed7953"
             ],
             [
              0.7777777777777778,
              "#fb9f3a"
             ],
             [
              0.8888888888888888,
              "#fdca26"
             ],
             [
              1.0,
              "#f0f921"
             ]
            ],
            "type": "surface"
           }
          ],
          "table": [
           {
            "cells": {
             "fill": {
              "color": "#EBF0F8"
             },
             "line": {
              "color": "white"
             }
            },
            "header": {
             "fill": {
              "color": "#C8D4E3"
             },
             "line": {
              "color": "white"
             }
            },
            "type": "table"
           }
          ]
         },
         "layout": {
          "annotationdefaults": {
           "arrowcolor": "#2a3f5f",
           "arrowhead": 0,
           "arrowwidth": 1
          },
          "autotypenumbers": "strict",
          "coloraxis": {
           "colorbar": {
            "outlinewidth": 0,
            "ticks": ""
           }
          },
          "colorscale": {
           "diverging": [
            [
             0,
             "#8e0152"
            ],
            [
             0.1,
             "#c51b7d"
            ],
            [
             0.2,
             "#de77ae"
            ],
            [
             0.3,
             "#f1b6da"
            ],
            [
             0.4,
             "#fde0ef"
            ],
            [
             0.5,
             "#f7f7f7"
            ],
            [
             0.6,
             "#e6f5d0"
            ],
            [
             0.7,
             "#b8e186"
            ],
            [
             0.8,
             "#7fbc41"
            ],
            [
             0.9,
             "#4d9221"
            ],
            [
             1,
             "#276419"
            ]
           ],
           "sequential": [
            [
             0.0,
             "#0d0887"
            ],
            [
             0.1111111111111111,
             "#46039f"
            ],
            [
             0.2222222222222222,
             "#7201a8"
            ],
            [
             0.3333333333333333,
             "#9c179e"
            ],
            [
             0.4444444444444444,
             "#bd3786"
            ],
            [
             0.5555555555555556,
             "#d8576b"
            ],
            [
             0.6666666666666666,
             "#ed7953"
            ],
            [
             0.7777777777777778,
             "#fb9f3a"
            ],
            [
             0.8888888888888888,
             "#fdca26"
            ],
            [
             1.0,
             "#f0f921"
            ]
           ],
           "sequentialminus": [
            [
             0.0,
             "#0d0887"
            ],
            [
             0.1111111111111111,
             "#46039f"
            ],
            [
             0.2222222222222222,
             "#7201a8"
            ],
            [
             0.3333333333333333,
             "#9c179e"
            ],
            [
             0.4444444444444444,
             "#bd3786"
            ],
            [
             0.5555555555555556,
             "#d8576b"
            ],
            [
             0.6666666666666666,
             "#ed7953"
            ],
            [
             0.7777777777777778,
             "#fb9f3a"
            ],
            [
             0.8888888888888888,
             "#fdca26"
            ],
            [
             1.0,
             "#f0f921"
            ]
           ]
          },
          "colorway": [
           "#636efa",
           "#EF553B",
           "#00cc96",
           "#ab63fa",
           "#FFA15A",
           "#19d3f3",
           "#FF6692",
           "#B6E880",
           "#FF97FF",
           "#FECB52"
          ],
          "font": {
           "color": "#2a3f5f"
          },
          "geo": {
           "bgcolor": "white",
           "lakecolor": "white",
           "landcolor": "#E5ECF6",
           "showlakes": true,
           "showland": true,
           "subunitcolor": "white"
          },
          "hoverlabel": {
           "align": "left"
          },
          "hovermode": "closest",
          "mapbox": {
           "style": "light"
          },
          "paper_bgcolor": "white",
          "plot_bgcolor": "#E5ECF6",
          "polar": {
           "angularaxis": {
            "gridcolor": "white",
            "linecolor": "white",
            "ticks": ""
           },
           "bgcolor": "#E5ECF6",
           "radialaxis": {
            "gridcolor": "white",
            "linecolor": "white",
            "ticks": ""
           }
          },
          "scene": {
           "xaxis": {
            "backgroundcolor": "#E5ECF6",
            "gridcolor": "white",
            "gridwidth": 2,
            "linecolor": "white",
            "showbackground": true,
            "ticks": "",
            "zerolinecolor": "white"
           },
           "yaxis": {
            "backgroundcolor": "#E5ECF6",
            "gridcolor": "white",
            "gridwidth": 2,
            "linecolor": "white",
            "showbackground": true,
            "ticks": "",
            "zerolinecolor": "white"
           },
           "zaxis": {
            "backgroundcolor": "#E5ECF6",
            "gridcolor": "white",
            "gridwidth": 2,
            "linecolor": "white",
            "showbackground": true,
            "ticks": "",
            "zerolinecolor": "white"
           }
          },
          "shapedefaults": {
           "line": {
            "color": "#2a3f5f"
           }
          },
          "ternary": {
           "aaxis": {
            "gridcolor": "white",
            "linecolor": "white",
            "ticks": ""
           },
           "baxis": {
            "gridcolor": "white",
            "linecolor": "white",
            "ticks": ""
           },
           "bgcolor": "#E5ECF6",
           "caxis": {
            "gridcolor": "white",
            "linecolor": "white",
            "ticks": ""
           }
          },
          "title": {
           "x": 0.05
          },
          "xaxis": {
           "automargin": true,
           "gridcolor": "white",
           "linecolor": "white",
           "ticks": "",
           "title": {
            "standoff": 15
           },
           "zerolinecolor": "white",
           "zerolinewidth": 2
          },
          "yaxis": {
           "automargin": true,
           "gridcolor": "white",
           "linecolor": "white",
           "ticks": "",
           "title": {
            "standoff": 15
           },
           "zerolinecolor": "white",
           "zerolinewidth": 2
          }
         }
        },
        "title": {
         "font": {
          "color": "#4D5663"
         }
        },
        "xaxis": {
         "gridcolor": "#E1E5ED",
         "showgrid": true,
         "tickfont": {
          "color": "#4D5663"
         },
         "title": {
          "font": {
           "color": "#4D5663"
          },
          "text": ""
         },
         "zerolinecolor": "#E1E5ED"
        },
        "yaxis": {
         "gridcolor": "#E1E5ED",
         "showgrid": true,
         "tickfont": {
          "color": "#4D5663"
         },
         "title": {
          "font": {
           "color": "#4D5663"
          },
          "text": ""
         },
         "zerolinecolor": "#E1E5ED"
        }
       },
       "config": {
        "showLink": true,
        "linkText": "Export to plot.ly",
        "plotlyServerURL": "https://plot.ly"
       }
      },
      "text/html": "<div>                            <div id=\"a418c8fa-3b4e-4ed7-9b39-5adc8ea6d7b8\" class=\"plotly-graph-div\" style=\"height:525px; width:100%;\"></div>            <script type=\"text/javascript\">                require([\"plotly\"], function(Plotly) {                    window.PLOTLYENV=window.PLOTLYENV || {};\n                    window.PLOTLYENV.BASE_URL='https://plot.ly';                                    if (document.getElementById(\"a418c8fa-3b4e-4ed7-9b39-5adc8ea6d7b8\")) {                    Plotly.newPlot(                        \"a418c8fa-3b4e-4ed7-9b39-5adc8ea6d7b8\",                        [{\"marker\":{\"color\":\"rgba(255, 153, 51, 0.6)\",\"line\":{\"color\":\"rgba(255, 153, 51, 1.0)\",\"width\":1}},\"name\":\"Dep_Time_hour\",\"orientation\":\"v\",\"text\":\"\",\"x\":[\"Early Morning\",\"Afternoon\",\"Evening\",\"Morning\",\"Late Night\"],\"y\":[2880,2771,2357,2209,465],\"type\":\"bar\"}],                        {\"legend\":{\"bgcolor\":\"#F5F6F9\",\"font\":{\"color\":\"#4D5663\"}},\"paper_bgcolor\":\"#F5F6F9\",\"plot_bgcolor\":\"#F5F6F9\",\"template\":{\"data\":{\"barpolar\":[{\"marker\":{\"line\":{\"color\":\"#E5ECF6\",\"width\":0.5},\"pattern\":{\"fillmode\":\"overlay\",\"size\":10,\"solidity\":0.2}},\"type\":\"barpolar\"}],\"bar\":[{\"error_x\":{\"color\":\"#2a3f5f\"},\"error_y\":{\"color\":\"#2a3f5f\"},\"marker\":{\"line\":{\"color\":\"#E5ECF6\",\"width\":0.5},\"pattern\":{\"fillmode\":\"overlay\",\"size\":10,\"solidity\":0.2}},\"type\":\"bar\"}],\"carpet\":[{\"aaxis\":{\"endlinecolor\":\"#2a3f5f\",\"gridcolor\":\"white\",\"linecolor\":\"white\",\"minorgridcolor\":\"white\",\"startlinecolor\":\"#2a3f5f\"},\"baxis\":{\"endlinecolor\":\"#2a3f5f\",\"gridcolor\":\"white\",\"linecolor\":\"white\",\"minorgridcolor\":\"white\",\"startlinecolor\":\"#2a3f5f\"},\"type\":\"carpet\"}],\"choropleth\":[{\"colorbar\":{\"outlinewidth\":0,\"ticks\":\"\"},\"type\":\"choropleth\"}],\"contourcarpet\":[{\"colorbar\":{\"outlinewidth\":0,\"ticks\":\"\"},\"type\":\"contourcarpet\"}],\"contour\":[{\"colorbar\":{\"outlinewidth\":0,\"ticks\":\"\"},\"colorscale\":[[0.0,\"#0d0887\"],[0.1111111111111111,\"#46039f\"],[0.2222222222222222,\"#7201a8\"],[0.3333333333333333,\"#9c179e\"],[0.4444444444444444,\"#bd3786\"],[0.5555555555555556,\"#d8576b\"],[0.6666666666666666,\"#ed7953\"],[0.7777777777777778,\"#fb9f3a\"],[0.8888888888888888,\"#fdca26\"],[1.0,\"#f0f921\"]],\"type\":\"contour\"}],\"heatmapgl\":[{\"colorbar\":{\"outlinewidth\":0,\"ticks\":\"\"},\"colorscale\":[[0.0,\"#0d0887\"],[0.1111111111111111,\"#46039f\"],[0.2222222222222222,\"#7201a8\"],[0.3333333333333333,\"#9c179e\"],[0.4444444444444444,\"#bd3786\"],[0.5555555555555556,\"#d8576b\"],[0.6666666666666666,\"#ed7953\"],[0.7777777777777778,\"#fb9f3a\"],[0.8888888888888888,\"#fdca26\"],[1.0,\"#f0f921\"]],\"type\":\"heatmapgl\"}],\"heatmap\":[{\"colorbar\":{\"outlinewidth\":0,\"ticks\":\"\"},\"colorscale\":[[0.0,\"#0d0887\"],[0.1111111111111111,\"#46039f\"],[0.2222222222222222,\"#7201a8\"],[0.3333333333333333,\"#9c179e\"],[0.4444444444444444,\"#bd3786\"],[0.5555555555555556,\"#d8576b\"],[0.6666666666666666,\"#ed7953\"],[0.7777777777777778,\"#fb9f3a\"],[0.8888888888888888,\"#fdca26\"],[1.0,\"#f0f921\"]],\"type\":\"heatmap\"}],\"histogram2dcontour\":[{\"colorbar\":{\"outlinewidth\":0,\"ticks\":\"\"},\"colorscale\":[[0.0,\"#0d0887\"],[0.1111111111111111,\"#46039f\"],[0.2222222222222222,\"#7201a8\"],[0.3333333333333333,\"#9c179e\"],[0.4444444444444444,\"#bd3786\"],[0.5555555555555556,\"#d8576b\"],[0.6666666666666666,\"#ed7953\"],[0.7777777777777778,\"#fb9f3a\"],[0.8888888888888888,\"#fdca26\"],[1.0,\"#f0f921\"]],\"type\":\"histogram2dcontour\"}],\"histogram2d\":[{\"colorbar\":{\"outlinewidth\":0,\"ticks\":\"\"},\"colorscale\":[[0.0,\"#0d0887\"],[0.1111111111111111,\"#46039f\"],[0.2222222222222222,\"#7201a8\"],[0.3333333333333333,\"#9c179e\"],[0.4444444444444444,\"#bd3786\"],[0.5555555555555556,\"#d8576b\"],[0.6666666666666666,\"#ed7953\"],[0.7777777777777778,\"#fb9f3a\"],[0.8888888888888888,\"#fdca26\"],[1.0,\"#f0f921\"]],\"type\":\"histogram2d\"}],\"histogram\":[{\"marker\":{\"pattern\":{\"fillmode\":\"overlay\",\"size\":10,\"solidity\":0.2}},\"type\":\"histogram\"}],\"mesh3d\":[{\"colorbar\":{\"outlinewidth\":0,\"ticks\":\"\"},\"type\":\"mesh3d\"}],\"parcoords\":[{\"line\":{\"colorbar\":{\"outlinewidth\":0,\"ticks\":\"\"}},\"type\":\"parcoords\"}],\"pie\":[{\"automargin\":true,\"type\":\"pie\"}],\"scatter3d\":[{\"line\":{\"colorbar\":{\"outlinewidth\":0,\"ticks\":\"\"}},\"marker\":{\"colorbar\":{\"outlinewidth\":0,\"ticks\":\"\"}},\"type\":\"scatter3d\"}],\"scattercarpet\":[{\"marker\":{\"colorbar\":{\"outlinewidth\":0,\"ticks\":\"\"}},\"type\":\"scattercarpet\"}],\"scattergeo\":[{\"marker\":{\"colorbar\":{\"outlinewidth\":0,\"ticks\":\"\"}},\"type\":\"scattergeo\"}],\"scattergl\":[{\"marker\":{\"colorbar\":{\"outlinewidth\":0,\"ticks\":\"\"}},\"type\":\"scattergl\"}],\"scattermapbox\":[{\"marker\":{\"colorbar\":{\"outlinewidth\":0,\"ticks\":\"\"}},\"type\":\"scattermapbox\"}],\"scatterpolargl\":[{\"marker\":{\"colorbar\":{\"outlinewidth\":0,\"ticks\":\"\"}},\"type\":\"scatterpolargl\"}],\"scatterpolar\":[{\"marker\":{\"colorbar\":{\"outlinewidth\":0,\"ticks\":\"\"}},\"type\":\"scatterpolar\"}],\"scatter\":[{\"fillpattern\":{\"fillmode\":\"overlay\",\"size\":10,\"solidity\":0.2},\"type\":\"scatter\"}],\"scatterternary\":[{\"marker\":{\"colorbar\":{\"outlinewidth\":0,\"ticks\":\"\"}},\"type\":\"scatterternary\"}],\"surface\":[{\"colorbar\":{\"outlinewidth\":0,\"ticks\":\"\"},\"colorscale\":[[0.0,\"#0d0887\"],[0.1111111111111111,\"#46039f\"],[0.2222222222222222,\"#7201a8\"],[0.3333333333333333,\"#9c179e\"],[0.4444444444444444,\"#bd3786\"],[0.5555555555555556,\"#d8576b\"],[0.6666666666666666,\"#ed7953\"],[0.7777777777777778,\"#fb9f3a\"],[0.8888888888888888,\"#fdca26\"],[1.0,\"#f0f921\"]],\"type\":\"surface\"}],\"table\":[{\"cells\":{\"fill\":{\"color\":\"#EBF0F8\"},\"line\":{\"color\":\"white\"}},\"header\":{\"fill\":{\"color\":\"#C8D4E3\"},\"line\":{\"color\":\"white\"}},\"type\":\"table\"}]},\"layout\":{\"annotationdefaults\":{\"arrowcolor\":\"#2a3f5f\",\"arrowhead\":0,\"arrowwidth\":1},\"autotypenumbers\":\"strict\",\"coloraxis\":{\"colorbar\":{\"outlinewidth\":0,\"ticks\":\"\"}},\"colorscale\":{\"diverging\":[[0,\"#8e0152\"],[0.1,\"#c51b7d\"],[0.2,\"#de77ae\"],[0.3,\"#f1b6da\"],[0.4,\"#fde0ef\"],[0.5,\"#f7f7f7\"],[0.6,\"#e6f5d0\"],[0.7,\"#b8e186\"],[0.8,\"#7fbc41\"],[0.9,\"#4d9221\"],[1,\"#276419\"]],\"sequential\":[[0.0,\"#0d0887\"],[0.1111111111111111,\"#46039f\"],[0.2222222222222222,\"#7201a8\"],[0.3333333333333333,\"#9c179e\"],[0.4444444444444444,\"#bd3786\"],[0.5555555555555556,\"#d8576b\"],[0.6666666666666666,\"#ed7953\"],[0.7777777777777778,\"#fb9f3a\"],[0.8888888888888888,\"#fdca26\"],[1.0,\"#f0f921\"]],\"sequentialminus\":[[0.0,\"#0d0887\"],[0.1111111111111111,\"#46039f\"],[0.2222222222222222,\"#7201a8\"],[0.3333333333333333,\"#9c179e\"],[0.4444444444444444,\"#bd3786\"],[0.5555555555555556,\"#d8576b\"],[0.6666666666666666,\"#ed7953\"],[0.7777777777777778,\"#fb9f3a\"],[0.8888888888888888,\"#fdca26\"],[1.0,\"#f0f921\"]]},\"colorway\":[\"#636efa\",\"#EF553B\",\"#00cc96\",\"#ab63fa\",\"#FFA15A\",\"#19d3f3\",\"#FF6692\",\"#B6E880\",\"#FF97FF\",\"#FECB52\"],\"font\":{\"color\":\"#2a3f5f\"},\"geo\":{\"bgcolor\":\"white\",\"lakecolor\":\"white\",\"landcolor\":\"#E5ECF6\",\"showlakes\":true,\"showland\":true,\"subunitcolor\":\"white\"},\"hoverlabel\":{\"align\":\"left\"},\"hovermode\":\"closest\",\"mapbox\":{\"style\":\"light\"},\"paper_bgcolor\":\"white\",\"plot_bgcolor\":\"#E5ECF6\",\"polar\":{\"angularaxis\":{\"gridcolor\":\"white\",\"linecolor\":\"white\",\"ticks\":\"\"},\"bgcolor\":\"#E5ECF6\",\"radialaxis\":{\"gridcolor\":\"white\",\"linecolor\":\"white\",\"ticks\":\"\"}},\"scene\":{\"xaxis\":{\"backgroundcolor\":\"#E5ECF6\",\"gridcolor\":\"white\",\"gridwidth\":2,\"linecolor\":\"white\",\"showbackground\":true,\"ticks\":\"\",\"zerolinecolor\":\"white\"},\"yaxis\":{\"backgroundcolor\":\"#E5ECF6\",\"gridcolor\":\"white\",\"gridwidth\":2,\"linecolor\":\"white\",\"showbackground\":true,\"ticks\":\"\",\"zerolinecolor\":\"white\"},\"zaxis\":{\"backgroundcolor\":\"#E5ECF6\",\"gridcolor\":\"white\",\"gridwidth\":2,\"linecolor\":\"white\",\"showbackground\":true,\"ticks\":\"\",\"zerolinecolor\":\"white\"}},\"shapedefaults\":{\"line\":{\"color\":\"#2a3f5f\"}},\"ternary\":{\"aaxis\":{\"gridcolor\":\"white\",\"linecolor\":\"white\",\"ticks\":\"\"},\"baxis\":{\"gridcolor\":\"white\",\"linecolor\":\"white\",\"ticks\":\"\"},\"bgcolor\":\"#E5ECF6\",\"caxis\":{\"gridcolor\":\"white\",\"linecolor\":\"white\",\"ticks\":\"\"}},\"title\":{\"x\":0.05},\"xaxis\":{\"automargin\":true,\"gridcolor\":\"white\",\"linecolor\":\"white\",\"ticks\":\"\",\"title\":{\"standoff\":15},\"zerolinecolor\":\"white\",\"zerolinewidth\":2},\"yaxis\":{\"automargin\":true,\"gridcolor\":\"white\",\"linecolor\":\"white\",\"ticks\":\"\",\"title\":{\"standoff\":15},\"zerolinecolor\":\"white\",\"zerolinewidth\":2}}},\"title\":{\"font\":{\"color\":\"#4D5663\"}},\"xaxis\":{\"gridcolor\":\"#E1E5ED\",\"showgrid\":true,\"tickfont\":{\"color\":\"#4D5663\"},\"title\":{\"font\":{\"color\":\"#4D5663\"},\"text\":\"\"},\"zerolinecolor\":\"#E1E5ED\"},\"yaxis\":{\"gridcolor\":\"#E1E5ED\",\"showgrid\":true,\"tickfont\":{\"color\":\"#4D5663\"},\"title\":{\"font\":{\"color\":\"#4D5663\"},\"text\":\"\"},\"zerolinecolor\":\"#E1E5ED\"}},                        {\"showLink\": true, \"linkText\": \"Export to plot.ly\", \"plotlyServerURL\": \"https://plot.ly\", \"responsive\": true}                    ).then(function(){\n                            \nvar gd = document.getElementById('a418c8fa-3b4e-4ed7-9b39-5adc8ea6d7b8');\nvar x = new MutationObserver(function (mutations, observer) {{\n        var display = window.getComputedStyle(gd).display;\n        if (!display || display === 'none') {{\n            console.log([gd, 'removed!']);\n            Plotly.purge(gd);\n            observer.disconnect();\n        }}\n}});\n\n// Listen for the removal of the full notebook cells\nvar notebookContainer = gd.closest('#notebook-container');\nif (notebookContainer) {{\n    x.observe(notebookContainer, {childList: true});\n}}\n\n// Listen for the clearing of the current output cell\nvar outputEl = gd.closest('.output');\nif (outputEl) {{\n    x.observe(outputEl, {childList: true});\n}}\n\n                        })                };                });            </script>        </div>"
     },
     "metadata": {},
     "output_type": "display_data"
    }
   ],
   "source": [
    "data[\"Dep_Time_hour\"].apply(flight_departure_time).value_counts().iplot(kind=\"bar\")"
   ],
   "metadata": {
    "collapsed": false,
    "ExecuteTime": {
     "end_time": "2023-06-16T10:42:54.540019600Z",
     "start_time": "2023-06-16T10:42:52.333067400Z"
    }
   }
  },
  {
   "cell_type": "code",
   "execution_count": 52,
   "outputs": [
    {
     "data": {
      "text/plain": "       Airline Date_of_Journey    Source Destination                  Route  \\\n0       IndiGo      2019-03-24  Banglore   New Delhi              BLR → DEL   \n1    Air India      2019-01-05   Kolkata    Banglore  CCU → IXR → BBI → BLR   \n2  Jet Airways      2019-09-06     Delhi      Cochin  DEL → LKO → BOM → COK   \n\n  Duration Total_Stops Additional_Info  Price  Journey_Year  Journey_Month  \\\n0   2h 50m    non-stop         No info   3897          2019              3   \n1   7h 25m     2 stops         No info   7662          2019              1   \n2      19h     2 stops         No info  13882          2019              9   \n\n   Journey_Day  Dep_Time_hour  Dep_Time_minute  Arrival_Time_hour  \\\n0           24             22               20                  1   \n1            5              5               50                 13   \n2            6              9               25                  4   \n\n   Arrival_Time_minute  \n0                   10  \n1                   15  \n2                   25  ",
      "text/html": "<div>\n<style scoped>\n    .dataframe tbody tr th:only-of-type {\n        vertical-align: middle;\n    }\n\n    .dataframe tbody tr th {\n        vertical-align: top;\n    }\n\n    .dataframe thead th {\n        text-align: right;\n    }\n</style>\n<table border=\"1\" class=\"dataframe\">\n  <thead>\n    <tr style=\"text-align: right;\">\n      <th></th>\n      <th>Airline</th>\n      <th>Date_of_Journey</th>\n      <th>Source</th>\n      <th>Destination</th>\n      <th>Route</th>\n      <th>Duration</th>\n      <th>Total_Stops</th>\n      <th>Additional_Info</th>\n      <th>Price</th>\n      <th>Journey_Year</th>\n      <th>Journey_Month</th>\n      <th>Journey_Day</th>\n      <th>Dep_Time_hour</th>\n      <th>Dep_Time_minute</th>\n      <th>Arrival_Time_hour</th>\n      <th>Arrival_Time_minute</th>\n    </tr>\n  </thead>\n  <tbody>\n    <tr>\n      <th>0</th>\n      <td>IndiGo</td>\n      <td>2019-03-24</td>\n      <td>Banglore</td>\n      <td>New Delhi</td>\n      <td>BLR → DEL</td>\n      <td>2h 50m</td>\n      <td>non-stop</td>\n      <td>No info</td>\n      <td>3897</td>\n      <td>2019</td>\n      <td>3</td>\n      <td>24</td>\n      <td>22</td>\n      <td>20</td>\n      <td>1</td>\n      <td>10</td>\n    </tr>\n    <tr>\n      <th>1</th>\n      <td>Air India</td>\n      <td>2019-01-05</td>\n      <td>Kolkata</td>\n      <td>Banglore</td>\n      <td>CCU → IXR → BBI → BLR</td>\n      <td>7h 25m</td>\n      <td>2 stops</td>\n      <td>No info</td>\n      <td>7662</td>\n      <td>2019</td>\n      <td>1</td>\n      <td>5</td>\n      <td>5</td>\n      <td>50</td>\n      <td>13</td>\n      <td>15</td>\n    </tr>\n    <tr>\n      <th>2</th>\n      <td>Jet Airways</td>\n      <td>2019-09-06</td>\n      <td>Delhi</td>\n      <td>Cochin</td>\n      <td>DEL → LKO → BOM → COK</td>\n      <td>19h</td>\n      <td>2 stops</td>\n      <td>No info</td>\n      <td>13882</td>\n      <td>2019</td>\n      <td>9</td>\n      <td>6</td>\n      <td>9</td>\n      <td>25</td>\n      <td>4</td>\n      <td>25</td>\n    </tr>\n  </tbody>\n</table>\n</div>"
     },
     "execution_count": 52,
     "metadata": {},
     "output_type": "execute_result"
    }
   ],
   "source": [
    "data.head(3)"
   ],
   "metadata": {
    "collapsed": false,
    "ExecuteTime": {
     "end_time": "2023-06-16T10:45:51.955920300Z",
     "start_time": "2023-06-16T10:45:51.935975Z"
    }
   }
  },
  {
   "cell_type": "code",
   "execution_count": 79,
   "outputs": [],
   "source": [
    "def preprocess_duration(x):\n",
    "    if \"h\" not in x:\n",
    "        x = \"0h\" + \" \" + x\n",
    "    elif \"m\" not in x:\n",
    "        x = x + \" \" + \"0m\"\n",
    "    return x"
   ],
   "metadata": {
    "collapsed": false,
    "ExecuteTime": {
     "end_time": "2023-06-16T11:06:36.522641Z",
     "start_time": "2023-06-16T11:06:36.517654200Z"
    }
   }
  },
  {
   "cell_type": "code",
   "execution_count": 83,
   "outputs": [
    {
     "data": {
      "text/plain": "0        2h 50m\n1        7h 25m\n2        19h 0m\n3        5h 25m\n4        4h 45m\n          ...  \n10678    2h 30m\n10679    2h 35m\n10680     3h 0m\n10681    2h 40m\n10682    8h 20m\nName: Duration, Length: 10682, dtype: object"
     },
     "execution_count": 83,
     "metadata": {},
     "output_type": "execute_result"
    }
   ],
   "source": [
    "data[\"Duration\"].apply(preprocess_duration)"
   ],
   "metadata": {
    "collapsed": false,
    "ExecuteTime": {
     "end_time": "2023-06-16T11:06:55.822529500Z",
     "start_time": "2023-06-16T11:06:55.794474900Z"
    }
   }
  },
  {
   "cell_type": "code",
   "execution_count": 56,
   "outputs": [
    {
     "data": {
      "text/plain": "'2h 50m'"
     },
     "execution_count": 56,
     "metadata": {},
     "output_type": "execute_result"
    }
   ],
   "source": [
    "data[\"Duration\"][0]"
   ],
   "metadata": {
    "collapsed": false,
    "ExecuteTime": {
     "end_time": "2023-06-16T10:50:36.577687300Z",
     "start_time": "2023-06-16T10:50:36.541452200Z"
    }
   }
  },
  {
   "cell_type": "code",
   "execution_count": 57,
   "outputs": [
    {
     "data": {
      "text/plain": "['2h', '50m']"
     },
     "execution_count": 57,
     "metadata": {},
     "output_type": "execute_result"
    }
   ],
   "source": [
    "'2h 50m'.split(\" \")"
   ],
   "metadata": {
    "collapsed": false,
    "ExecuteTime": {
     "end_time": "2023-06-16T10:50:52.955823900Z",
     "start_time": "2023-06-16T10:50:52.902692900Z"
    }
   }
  },
  {
   "cell_type": "code",
   "execution_count": 72,
   "outputs": [
    {
     "data": {
      "text/plain": "'2h'"
     },
     "execution_count": 72,
     "metadata": {},
     "output_type": "execute_result"
    }
   ],
   "source": [
    "'2h 50m'.split(\" \")[0]"
   ],
   "metadata": {
    "collapsed": false,
    "ExecuteTime": {
     "end_time": "2023-06-16T11:03:30.408059700Z",
     "start_time": "2023-06-16T11:03:30.371596Z"
    }
   }
  },
  {
   "cell_type": "code",
   "execution_count": 59,
   "outputs": [
    {
     "data": {
      "text/plain": "'2'"
     },
     "execution_count": 59,
     "metadata": {},
     "output_type": "execute_result"
    }
   ],
   "source": [
    "'2h 50m'.split(\" \")[0][0:-1]"
   ],
   "metadata": {
    "collapsed": false,
    "ExecuteTime": {
     "end_time": "2023-06-16T10:51:36.111602600Z",
     "start_time": "2023-06-16T10:51:36.068720800Z"
    }
   }
  },
  {
   "cell_type": "code",
   "execution_count": 60,
   "outputs": [
    {
     "data": {
      "text/plain": "str"
     },
     "execution_count": 60,
     "metadata": {},
     "output_type": "execute_result"
    }
   ],
   "source": [
    "type('2h 50m'.split(\" \")[0][0:-1])"
   ],
   "metadata": {
    "collapsed": false,
    "ExecuteTime": {
     "end_time": "2023-06-16T10:51:49.829249800Z",
     "start_time": "2023-06-16T10:51:49.788388400Z"
    }
   }
  },
  {
   "cell_type": "code",
   "execution_count": 61,
   "outputs": [
    {
     "data": {
      "text/plain": "2"
     },
     "execution_count": 61,
     "metadata": {},
     "output_type": "execute_result"
    }
   ],
   "source": [
    "int('2h 50m'.split(\" \")[0][0:-1])"
   ],
   "metadata": {
    "collapsed": false,
    "ExecuteTime": {
     "end_time": "2023-06-16T10:51:57.333501500Z",
     "start_time": "2023-06-16T10:51:57.287189100Z"
    }
   }
  },
  {
   "cell_type": "code",
   "execution_count": 62,
   "outputs": [
    {
     "data": {
      "text/plain": "50"
     },
     "execution_count": 62,
     "metadata": {},
     "output_type": "execute_result"
    }
   ],
   "source": [
    "int('2h 50m'.split(\" \")[1][0:-1])"
   ],
   "metadata": {
    "collapsed": false,
    "ExecuteTime": {
     "end_time": "2023-06-16T10:52:18.022234400Z",
     "start_time": "2023-06-16T10:52:17.985368Z"
    }
   }
  },
  {
   "cell_type": "code",
   "execution_count": 82,
   "outputs": [],
   "source": [
    "data[\"Duration_hours\"] = data[\"Duration\"].apply(lambda x: int(x.split(\" \")[0][0:-1]))"
   ],
   "metadata": {
    "collapsed": false,
    "ExecuteTime": {
     "end_time": "2023-06-16T11:06:44.780214800Z",
     "start_time": "2023-06-16T11:06:44.755281700Z"
    }
   }
  },
  {
   "cell_type": "markdown",
   "source": [],
   "metadata": {
    "collapsed": false
   }
  },
  {
   "cell_type": "markdown",
   "source": [],
   "metadata": {
    "collapsed": false
   }
  },
  {
   "cell_type": "code",
   "execution_count": 85,
   "outputs": [],
   "source": [
    "data[\"Duration_minutes\"] = data[\"Duration\"].apply(lambda x: int(x.split(\" \")[1][0:-1] if len(x.split(\" \")) > 1 else 0))"
   ],
   "metadata": {
    "collapsed": false,
    "ExecuteTime": {
     "end_time": "2023-06-16T11:11:15.701095300Z",
     "start_time": "2023-06-16T11:11:15.653194400Z"
    }
   }
  },
  {
   "cell_type": "code",
   "execution_count": 86,
   "outputs": [
    {
     "data": {
      "text/plain": "     Airline Date_of_Journey    Source Destination                  Route  \\\n0     IndiGo      2019-03-24  Banglore   New Delhi              BLR → DEL   \n1  Air India      2019-01-05   Kolkata    Banglore  CCU → IXR → BBI → BLR   \n\n  Duration Total_Stops Additional_Info  Price  Journey_Year  Journey_Month  \\\n0   2h 50m    non-stop         No info   3897          2019              3   \n1   7h 25m     2 stops         No info   7662          2019              1   \n\n   Journey_Day  Dep_Time_hour  Dep_Time_minute  Arrival_Time_hour  \\\n0           24             22               20                  1   \n1            5              5               50                 13   \n\n   Arrival_Time_minute  Duration_hours  Duration_minutes  \n0                   10               2                50  \n1                   15               7                25  ",
      "text/html": "<div>\n<style scoped>\n    .dataframe tbody tr th:only-of-type {\n        vertical-align: middle;\n    }\n\n    .dataframe tbody tr th {\n        vertical-align: top;\n    }\n\n    .dataframe thead th {\n        text-align: right;\n    }\n</style>\n<table border=\"1\" class=\"dataframe\">\n  <thead>\n    <tr style=\"text-align: right;\">\n      <th></th>\n      <th>Airline</th>\n      <th>Date_of_Journey</th>\n      <th>Source</th>\n      <th>Destination</th>\n      <th>Route</th>\n      <th>Duration</th>\n      <th>Total_Stops</th>\n      <th>Additional_Info</th>\n      <th>Price</th>\n      <th>Journey_Year</th>\n      <th>Journey_Month</th>\n      <th>Journey_Day</th>\n      <th>Dep_Time_hour</th>\n      <th>Dep_Time_minute</th>\n      <th>Arrival_Time_hour</th>\n      <th>Arrival_Time_minute</th>\n      <th>Duration_hours</th>\n      <th>Duration_minutes</th>\n    </tr>\n  </thead>\n  <tbody>\n    <tr>\n      <th>0</th>\n      <td>IndiGo</td>\n      <td>2019-03-24</td>\n      <td>Banglore</td>\n      <td>New Delhi</td>\n      <td>BLR → DEL</td>\n      <td>2h 50m</td>\n      <td>non-stop</td>\n      <td>No info</td>\n      <td>3897</td>\n      <td>2019</td>\n      <td>3</td>\n      <td>24</td>\n      <td>22</td>\n      <td>20</td>\n      <td>1</td>\n      <td>10</td>\n      <td>2</td>\n      <td>50</td>\n    </tr>\n    <tr>\n      <th>1</th>\n      <td>Air India</td>\n      <td>2019-01-05</td>\n      <td>Kolkata</td>\n      <td>Banglore</td>\n      <td>CCU → IXR → BBI → BLR</td>\n      <td>7h 25m</td>\n      <td>2 stops</td>\n      <td>No info</td>\n      <td>7662</td>\n      <td>2019</td>\n      <td>1</td>\n      <td>5</td>\n      <td>5</td>\n      <td>50</td>\n      <td>13</td>\n      <td>15</td>\n      <td>7</td>\n      <td>25</td>\n    </tr>\n  </tbody>\n</table>\n</div>"
     },
     "execution_count": 86,
     "metadata": {},
     "output_type": "execute_result"
    }
   ],
   "source": [
    "data.head(2)"
   ],
   "metadata": {
    "collapsed": false,
    "ExecuteTime": {
     "end_time": "2023-06-16T11:12:29.746350300Z",
     "start_time": "2023-06-16T11:12:29.718424100Z"
    }
   }
  },
  {
   "cell_type": "code",
   "execution_count": 87,
   "outputs": [
    {
     "data": {
      "text/plain": "0        2h 50m\n1        7h 25m\n2           19h\n3        5h 25m\n4        4h 45m\n          ...  \n10678    2h 30m\n10679    2h 35m\n10680        3h\n10681    2h 40m\n10682    8h 20m\nName: Duration, Length: 10682, dtype: object"
     },
     "execution_count": 87,
     "metadata": {},
     "output_type": "execute_result"
    }
   ],
   "source": [
    "data[\"Duration\"]"
   ],
   "metadata": {
    "collapsed": false,
    "ExecuteTime": {
     "end_time": "2023-06-16T11:17:27.491493800Z",
     "start_time": "2023-06-16T11:17:27.421621400Z"
    }
   }
  },
  {
   "cell_type": "markdown",
   "source": [],
   "metadata": {
    "collapsed": false
   }
  },
  {
   "cell_type": "code",
   "execution_count": 89,
   "outputs": [],
   "source": [
    "data[\"Duration_total_minutes\"] = data[\"Duration\"].str.replace(\"h\", \"*60\").str.replace(\" \", \"+\").str.replace(\"m\", \"*1\").apply(eval)"
   ],
   "metadata": {
    "collapsed": false,
    "ExecuteTime": {
     "end_time": "2023-06-16T11:20:32.760156700Z",
     "start_time": "2023-06-16T11:20:32.614547100Z"
    }
   }
  },
  {
   "cell_type": "code",
   "execution_count": 90,
   "outputs": [
    {
     "data": {
      "text/plain": "0         170\n1         445\n2        1140\n3         325\n4         285\n         ... \n10678     150\n10679     155\n10680     180\n10681     160\n10682     500\nName: Duration_total_minutes, Length: 10682, dtype: int64"
     },
     "execution_count": 90,
     "metadata": {},
     "output_type": "execute_result"
    }
   ],
   "source": [
    "data[\"Duration_total_minutes\"]"
   ],
   "metadata": {
    "collapsed": false,
    "ExecuteTime": {
     "end_time": "2023-06-16T11:20:36.827046300Z",
     "start_time": "2023-06-16T11:20:36.777179400Z"
    }
   }
  },
  {
   "cell_type": "code",
   "execution_count": 91,
   "outputs": [
    {
     "data": {
      "text/plain": "Index(['Airline', 'Date_of_Journey', 'Source', 'Destination', 'Route',\n       'Duration', 'Total_Stops', 'Additional_Info', 'Price', 'Journey_Year',\n       'Journey_Month', 'Journey_Day', 'Dep_Time_hour', 'Dep_Time_minute',\n       'Arrival_Time_hour', 'Arrival_Time_minute', 'Duration_hours',\n       'Duration_minutes', 'Duration_total_minutes'],\n      dtype='object')"
     },
     "execution_count": 91,
     "metadata": {},
     "output_type": "execute_result"
    }
   ],
   "source": [
    "data.columns"
   ],
   "metadata": {
    "collapsed": false,
    "ExecuteTime": {
     "end_time": "2023-06-16T11:21:48.173057300Z",
     "start_time": "2023-06-16T11:21:48.101261500Z"
    }
   }
  },
  {
   "cell_type": "code",
   "execution_count": 92,
   "outputs": [
    {
     "data": {
      "text/plain": "<Axes: xlabel='Duration_total_minutes', ylabel='Price'>"
     },
     "execution_count": 92,
     "metadata": {},
     "output_type": "execute_result"
    },
    {
     "data": {
      "text/plain": "<Figure size 640x480 with 1 Axes>",
      "image/png": "[encoded data removed]"
     },
     "metadata": {},
     "output_type": "display_data"
    }
   ],
   "source": [
    "sns.scatterplot(x=\"Duration_total_minutes\", y=\"Price\", data=data)"
   ],
   "metadata": {
    "collapsed": false,
    "ExecuteTime": {
     "end_time": "2023-06-16T11:22:25.273953500Z",
     "start_time": "2023-06-16T11:22:24.414594400Z"
    }
   }
  },
  {
   "cell_type": "code",
   "execution_count": 95,
   "outputs": [
    {
     "data": {
      "text/plain": "<seaborn.axisgrid.FacetGrid at 0x1319d709840>"
     },
     "execution_count": 95,
     "metadata": {},
     "output_type": "execute_result"
    },
    {
     "data": {
      "text/plain": "<Figure size 500x500 with 1 Axes>",
      "image/png": "[encoded data removed]"
     },
     "metadata": {},
     "output_type": "display_data"
    }
   ],
   "source": [
    "sns.lmplot(x=\"Duration_total_minutes\", y=\"Price\", data=data)"
   ],
   "metadata": {
    "collapsed": false,
    "ExecuteTime": {
     "end_time": "2023-06-16T11:24:57.640489Z",
     "start_time": "2023-06-16T11:24:55.370247100Z"
    }
   }
  },
  {
   "cell_type": "code",
   "execution_count": 94,
   "outputs": [
    {
     "data": {
      "text/plain": "<Axes: xlabel='Duration_total_minutes', ylabel='Price'>"
     },
     "execution_count": 94,
     "metadata": {},
     "output_type": "execute_result"
    },
    {
     "data": {
      "text/plain": "<Figure size 640x480 with 1 Axes>",
      "image/png": "[encoded data removed]"
     },
     "metadata": {},
     "output_type": "display_data"
    }
   ],
   "source": [
    "sns.scatterplot(x=\"Duration_total_minutes\", y=\"Price\", hue=\"Total_Stops\", data=data)"
   ],
   "metadata": {
    "collapsed": false,
    "ExecuteTime": {
     "end_time": "2023-06-16T11:24:00.115802800Z",
     "start_time": "2023-06-16T11:23:58.988776Z"
    }
   }
  },
  {
   "cell_type": "code",
   "execution_count": 100,
   "outputs": [
    {
     "data": {
      "text/plain": "Route\nCCU → BOM → BLR          930\nDEL → BOM → COK          875\nBLR → BOM → DEL          385\nBLR → DEL                382\nCCU → DEL → BLR          300\nBOM → HYD                207\nDEL → JAI → BOM → COK    207\nDEL → AMD → BOM → COK    141\nDEL → IDR → BOM → COK     86\nDEL → NAG → BOM → COK     61\nDEL → ATQ → BOM → COK     38\nDEL → COK                 34\nDEL → BHO → BOM → COK     29\nDEL → BDQ → BOM → COK     28\nDEL → LKO → BOM → COK     25\nDEL → JDH → BOM → COK     23\nCCU → GAU → BLR           22\nDEL → MAA → BOM → COK     16\nDEL → IXC → BOM → COK     13\nBLR → MAA → DEL           10\nBLR → BDQ → DEL            8\nDEL → UDR → BOM → COK      7\nBOM → DEL → HYD            5\nCCU → BOM → PNQ → BLR      4\nBLR → BOM → JDH → DEL      3\nDEL → DED → BOM → COK      2\nBOM → BDQ → DEL → HYD      2\nDEL → CCU → BOM → COK      1\nBOM → VNS → DEL → HYD      1\nBOM → UDR → DEL → HYD      1\nBOM → JDH → DEL → HYD      1\nBOM → IDR → DEL → HYD      1\nBOM → DED → DEL → HYD      1\ndtype: int64"
     },
     "execution_count": 100,
     "metadata": {},
     "output_type": "execute_result"
    }
   ],
   "source": [
    "data[data[\"Airline\"]==\"Jet Airways\"].groupby(\"Route\").size().sort_values(ascending=False)"
   ],
   "metadata": {
    "collapsed": false,
    "ExecuteTime": {
     "end_time": "2023-06-16T11:30:52.588474600Z",
     "start_time": "2023-06-16T11:30:52.525972100Z"
    }
   }
  },
  {
   "cell_type": "code",
   "execution_count": 101,
   "outputs": [
    {
     "data": {
      "text/plain": "Index(['Airline', 'Date_of_Journey', 'Source', 'Destination', 'Route',\n       'Duration', 'Total_Stops', 'Additional_Info', 'Price', 'Journey_Year',\n       'Journey_Month', 'Journey_Day', 'Dep_Time_hour', 'Dep_Time_minute',\n       'Arrival_Time_hour', 'Arrival_Time_minute', 'Duration_hours',\n       'Duration_minutes', 'Duration_total_minutes'],\n      dtype='object')"
     },
     "execution_count": 101,
     "metadata": {},
     "output_type": "execute_result"
    }
   ],
   "source": [
    "data.columns"
   ],
   "metadata": {
    "collapsed": false,
    "ExecuteTime": {
     "end_time": "2023-06-16T11:34:23.358635Z",
     "start_time": "2023-06-16T11:34:23.284316300Z"
    }
   }
  },
  {
   "cell_type": "code",
   "execution_count": 106,
   "outputs": [
    {
     "data": {
      "text/plain": "<Figure size 640x480 with 1 Axes>",
      "image/png": "[encoded data removed]"
     },
     "metadata": {},
     "output_type": "display_data"
    }
   ],
   "source": [
    "sns.boxplot(y=\"Price\", x=\"Airline\", data=data.sort_values(\"Price\", ascending=False))\n",
    "plt.xticks(rotation=\"vertical\")\n",
    "plt.show()"
   ],
   "metadata": {
    "collapsed": false,
    "ExecuteTime": {
     "end_time": "2023-06-16T11:36:15.904386400Z",
     "start_time": "2023-06-16T11:36:15.439629500Z"
    }
   }
  },
  {
   "cell_type": "code",
   "execution_count": null,
   "outputs": [],
   "source": [],
   "metadata": {
    "collapsed": false
   }
  }
 ],
 "metadata": {
  "kernelspec": {
   "display_name": "Python 3",
   "language": "python",
   "name": "python3"
  },
  "language_info": {
   "codemirror_mode": {
    "name": "ipython",
    "version": 2
   },
   "file_extension": ".py",
   "mimetype": "text/x-python",
   "name": "python",
   "nbconvert_exporter": "python",
   "pygments_lexer": "ipython2",
   "version": "2.7.6"
  }
 },
 "nbformat": 4,
 "nbformat_minor": 0
}
