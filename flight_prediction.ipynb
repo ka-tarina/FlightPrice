{
 "cells": [
  {
   "cell_type": "code",
   "execution_count": 5,
   "metadata": {
    "collapsed": true,
    "ExecuteTime": {
     "end_time": "2023-06-18T14:49:57.711545600Z",
     "start_time": "2023-06-18T14:49:57.413343Z"
    }
   },
   "outputs": [],
   "source": [
    "import pandas as pd\n",
    "import numpy as  np\n",
    "import matplotlib.pyplot as plt\n",
    "import seaborn as sns"
   ]
  },
  {
   "cell_type": "code",
   "execution_count": 6,
   "outputs": [],
   "source": [
    "train_data = pd.read_excel(r\"C:\\Users\\My computer\\Downloads\\1..Flight_Price-- Machine Learning-20230616T090444Z-001\\1..Flight_Price--_ Machine Learning\\Datasets/Data_train.xlsx\")"
   ],
   "metadata": {
    "collapsed": false,
    "ExecuteTime": {
     "end_time": "2023-06-18T14:50:00.612780500Z",
     "start_time": "2023-06-18T14:49:57.419327300Z"
    }
   }
  },
  {
   "cell_type": "code",
   "execution_count": 7,
   "outputs": [
    {
     "data": {
      "text/plain": "       Airline Date_of_Journey    Source Destination                  Route  \\\n0       IndiGo      24/03/2019  Banglore   New Delhi              BLR → DEL   \n1    Air India       1/05/2019   Kolkata    Banglore  CCU → IXR → BBI → BLR   \n2  Jet Airways       9/06/2019     Delhi      Cochin  DEL → LKO → BOM → COK   \n3       IndiGo      12/05/2019   Kolkata    Banglore        CCU → NAG → BLR   \n\n  Dep_Time  Arrival_Time Duration Total_Stops Additional_Info  Price  \n0    22:20  01:10 22 Mar   2h 50m    non-stop         No info   3897  \n1    05:50         13:15   7h 25m     2 stops         No info   7662  \n2    09:25  04:25 10 Jun      19h     2 stops         No info  13882  \n3    18:05         23:30   5h 25m      1 stop         No info   6218  ",
      "text/html": "<div>\n<style scoped>\n    .dataframe tbody tr th:only-of-type {\n        vertical-align: middle;\n    }\n\n    .dataframe tbody tr th {\n        vertical-align: top;\n    }\n\n    .dataframe thead th {\n        text-align: right;\n    }\n</style>\n<table border=\"1\" class=\"dataframe\">\n  <thead>\n    <tr style=\"text-align: right;\">\n      <th></th>\n      <th>Airline</th>\n      <th>Date_of_Journey</th>\n      <th>Source</th>\n      <th>Destination</th>\n      <th>Route</th>\n      <th>Dep_Time</th>\n      <th>Arrival_Time</th>\n      <th>Duration</th>\n      <th>Total_Stops</th>\n      <th>Additional_Info</th>\n      <th>Price</th>\n    </tr>\n  </thead>\n  <tbody>\n    <tr>\n      <th>0</th>\n      <td>IndiGo</td>\n      <td>24/03/2019</td>\n      <td>Banglore</td>\n      <td>New Delhi</td>\n      <td>BLR → DEL</td>\n      <td>22:20</td>\n      <td>01:10 22 Mar</td>\n      <td>2h 50m</td>\n      <td>non-stop</td>\n      <td>No info</td>\n      <td>3897</td>\n    </tr>\n    <tr>\n      <th>1</th>\n      <td>Air India</td>\n      <td>1/05/2019</td>\n      <td>Kolkata</td>\n      <td>Banglore</td>\n      <td>CCU → IXR → BBI → BLR</td>\n      <td>05:50</td>\n      <td>13:15</td>\n      <td>7h 25m</td>\n      <td>2 stops</td>\n      <td>No info</td>\n      <td>7662</td>\n    </tr>\n    <tr>\n      <th>2</th>\n      <td>Jet Airways</td>\n      <td>9/06/2019</td>\n      <td>Delhi</td>\n      <td>Cochin</td>\n      <td>DEL → LKO → BOM → COK</td>\n      <td>09:25</td>\n      <td>04:25 10 Jun</td>\n      <td>19h</td>\n      <td>2 stops</td>\n      <td>No info</td>\n      <td>13882</td>\n    </tr>\n    <tr>\n      <th>3</th>\n      <td>IndiGo</td>\n      <td>12/05/2019</td>\n      <td>Kolkata</td>\n      <td>Banglore</td>\n      <td>CCU → NAG → BLR</td>\n      <td>18:05</td>\n      <td>23:30</td>\n      <td>5h 25m</td>\n      <td>1 stop</td>\n      <td>No info</td>\n      <td>6218</td>\n    </tr>\n  </tbody>\n</table>\n</div>"
     },
     "execution_count": 7,
     "metadata": {},
     "output_type": "execute_result"
    }
   ],
   "source": [
    "train_data.head(4)"
   ],
   "metadata": {
    "collapsed": false,
    "ExecuteTime": {
     "end_time": "2023-06-18T14:50:00.663643900Z",
     "start_time": "2023-06-18T14:50:00.614776200Z"
    }
   }
  },
  {
   "cell_type": "code",
   "execution_count": 8,
   "outputs": [
    {
     "data": {
      "text/plain": "           Airline Date_of_Journey    Source Destination  \\\n10679    Air India      27/04/2019   Kolkata    Banglore   \n10680  Jet Airways      27/04/2019  Banglore       Delhi   \n10681      Vistara      01/03/2019  Banglore   New Delhi   \n10682    Air India       9/05/2019     Delhi      Cochin   \n\n                       Route Dep_Time Arrival_Time Duration Total_Stops  \\\n10679              CCU → BLR    20:45        23:20   2h 35m    non-stop   \n10680              BLR → DEL    08:20        11:20       3h    non-stop   \n10681              BLR → DEL    11:30        14:10   2h 40m    non-stop   \n10682  DEL → GOI → BOM → COK    10:55        19:15   8h 20m     2 stops   \n\n      Additional_Info  Price  \n10679         No info   4145  \n10680         No info   7229  \n10681         No info  12648  \n10682         No info  11753  ",
      "text/html": "<div>\n<style scoped>\n    .dataframe tbody tr th:only-of-type {\n        vertical-align: middle;\n    }\n\n    .dataframe tbody tr th {\n        vertical-align: top;\n    }\n\n    .dataframe thead th {\n        text-align: right;\n    }\n</style>\n<table border=\"1\" class=\"dataframe\">\n  <thead>\n    <tr style=\"text-align: right;\">\n      <th></th>\n      <th>Airline</th>\n      <th>Date_of_Journey</th>\n      <th>Source</th>\n      <th>Destination</th>\n      <th>Route</th>\n      <th>Dep_Time</th>\n      <th>Arrival_Time</th>\n      <th>Duration</th>\n      <th>Total_Stops</th>\n      <th>Additional_Info</th>\n      <th>Price</th>\n    </tr>\n  </thead>\n  <tbody>\n    <tr>\n      <th>10679</th>\n      <td>Air India</td>\n      <td>27/04/2019</td>\n      <td>Kolkata</td>\n      <td>Banglore</td>\n      <td>CCU → BLR</td>\n      <td>20:45</td>\n      <td>23:20</td>\n      <td>2h 35m</td>\n      <td>non-stop</td>\n      <td>No info</td>\n      <td>4145</td>\n    </tr>\n    <tr>\n      <th>10680</th>\n      <td>Jet Airways</td>\n      <td>27/04/2019</td>\n      <td>Banglore</td>\n      <td>Delhi</td>\n      <td>BLR → DEL</td>\n      <td>08:20</td>\n      <td>11:20</td>\n      <td>3h</td>\n      <td>non-stop</td>\n      <td>No info</td>\n      <td>7229</td>\n    </tr>\n    <tr>\n      <th>10681</th>\n      <td>Vistara</td>\n      <td>01/03/2019</td>\n      <td>Banglore</td>\n      <td>New Delhi</td>\n      <td>BLR → DEL</td>\n      <td>11:30</td>\n      <td>14:10</td>\n      <td>2h 40m</td>\n      <td>non-stop</td>\n      <td>No info</td>\n      <td>12648</td>\n    </tr>\n    <tr>\n      <th>10682</th>\n      <td>Air India</td>\n      <td>9/05/2019</td>\n      <td>Delhi</td>\n      <td>Cochin</td>\n      <td>DEL → GOI → BOM → COK</td>\n      <td>10:55</td>\n      <td>19:15</td>\n      <td>8h 20m</td>\n      <td>2 stops</td>\n      <td>No info</td>\n      <td>11753</td>\n    </tr>\n  </tbody>\n</table>\n</div>"
     },
     "execution_count": 8,
     "metadata": {},
     "output_type": "execute_result"
    }
   ],
   "source": [
    "train_data.tail(4)"
   ],
   "metadata": {
    "collapsed": false,
    "ExecuteTime": {
     "end_time": "2023-06-18T14:50:00.675614200Z",
     "start_time": "2023-06-18T14:50:00.659656500Z"
    }
   }
  },
  {
   "cell_type": "code",
   "execution_count": 9,
   "outputs": [
    {
     "name": "stdout",
     "output_type": "stream",
     "text": [
      "<class 'pandas.core.frame.DataFrame'>\n",
      "RangeIndex: 10683 entries, 0 to 10682\n",
      "Data columns (total 11 columns):\n",
      " #   Column           Non-Null Count  Dtype \n",
      "---  ------           --------------  ----- \n",
      " 0   Airline          10683 non-null  object\n",
      " 1   Date_of_Journey  10683 non-null  object\n",
      " 2   Source           10683 non-null  object\n",
      " 3   Destination      10683 non-null  object\n",
      " 4   Route            10682 non-null  object\n",
      " 5   Dep_Time         10683 non-null  object\n",
      " 6   Arrival_Time     10683 non-null  object\n",
      " 7   Duration         10683 non-null  object\n",
      " 8   Total_Stops      10682 non-null  object\n",
      " 9   Additional_Info  10683 non-null  object\n",
      " 10  Price            10683 non-null  int64 \n",
      "dtypes: int64(1), object(10)\n",
      "memory usage: 918.2+ KB\n"
     ]
    }
   ],
   "source": [
    "train_data.info()"
   ],
   "metadata": {
    "collapsed": false,
    "ExecuteTime": {
     "end_time": "2023-06-18T14:50:00.813244Z",
     "start_time": "2023-06-18T14:50:00.678605800Z"
    }
   }
  },
  {
   "cell_type": "code",
   "execution_count": 10,
   "outputs": [
    {
     "data": {
      "text/plain": "Airline            0\nDate_of_Journey    0\nSource             0\nDestination        0\nRoute              1\nDep_Time           0\nArrival_Time       0\nDuration           0\nTotal_Stops        1\nAdditional_Info    0\nPrice              0\ndtype: int64"
     },
     "execution_count": 10,
     "metadata": {},
     "output_type": "execute_result"
    }
   ],
   "source": [
    "train_data.isnull().sum()"
   ],
   "metadata": {
    "collapsed": false,
    "ExecuteTime": {
     "end_time": "2023-06-18T14:50:00.899015800Z",
     "start_time": "2023-06-18T14:50:00.725479200Z"
    }
   }
  },
  {
   "cell_type": "code",
   "execution_count": 11,
   "outputs": [
    {
     "data": {
      "text/plain": "0        False\n1        False\n2        False\n3        False\n4        False\n         ...  \n10678    False\n10679    False\n10680    False\n10681    False\n10682    False\nName: Total_Stops, Length: 10683, dtype: bool"
     },
     "execution_count": 11,
     "metadata": {},
     "output_type": "execute_result"
    }
   ],
   "source": [
    "train_data[\"Total_Stops\"].isnull()"
   ],
   "metadata": {
    "collapsed": false,
    "ExecuteTime": {
     "end_time": "2023-06-18T14:50:00.899015800Z",
     "start_time": "2023-06-18T14:50:00.756397100Z"
    }
   }
  },
  {
   "cell_type": "code",
   "execution_count": 12,
   "outputs": [
    {
     "data": {
      "text/plain": "        Airline Date_of_Journey Source Destination Route Dep_Time  \\\n9039  Air India       6/05/2019  Delhi      Cochin   NaN    09:45   \n\n      Arrival_Time Duration Total_Stops Additional_Info  Price  \n9039  09:25 07 May  23h 40m         NaN         No info   7480  ",
      "text/html": "<div>\n<style scoped>\n    .dataframe tbody tr th:only-of-type {\n        vertical-align: middle;\n    }\n\n    .dataframe tbody tr th {\n        vertical-align: top;\n    }\n\n    .dataframe thead th {\n        text-align: right;\n    }\n</style>\n<table border=\"1\" class=\"dataframe\">\n  <thead>\n    <tr style=\"text-align: right;\">\n      <th></th>\n      <th>Airline</th>\n      <th>Date_of_Journey</th>\n      <th>Source</th>\n      <th>Destination</th>\n      <th>Route</th>\n      <th>Dep_Time</th>\n      <th>Arrival_Time</th>\n      <th>Duration</th>\n      <th>Total_Stops</th>\n      <th>Additional_Info</th>\n      <th>Price</th>\n    </tr>\n  </thead>\n  <tbody>\n    <tr>\n      <th>9039</th>\n      <td>Air India</td>\n      <td>6/05/2019</td>\n      <td>Delhi</td>\n      <td>Cochin</td>\n      <td>NaN</td>\n      <td>09:45</td>\n      <td>09:25 07 May</td>\n      <td>23h 40m</td>\n      <td>NaN</td>\n      <td>No info</td>\n      <td>7480</td>\n    </tr>\n  </tbody>\n</table>\n</div>"
     },
     "execution_count": 12,
     "metadata": {},
     "output_type": "execute_result"
    }
   ],
   "source": [
    "train_data[train_data[\"Total_Stops\"].isnull()]"
   ],
   "metadata": {
    "collapsed": false,
    "ExecuteTime": {
     "end_time": "2023-06-18T14:50:00.900012500Z",
     "start_time": "2023-06-18T14:50:00.771359600Z"
    }
   }
  },
  {
   "cell_type": "code",
   "execution_count": 13,
   "outputs": [],
   "source": [
    "train_data.dropna(inplace=True)"
   ],
   "metadata": {
    "collapsed": false,
    "ExecuteTime": {
     "end_time": "2023-06-18T14:50:00.969825500Z",
     "start_time": "2023-06-18T14:50:00.801277800Z"
    }
   }
  },
  {
   "cell_type": "code",
   "execution_count": 14,
   "outputs": [
    {
     "data": {
      "text/plain": "Airline            0\nDate_of_Journey    0\nSource             0\nDestination        0\nRoute              0\nDep_Time           0\nArrival_Time       0\nDuration           0\nTotal_Stops        0\nAdditional_Info    0\nPrice              0\ndtype: int64"
     },
     "execution_count": 14,
     "metadata": {},
     "output_type": "execute_result"
    }
   ],
   "source": [
    "train_data.isnull().sum()"
   ],
   "metadata": {
    "collapsed": false,
    "ExecuteTime": {
     "end_time": "2023-06-18T14:50:00.969825500Z",
     "start_time": "2023-06-18T14:50:00.848151200Z"
    }
   }
  },
  {
   "cell_type": "code",
   "execution_count": 15,
   "outputs": [
    {
     "data": {
      "text/plain": "Airline            object\nDate_of_Journey    object\nSource             object\nDestination        object\nRoute              object\nDep_Time           object\nArrival_Time       object\nDuration           object\nTotal_Stops        object\nAdditional_Info    object\nPrice               int64\ndtype: object"
     },
     "execution_count": 15,
     "metadata": {},
     "output_type": "execute_result"
    }
   ],
   "source": [
    "train_data.dtypes"
   ],
   "metadata": {
    "collapsed": false,
    "ExecuteTime": {
     "end_time": "2023-06-18T14:50:00.970823800Z",
     "start_time": "2023-06-18T14:50:00.864108100Z"
    }
   }
  },
  {
   "cell_type": "code",
   "execution_count": 16,
   "outputs": [
    {
     "name": "stdout",
     "output_type": "stream",
     "text": [
      "<class 'pandas.core.frame.DataFrame'>\n",
      "Int64Index: 10682 entries, 0 to 10682\n",
      "Data columns (total 11 columns):\n",
      " #   Column           Non-Null Count  Dtype \n",
      "---  ------           --------------  ----- \n",
      " 0   Airline          10682 non-null  object\n",
      " 1   Date_of_Journey  10682 non-null  object\n",
      " 2   Source           10682 non-null  object\n",
      " 3   Destination      10682 non-null  object\n",
      " 4   Route            10682 non-null  object\n",
      " 5   Dep_Time         10682 non-null  object\n",
      " 6   Arrival_Time     10682 non-null  object\n",
      " 7   Duration         10682 non-null  object\n",
      " 8   Total_Stops      10682 non-null  object\n",
      " 9   Additional_Info  10682 non-null  object\n",
      " 10  Price            10682 non-null  int64 \n",
      "dtypes: int64(1), object(10)\n",
      "memory usage: 7.2 MB\n"
     ]
    }
   ],
   "source": [
    "train_data.info(memory_usage=\"deep\")"
   ],
   "metadata": {
    "collapsed": false,
    "ExecuteTime": {
     "end_time": "2023-06-18T14:50:01.006727200Z",
     "start_time": "2023-06-18T14:50:00.883058100Z"
    }
   }
  },
  {
   "cell_type": "code",
   "execution_count": 17,
   "outputs": [],
   "source": [
    "data = train_data.copy()"
   ],
   "metadata": {
    "collapsed": false,
    "ExecuteTime": {
     "end_time": "2023-06-18T14:50:01.006727200Z",
     "start_time": "2023-06-18T14:50:00.929933500Z"
    }
   }
  },
  {
   "cell_type": "code",
   "execution_count": 17,
   "outputs": [],
   "source": [],
   "metadata": {
    "collapsed": false,
    "ExecuteTime": {
     "end_time": "2023-06-18T14:50:01.006727200Z",
     "start_time": "2023-06-18T14:50:00.949880300Z"
    }
   }
  },
  {
   "cell_type": "code",
   "execution_count": 18,
   "outputs": [
    {
     "data": {
      "text/plain": "Index(['Airline', 'Date_of_Journey', 'Source', 'Destination', 'Route',\n       'Dep_Time', 'Arrival_Time', 'Duration', 'Total_Stops',\n       'Additional_Info', 'Price'],\n      dtype='object')"
     },
     "execution_count": 18,
     "metadata": {},
     "output_type": "execute_result"
    }
   ],
   "source": [
    "data.columns"
   ],
   "metadata": {
    "collapsed": false,
    "ExecuteTime": {
     "end_time": "2023-06-18T14:50:01.008722400Z",
     "start_time": "2023-06-18T14:50:00.962844800Z"
    }
   }
  },
  {
   "cell_type": "code",
   "execution_count": 19,
   "outputs": [
    {
     "data": {
      "text/plain": "     Airline Date_of_Journey    Source Destination                  Route  \\\n0     IndiGo      24/03/2019  Banglore   New Delhi              BLR → DEL   \n1  Air India       1/05/2019   Kolkata    Banglore  CCU → IXR → BBI → BLR   \n\n  Dep_Time  Arrival_Time Duration Total_Stops Additional_Info  Price  \n0    22:20  01:10 22 Mar   2h 50m    non-stop         No info   3897  \n1    05:50         13:15   7h 25m     2 stops         No info   7662  ",
      "text/html": "<div>\n<style scoped>\n    .dataframe tbody tr th:only-of-type {\n        vertical-align: middle;\n    }\n\n    .dataframe tbody tr th {\n        vertical-align: top;\n    }\n\n    .dataframe thead th {\n        text-align: right;\n    }\n</style>\n<table border=\"1\" class=\"dataframe\">\n  <thead>\n    <tr style=\"text-align: right;\">\n      <th></th>\n      <th>Airline</th>\n      <th>Date_of_Journey</th>\n      <th>Source</th>\n      <th>Destination</th>\n      <th>Route</th>\n      <th>Dep_Time</th>\n      <th>Arrival_Time</th>\n      <th>Duration</th>\n      <th>Total_Stops</th>\n      <th>Additional_Info</th>\n      <th>Price</th>\n    </tr>\n  </thead>\n  <tbody>\n    <tr>\n      <th>0</th>\n      <td>IndiGo</td>\n      <td>24/03/2019</td>\n      <td>Banglore</td>\n      <td>New Delhi</td>\n      <td>BLR → DEL</td>\n      <td>22:20</td>\n      <td>01:10 22 Mar</td>\n      <td>2h 50m</td>\n      <td>non-stop</td>\n      <td>No info</td>\n      <td>3897</td>\n    </tr>\n    <tr>\n      <th>1</th>\n      <td>Air India</td>\n      <td>1/05/2019</td>\n      <td>Kolkata</td>\n      <td>Banglore</td>\n      <td>CCU → IXR → BBI → BLR</td>\n      <td>05:50</td>\n      <td>13:15</td>\n      <td>7h 25m</td>\n      <td>2 stops</td>\n      <td>No info</td>\n      <td>7662</td>\n    </tr>\n  </tbody>\n</table>\n</div>"
     },
     "execution_count": 19,
     "metadata": {},
     "output_type": "execute_result"
    }
   ],
   "source": [
    "data.head(2)"
   ],
   "metadata": {
    "collapsed": false,
    "ExecuteTime": {
     "end_time": "2023-06-18T14:50:01.163308100Z",
     "start_time": "2023-06-18T14:50:00.976808100Z"
    }
   }
  },
  {
   "cell_type": "code",
   "execution_count": 20,
   "outputs": [
    {
     "data": {
      "text/plain": "Airline            object\nDate_of_Journey    object\nSource             object\nDestination        object\nRoute              object\nDep_Time           object\nArrival_Time       object\nDuration           object\nTotal_Stops        object\nAdditional_Info    object\nPrice               int64\ndtype: object"
     },
     "execution_count": 20,
     "metadata": {},
     "output_type": "execute_result"
    }
   ],
   "source": [
    "data.dtypes"
   ],
   "metadata": {
    "collapsed": false,
    "ExecuteTime": {
     "end_time": "2023-06-18T14:50:01.164305400Z",
     "start_time": "2023-06-18T14:50:01.019692100Z"
    }
   }
  },
  {
   "cell_type": "code",
   "execution_count": 21,
   "outputs": [],
   "source": [
    "def change_into_datetime(column):\n",
    "    data[column] = pd.to_datetime(data[column])"
   ],
   "metadata": {
    "collapsed": false,
    "ExecuteTime": {
     "end_time": "2023-06-18T14:50:01.165303Z",
     "start_time": "2023-06-18T14:50:01.040636400Z"
    }
   }
  },
  {
   "cell_type": "code",
   "execution_count": 22,
   "outputs": [],
   "source": [
    "import warnings\n",
    "from warnings import filterwarnings\n",
    "filterwarnings(\"ignore\")"
   ],
   "metadata": {
    "collapsed": false,
    "ExecuteTime": {
     "end_time": "2023-06-18T14:50:01.165303Z",
     "start_time": "2023-06-18T14:50:01.057591200Z"
    }
   }
  },
  {
   "cell_type": "code",
   "execution_count": 23,
   "outputs": [
    {
     "data": {
      "text/plain": "Index(['Airline', 'Date_of_Journey', 'Source', 'Destination', 'Route',\n       'Dep_Time', 'Arrival_Time', 'Duration', 'Total_Stops',\n       'Additional_Info', 'Price'],\n      dtype='object')"
     },
     "execution_count": 23,
     "metadata": {},
     "output_type": "execute_result"
    }
   ],
   "source": [
    "data.columns"
   ],
   "metadata": {
    "collapsed": false,
    "ExecuteTime": {
     "end_time": "2023-06-18T14:50:01.165303Z",
     "start_time": "2023-06-18T14:50:01.069558400Z"
    }
   }
  },
  {
   "cell_type": "code",
   "execution_count": 24,
   "outputs": [],
   "source": [
    "for feature in ['Dep_Time', 'Arrival_Time', 'Date_of_Journey']:\n",
    "    change_into_datetime(feature)"
   ],
   "metadata": {
    "collapsed": false,
    "ExecuteTime": {
     "end_time": "2023-06-18T14:50:01.347814900Z",
     "start_time": "2023-06-18T14:50:01.084519700Z"
    }
   }
  },
  {
   "cell_type": "code",
   "execution_count": 25,
   "outputs": [
    {
     "data": {
      "text/plain": "Airline                    object\nDate_of_Journey    datetime64[ns]\nSource                     object\nDestination                object\nRoute                      object\nDep_Time           datetime64[ns]\nArrival_Time       datetime64[ns]\nDuration                   object\nTotal_Stops                object\nAdditional_Info            object\nPrice                       int64\ndtype: object"
     },
     "execution_count": 25,
     "metadata": {},
     "output_type": "execute_result"
    }
   ],
   "source": [
    "data.dtypes"
   ],
   "metadata": {
    "collapsed": false,
    "ExecuteTime": {
     "end_time": "2023-06-18T14:50:01.348812900Z",
     "start_time": "2023-06-18T14:50:01.244095900Z"
    }
   }
  },
  {
   "cell_type": "code",
   "execution_count": 26,
   "outputs": [],
   "source": [
    "data[\"Journey_Day\"] = data[\"Date_of_Journey\"].dt.day"
   ],
   "metadata": {
    "collapsed": false,
    "ExecuteTime": {
     "end_time": "2023-06-18T14:50:01.372747600Z",
     "start_time": "2023-06-18T14:50:01.271019700Z"
    }
   }
  },
  {
   "cell_type": "code",
   "execution_count": 27,
   "outputs": [],
   "source": [
    "data[\"Journey_Month\"] = data[\"Date_of_Journey\"].dt.month"
   ],
   "metadata": {
    "collapsed": false,
    "ExecuteTime": {
     "end_time": "2023-06-18T14:50:01.395686600Z",
     "start_time": "2023-06-18T14:50:01.312907Z"
    }
   }
  },
  {
   "cell_type": "code",
   "execution_count": 28,
   "outputs": [],
   "source": [
    "data[\"Journey_Year\"] = data[\"Date_of_Journey\"].dt.year"
   ],
   "metadata": {
    "collapsed": false,
    "ExecuteTime": {
     "end_time": "2023-06-18T14:50:01.517361300Z",
     "start_time": "2023-06-18T14:50:01.317894300Z"
    }
   }
  },
  {
   "cell_type": "code",
   "execution_count": 29,
   "outputs": [
    {
     "data": {
      "text/plain": "       Airline Date_of_Journey    Source Destination                  Route  \\\n0       IndiGo      2019-03-24  Banglore   New Delhi              BLR → DEL   \n1    Air India      2019-01-05   Kolkata    Banglore  CCU → IXR → BBI → BLR   \n2  Jet Airways      2019-09-06     Delhi      Cochin  DEL → LKO → BOM → COK   \n\n             Dep_Time        Arrival_Time Duration Total_Stops  \\\n0 2023-06-18 22:20:00 2023-03-22 01:10:00   2h 50m    non-stop   \n1 2023-06-18 05:50:00 2023-06-18 13:15:00   7h 25m     2 stops   \n2 2023-06-18 09:25:00 2023-06-10 04:25:00      19h     2 stops   \n\n  Additional_Info  Price  Journey_Day  Journey_Month  Journey_Year  \n0         No info   3897           24              3          2019  \n1         No info   7662            5              1          2019  \n2         No info  13882            6              9          2019  ",
      "text/html": "<div>\n<style scoped>\n    .dataframe tbody tr th:only-of-type {\n        vertical-align: middle;\n    }\n\n    .dataframe tbody tr th {\n        vertical-align: top;\n    }\n\n    .dataframe thead th {\n        text-align: right;\n    }\n</style>\n<table border=\"1\" class=\"dataframe\">\n  <thead>\n    <tr style=\"text-align: right;\">\n      <th></th>\n      <th>Airline</th>\n      <th>Date_of_Journey</th>\n      <th>Source</th>\n      <th>Destination</th>\n      <th>Route</th>\n      <th>Dep_Time</th>\n      <th>Arrival_Time</th>\n      <th>Duration</th>\n      <th>Total_Stops</th>\n      <th>Additional_Info</th>\n      <th>Price</th>\n      <th>Journey_Day</th>\n      <th>Journey_Month</th>\n      <th>Journey_Year</th>\n    </tr>\n  </thead>\n  <tbody>\n    <tr>\n      <th>0</th>\n      <td>IndiGo</td>\n      <td>2019-03-24</td>\n      <td>Banglore</td>\n      <td>New Delhi</td>\n      <td>BLR → DEL</td>\n      <td>2023-06-18 22:20:00</td>\n      <td>2023-03-22 01:10:00</td>\n      <td>2h 50m</td>\n      <td>non-stop</td>\n      <td>No info</td>\n      <td>3897</td>\n      <td>24</td>\n      <td>3</td>\n      <td>2019</td>\n    </tr>\n    <tr>\n      <th>1</th>\n      <td>Air India</td>\n      <td>2019-01-05</td>\n      <td>Kolkata</td>\n      <td>Banglore</td>\n      <td>CCU → IXR → BBI → BLR</td>\n      <td>2023-06-18 05:50:00</td>\n      <td>2023-06-18 13:15:00</td>\n      <td>7h 25m</td>\n      <td>2 stops</td>\n      <td>No info</td>\n      <td>7662</td>\n      <td>5</td>\n      <td>1</td>\n      <td>2019</td>\n    </tr>\n    <tr>\n      <th>2</th>\n      <td>Jet Airways</td>\n      <td>2019-09-06</td>\n      <td>Delhi</td>\n      <td>Cochin</td>\n      <td>DEL → LKO → BOM → COK</td>\n      <td>2023-06-18 09:25:00</td>\n      <td>2023-06-10 04:25:00</td>\n      <td>19h</td>\n      <td>2 stops</td>\n      <td>No info</td>\n      <td>13882</td>\n      <td>6</td>\n      <td>9</td>\n      <td>2019</td>\n    </tr>\n  </tbody>\n</table>\n</div>"
     },
     "execution_count": 29,
     "metadata": {},
     "output_type": "execute_result"
    }
   ],
   "source": [
    "data.head(3)"
   ],
   "metadata": {
    "collapsed": false,
    "ExecuteTime": {
     "end_time": "2023-06-18T14:50:01.523344900Z",
     "start_time": "2023-06-18T14:50:01.494423700Z"
    }
   }
  },
  {
   "cell_type": "code",
   "execution_count": 30,
   "outputs": [],
   "source": [
    "def extract_hour_minute(df, col):\n",
    "    df[col+\"_hour\"] = df[col].dt.hour\n",
    "    df[col+\"_minute\"] = df[col].dt.minute\n",
    "    return df.head(3)"
   ],
   "metadata": {
    "collapsed": false,
    "ExecuteTime": {
     "end_time": "2023-06-18T14:50:01.523344900Z",
     "start_time": "2023-06-18T14:50:01.496417900Z"
    }
   }
  },
  {
   "cell_type": "code",
   "execution_count": 31,
   "outputs": [
    {
     "data": {
      "text/plain": "       Airline Date_of_Journey    Source Destination                  Route  \\\n0       IndiGo      2019-03-24  Banglore   New Delhi              BLR → DEL   \n1    Air India      2019-01-05   Kolkata    Banglore  CCU → IXR → BBI → BLR   \n2  Jet Airways      2019-09-06     Delhi      Cochin  DEL → LKO → BOM → COK   \n\n             Dep_Time        Arrival_Time Duration Total_Stops  \\\n0 2023-06-18 22:20:00 2023-03-22 01:10:00   2h 50m    non-stop   \n1 2023-06-18 05:50:00 2023-06-18 13:15:00   7h 25m     2 stops   \n2 2023-06-18 09:25:00 2023-06-10 04:25:00      19h     2 stops   \n\n  Additional_Info  Price  Journey_Day  Journey_Month  Journey_Year  \\\n0         No info   3897           24              3          2019   \n1         No info   7662            5              1          2019   \n2         No info  13882            6              9          2019   \n\n   Dep_Time_hour  Dep_Time_minute  \n0             22               20  \n1              5               50  \n2              9               25  ",
      "text/html": "<div>\n<style scoped>\n    .dataframe tbody tr th:only-of-type {\n        vertical-align: middle;\n    }\n\n    .dataframe tbody tr th {\n        vertical-align: top;\n    }\n\n    .dataframe thead th {\n        text-align: right;\n    }\n</style>\n<table border=\"1\" class=\"dataframe\">\n  <thead>\n    <tr style=\"text-align: right;\">\n      <th></th>\n      <th>Airline</th>\n      <th>Date_of_Journey</th>\n      <th>Source</th>\n      <th>Destination</th>\n      <th>Route</th>\n      <th>Dep_Time</th>\n      <th>Arrival_Time</th>\n      <th>Duration</th>\n      <th>Total_Stops</th>\n      <th>Additional_Info</th>\n      <th>Price</th>\n      <th>Journey_Day</th>\n      <th>Journey_Month</th>\n      <th>Journey_Year</th>\n      <th>Dep_Time_hour</th>\n      <th>Dep_Time_minute</th>\n    </tr>\n  </thead>\n  <tbody>\n    <tr>\n      <th>0</th>\n      <td>IndiGo</td>\n      <td>2019-03-24</td>\n      <td>Banglore</td>\n      <td>New Delhi</td>\n      <td>BLR → DEL</td>\n      <td>2023-06-18 22:20:00</td>\n      <td>2023-03-22 01:10:00</td>\n      <td>2h 50m</td>\n      <td>non-stop</td>\n      <td>No info</td>\n      <td>3897</td>\n      <td>24</td>\n      <td>3</td>\n      <td>2019</td>\n      <td>22</td>\n      <td>20</td>\n    </tr>\n    <tr>\n      <th>1</th>\n      <td>Air India</td>\n      <td>2019-01-05</td>\n      <td>Kolkata</td>\n      <td>Banglore</td>\n      <td>CCU → IXR → BBI → BLR</td>\n      <td>2023-06-18 05:50:00</td>\n      <td>2023-06-18 13:15:00</td>\n      <td>7h 25m</td>\n      <td>2 stops</td>\n      <td>No info</td>\n      <td>7662</td>\n      <td>5</td>\n      <td>1</td>\n      <td>2019</td>\n      <td>5</td>\n      <td>50</td>\n    </tr>\n    <tr>\n      <th>2</th>\n      <td>Jet Airways</td>\n      <td>2019-09-06</td>\n      <td>Delhi</td>\n      <td>Cochin</td>\n      <td>DEL → LKO → BOM → COK</td>\n      <td>2023-06-18 09:25:00</td>\n      <td>2023-06-10 04:25:00</td>\n      <td>19h</td>\n      <td>2 stops</td>\n      <td>No info</td>\n      <td>13882</td>\n      <td>6</td>\n      <td>9</td>\n      <td>2019</td>\n      <td>9</td>\n      <td>25</td>\n    </tr>\n  </tbody>\n</table>\n</div>"
     },
     "execution_count": 31,
     "metadata": {},
     "output_type": "execute_result"
    }
   ],
   "source": [
    "extract_hour_minute(data, \"Dep_Time\")"
   ],
   "metadata": {
    "collapsed": false,
    "ExecuteTime": {
     "end_time": "2023-06-18T14:50:01.525339600Z",
     "start_time": "2023-06-18T14:50:01.498412200Z"
    }
   }
  },
  {
   "cell_type": "code",
   "execution_count": 32,
   "outputs": [
    {
     "data": {
      "text/plain": "       Airline Date_of_Journey    Source Destination                  Route  \\\n0       IndiGo      2019-03-24  Banglore   New Delhi              BLR → DEL   \n1    Air India      2019-01-05   Kolkata    Banglore  CCU → IXR → BBI → BLR   \n2  Jet Airways      2019-09-06     Delhi      Cochin  DEL → LKO → BOM → COK   \n\n             Dep_Time        Arrival_Time Duration Total_Stops  \\\n0 2023-06-18 22:20:00 2023-03-22 01:10:00   2h 50m    non-stop   \n1 2023-06-18 05:50:00 2023-06-18 13:15:00   7h 25m     2 stops   \n2 2023-06-18 09:25:00 2023-06-10 04:25:00      19h     2 stops   \n\n  Additional_Info  Price  Journey_Day  Journey_Month  Journey_Year  \\\n0         No info   3897           24              3          2019   \n1         No info   7662            5              1          2019   \n2         No info  13882            6              9          2019   \n\n   Dep_Time_hour  Dep_Time_minute  Arrival_Time_hour  Arrival_Time_minute  \n0             22               20                  1                   10  \n1              5               50                 13                   15  \n2              9               25                  4                   25  ",
      "text/html": "<div>\n<style scoped>\n    .dataframe tbody tr th:only-of-type {\n        vertical-align: middle;\n    }\n\n    .dataframe tbody tr th {\n        vertical-align: top;\n    }\n\n    .dataframe thead th {\n        text-align: right;\n    }\n</style>\n<table border=\"1\" class=\"dataframe\">\n  <thead>\n    <tr style=\"text-align: right;\">\n      <th></th>\n      <th>Airline</th>\n      <th>Date_of_Journey</th>\n      <th>Source</th>\n      <th>Destination</th>\n      <th>Route</th>\n      <th>Dep_Time</th>\n      <th>Arrival_Time</th>\n      <th>Duration</th>\n      <th>Total_Stops</th>\n      <th>Additional_Info</th>\n      <th>Price</th>\n      <th>Journey_Day</th>\n      <th>Journey_Month</th>\n      <th>Journey_Year</th>\n      <th>Dep_Time_hour</th>\n      <th>Dep_Time_minute</th>\n      <th>Arrival_Time_hour</th>\n      <th>Arrival_Time_minute</th>\n    </tr>\n  </thead>\n  <tbody>\n    <tr>\n      <th>0</th>\n      <td>IndiGo</td>\n      <td>2019-03-24</td>\n      <td>Banglore</td>\n      <td>New Delhi</td>\n      <td>BLR → DEL</td>\n      <td>2023-06-18 22:20:00</td>\n      <td>2023-03-22 01:10:00</td>\n      <td>2h 50m</td>\n      <td>non-stop</td>\n      <td>No info</td>\n      <td>3897</td>\n      <td>24</td>\n      <td>3</td>\n      <td>2019</td>\n      <td>22</td>\n      <td>20</td>\n      <td>1</td>\n      <td>10</td>\n    </tr>\n    <tr>\n      <th>1</th>\n      <td>Air India</td>\n      <td>2019-01-05</td>\n      <td>Kolkata</td>\n      <td>Banglore</td>\n      <td>CCU → IXR → BBI → BLR</td>\n      <td>2023-06-18 05:50:00</td>\n      <td>2023-06-18 13:15:00</td>\n      <td>7h 25m</td>\n      <td>2 stops</td>\n      <td>No info</td>\n      <td>7662</td>\n      <td>5</td>\n      <td>1</td>\n      <td>2019</td>\n      <td>5</td>\n      <td>50</td>\n      <td>13</td>\n      <td>15</td>\n    </tr>\n    <tr>\n      <th>2</th>\n      <td>Jet Airways</td>\n      <td>2019-09-06</td>\n      <td>Delhi</td>\n      <td>Cochin</td>\n      <td>DEL → LKO → BOM → COK</td>\n      <td>2023-06-18 09:25:00</td>\n      <td>2023-06-10 04:25:00</td>\n      <td>19h</td>\n      <td>2 stops</td>\n      <td>No info</td>\n      <td>13882</td>\n      <td>6</td>\n      <td>9</td>\n      <td>2019</td>\n      <td>9</td>\n      <td>25</td>\n      <td>4</td>\n      <td>25</td>\n    </tr>\n  </tbody>\n</table>\n</div>"
     },
     "execution_count": 32,
     "metadata": {},
     "output_type": "execute_result"
    }
   ],
   "source": [
    "extract_hour_minute(data, \"Arrival_Time\")"
   ],
   "metadata": {
    "collapsed": false,
    "ExecuteTime": {
     "end_time": "2023-06-18T14:50:01.525339600Z",
     "start_time": "2023-06-18T14:50:01.504395800Z"
    }
   }
  },
  {
   "cell_type": "code",
   "execution_count": 33,
   "outputs": [],
   "source": [
    "columns_to_drop = [\"Arrival_Time\", \"Dep_Time\"]\n",
    "\n",
    "data.drop(columns_to_drop, axis=1, inplace=True)"
   ],
   "metadata": {
    "collapsed": false,
    "ExecuteTime": {
     "end_time": "2023-06-18T14:50:01.526337300Z",
     "start_time": "2023-06-18T14:50:01.505392800Z"
    }
   }
  },
  {
   "cell_type": "code",
   "execution_count": 34,
   "outputs": [
    {
     "data": {
      "text/plain": "       Airline Date_of_Journey    Source Destination                  Route  \\\n0       IndiGo      2019-03-24  Banglore   New Delhi              BLR → DEL   \n1    Air India      2019-01-05   Kolkata    Banglore  CCU → IXR → BBI → BLR   \n2  Jet Airways      2019-09-06     Delhi      Cochin  DEL → LKO → BOM → COK   \n\n  Duration Total_Stops Additional_Info  Price  Journey_Day  Journey_Month  \\\n0   2h 50m    non-stop         No info   3897           24              3   \n1   7h 25m     2 stops         No info   7662            5              1   \n2      19h     2 stops         No info  13882            6              9   \n\n   Journey_Year  Dep_Time_hour  Dep_Time_minute  Arrival_Time_hour  \\\n0          2019             22               20                  1   \n1          2019              5               50                 13   \n2          2019              9               25                  4   \n\n   Arrival_Time_minute  \n0                   10  \n1                   15  \n2                   25  ",
      "text/html": "<div>\n<style scoped>\n    .dataframe tbody tr th:only-of-type {\n        vertical-align: middle;\n    }\n\n    .dataframe tbody tr th {\n        vertical-align: top;\n    }\n\n    .dataframe thead th {\n        text-align: right;\n    }\n</style>\n<table border=\"1\" class=\"dataframe\">\n  <thead>\n    <tr style=\"text-align: right;\">\n      <th></th>\n      <th>Airline</th>\n      <th>Date_of_Journey</th>\n      <th>Source</th>\n      <th>Destination</th>\n      <th>Route</th>\n      <th>Duration</th>\n      <th>Total_Stops</th>\n      <th>Additional_Info</th>\n      <th>Price</th>\n      <th>Journey_Day</th>\n      <th>Journey_Month</th>\n      <th>Journey_Year</th>\n      <th>Dep_Time_hour</th>\n      <th>Dep_Time_minute</th>\n      <th>Arrival_Time_hour</th>\n      <th>Arrival_Time_minute</th>\n    </tr>\n  </thead>\n  <tbody>\n    <tr>\n      <th>0</th>\n      <td>IndiGo</td>\n      <td>2019-03-24</td>\n      <td>Banglore</td>\n      <td>New Delhi</td>\n      <td>BLR → DEL</td>\n      <td>2h 50m</td>\n      <td>non-stop</td>\n      <td>No info</td>\n      <td>3897</td>\n      <td>24</td>\n      <td>3</td>\n      <td>2019</td>\n      <td>22</td>\n      <td>20</td>\n      <td>1</td>\n      <td>10</td>\n    </tr>\n    <tr>\n      <th>1</th>\n      <td>Air India</td>\n      <td>2019-01-05</td>\n      <td>Kolkata</td>\n      <td>Banglore</td>\n      <td>CCU → IXR → BBI → BLR</td>\n      <td>7h 25m</td>\n      <td>2 stops</td>\n      <td>No info</td>\n      <td>7662</td>\n      <td>5</td>\n      <td>1</td>\n      <td>2019</td>\n      <td>5</td>\n      <td>50</td>\n      <td>13</td>\n      <td>15</td>\n    </tr>\n    <tr>\n      <th>2</th>\n      <td>Jet Airways</td>\n      <td>2019-09-06</td>\n      <td>Delhi</td>\n      <td>Cochin</td>\n      <td>DEL → LKO → BOM → COK</td>\n      <td>19h</td>\n      <td>2 stops</td>\n      <td>No info</td>\n      <td>13882</td>\n      <td>6</td>\n      <td>9</td>\n      <td>2019</td>\n      <td>9</td>\n      <td>25</td>\n      <td>4</td>\n      <td>25</td>\n    </tr>\n  </tbody>\n</table>\n</div>"
     },
     "execution_count": 34,
     "metadata": {},
     "output_type": "execute_result"
    }
   ],
   "source": [
    "data.head(3)"
   ],
   "metadata": {
    "collapsed": false,
    "ExecuteTime": {
     "end_time": "2023-06-18T14:50:01.629062100Z",
     "start_time": "2023-06-18T14:50:01.517361300Z"
    }
   }
  },
  {
   "cell_type": "code",
   "execution_count": 35,
   "outputs": [
    {
     "data": {
      "text/plain": "(10682, 16)"
     },
     "execution_count": 35,
     "metadata": {},
     "output_type": "execute_result"
    }
   ],
   "source": [
    "data.shape"
   ],
   "metadata": {
    "collapsed": false,
    "ExecuteTime": {
     "end_time": "2023-06-18T14:50:01.780655300Z",
     "start_time": "2023-06-18T14:50:01.569222100Z"
    }
   }
  },
  {
   "cell_type": "code",
   "execution_count": 36,
   "outputs": [
    {
     "data": {
      "text/plain": "Index(['Airline', 'Date_of_Journey', 'Source', 'Destination', 'Route',\n       'Duration', 'Total_Stops', 'Additional_Info', 'Price', 'Journey_Day',\n       'Journey_Month', 'Journey_Year', 'Dep_Time_hour', 'Dep_Time_minute',\n       'Arrival_Time_hour', 'Arrival_Time_minute'],\n      dtype='object')"
     },
     "execution_count": 36,
     "metadata": {},
     "output_type": "execute_result"
    }
   ],
   "source": [
    "data.columns"
   ],
   "metadata": {
    "collapsed": false,
    "ExecuteTime": {
     "end_time": "2023-06-18T14:50:01.851466Z",
     "start_time": "2023-06-18T14:50:01.601137100Z"
    }
   }
  },
  {
   "cell_type": "code",
   "execution_count": 37,
   "outputs": [],
   "source": [
    "def flight_departure_time(x):\n",
    "    if (x>4) and (x<=8):\n",
    "        return \"Early Morning\"\n",
    "    elif (x>8) and (x<=12):\n",
    "        return \"Morning\"\n",
    "    elif (x>12) and (x<=16):\n",
    "        return \"Afternoon\"\n",
    "    elif (x>16) and (x<=20):\n",
    "        return \"Evening\"\n",
    "    elif (x>20) and (x<=24):\n",
    "        return \"Afternoon\"\n",
    "    else:\n",
    "        return \"Late Night\""
   ],
   "metadata": {
    "collapsed": false,
    "ExecuteTime": {
     "end_time": "2023-06-18T14:50:01.851466Z",
     "start_time": "2023-06-18T14:50:01.629062100Z"
    }
   }
  },
  {
   "cell_type": "code",
   "execution_count": 38,
   "outputs": [
    {
     "data": {
      "text/plain": "<Axes: >"
     },
     "execution_count": 38,
     "metadata": {},
     "output_type": "execute_result"
    },
    {
     "data": {
      "text/plain": "<Figure size 640x480 with 1 Axes>",
      "image/png": "[encoded data removed]"
     },
     "metadata": {},
     "output_type": "display_data"
    }
   ],
   "source": [
    "data[\"Dep_Time_hour\"].apply(flight_departure_time).value_counts().plot(kind=\"bar\", color= \"green\")"
   ],
   "metadata": {
    "collapsed": false,
    "ExecuteTime": {
     "end_time": "2023-06-18T14:50:02.208511Z",
     "start_time": "2023-06-18T14:50:01.646016600Z"
    }
   }
  },
  {
   "cell_type": "code",
   "execution_count": 39,
   "outputs": [
    {
     "name": "stdout",
     "output_type": "stream",
     "text": [
      "Requirement already satisfied: plotly in c:\\users\\my computer\\anaconda3\\lib\\site-packages (5.9.0)\n",
      "Requirement already satisfied: tenacity>=6.2.0 in c:\\users\\my computer\\anaconda3\\lib\\site-packages (from plotly) (8.0.1)\n",
      "Collecting chart_studio\n",
      "  Using cached chart_studio-1.1.0-py3-none-any.whl (64 kB)\n",
      "Requirement already satisfied: six in c:\\users\\my computer\\anaconda3\\lib\\site-packages (from chart_studio) (1.16.0)\n",
      "Collecting retrying>=1.3.3\n",
      "  Using cached retrying-1.3.4-py3-none-any.whl (11 kB)\n",
      "Requirement already satisfied: requests in c:\\users\\my computer\\anaconda3\\lib\\site-packages (from chart_studio) (2.28.1)\n",
      "Requirement already satisfied: plotly in c:\\users\\my computer\\anaconda3\\lib\\site-packages (from chart_studio) (5.9.0)\n",
      "Requirement already satisfied: tenacity>=6.2.0 in c:\\users\\my computer\\anaconda3\\lib\\site-packages (from plotly->chart_studio) (8.0.1)\n",
      "Requirement already satisfied: certifi>=2017.4.17 in c:\\users\\my computer\\anaconda3\\lib\\site-packages (from requests->chart_studio) (2022.12.7)\n",
      "Requirement already satisfied: charset-normalizer<3,>=2 in c:\\users\\my computer\\anaconda3\\lib\\site-packages (from requests->chart_studio) (2.0.4)\n",
      "Requirement already satisfied: urllib3<1.27,>=1.21.1 in c:\\users\\my computer\\anaconda3\\lib\\site-packages (from requests->chart_studio) (1.26.14)\n",
      "Requirement already satisfied: idna<4,>=2.5 in c:\\users\\my computer\\anaconda3\\lib\\site-packages (from requests->chart_studio) (3.4)\n",
      "Installing collected packages: retrying, chart_studio\n",
      "Successfully installed chart_studio-1.1.0 retrying-1.3.4\n"
     ]
    }
   ],
   "source": [
    "!pip install plotly\n",
    "!pip install chart_studio"
   ],
   "metadata": {
    "collapsed": false,
    "ExecuteTime": {
     "end_time": "2023-06-18T14:50:15.026887200Z",
     "start_time": "2023-06-18T14:50:02.152661Z"
    }
   }
  },
  {
   "cell_type": "code",
   "execution_count": 43,
   "outputs": [
    {
     "data": {
      "text/html": "        <script type=\"text/javascript\">\n        window.PlotlyConfig = {MathJaxConfig: 'local'};\n        if (window.MathJax && window.MathJax.Hub && window.MathJax.Hub.Config) {window.MathJax.Hub.Config({SVG: {font: \"STIX-Web\"}});}\n        if (typeof require !== 'undefined') {\n        require.undef(\"plotly\");\n        requirejs.config({\n            paths: {\n                'plotly': ['https://cdn.plot.ly/plotly-2.12.1.min']\n            }\n        });\n        require(['plotly'], function(Plotly) {\n            window._Plotly = Plotly;\n        });\n        }\n        </script>\n        "
     },
     "metadata": {},
     "output_type": "display_data"
    },
    {
     "data": {
      "text/html": "        <script type=\"text/javascript\">\n        window.PlotlyConfig = {MathJaxConfig: 'local'};\n        if (window.MathJax && window.MathJax.Hub && window.MathJax.Hub.Config) {window.MathJax.Hub.Config({SVG: {font: \"STIX-Web\"}});}\n        if (typeof require !== 'undefined') {\n        require.undef(\"plotly\");\n        requirejs.config({\n            paths: {\n                'plotly': ['https://cdn.plot.ly/plotly-2.12.1.min']\n            }\n        });\n        require(['plotly'], function(Plotly) {\n            window._Plotly = Plotly;\n        });\n        }\n        </script>\n        "
     },
     "metadata": {},
     "output_type": "display_data"
    }
   ],
   "source": [
    "import plotly\n",
    "import cufflinks as cf\n",
    "from cufflinks.offline import go_offline\n",
    "from plotly.offline import plot, iplot, init_notebook_mode, download_plotlyjs\n",
    "init_notebook_mode(connected=True)\n",
    "cf.go_offline()"
   ],
   "metadata": {
    "collapsed": false,
    "ExecuteTime": {
     "end_time": "2023-06-18T14:52:11.878575700Z",
     "start_time": "2023-06-18T14:52:11.553489700Z"
    }
   }
  },
  {
   "cell_type": "code",
   "execution_count": 44,
   "outputs": [
    {
     "data": {
      "application/vnd.plotly.v1+json": {
       "data": [
        {
         "marker": {
          "color": "rgba(255, 153, 51, 0.6)",
          "line": {
           "color": "rgba(255, 153, 51, 1.0)",
           "width": 1
          }
         },
         "name": "Dep_Time_hour",
         "orientation": "v",
         "text": "",
         "x": [
          "Early Morning",
          "Afternoon",
          "Evening",
          "Morning",
          "Late Night"
         ],
         "y": [
          2880,
          2771,
          2357,
          2209,
          465
         ],
         "type": "bar"
        }
       ],
       "layout": {
        "legend": {
         "bgcolor": "#F5F6F9",
         "font": {
          "color": "#4D5663"
         }
        },
        "paper_bgcolor": "#F5F6F9",
        "plot_bgcolor": "#F5F6F9",
        "template": {
         "data": {
          "barpolar": [
           {
            "marker": {
             "line": {
              "color": "rgb(17,17,17)",
              "width": 0.5
             },
             "pattern": {
              "fillmode": "overlay",
              "size": 10,
              "solidity": 0.2
             }
            },
            "type": "barpolar"
           }
          ],
          "bar": [
           {
            "error_x": {
             "color": "#f2f5fa"
            },
            "error_y": {
             "color": "#f2f5fa"
            },
            "marker": {
             "line": {
              "color": "rgb(17,17,17)",
              "width": 0.5
             },
             "pattern": {
              "fillmode": "overlay",
              "size": 10,
              "solidity": 0.2
             }
            },
            "type": "bar"
           }
          ],
          "carpet": [
           {
            "aaxis": {
             "endlinecolor": "#A2B1C6",
             "gridcolor": "#506784",
             "linecolor": "#506784",
             "minorgridcolor": "#506784",
             "startlinecolor": "#A2B1C6"
            },
            "baxis": {
             "endlinecolor": "#A2B1C6",
             "gridcolor": "#506784",
             "linecolor": "#506784",
             "minorgridcolor": "#506784",
             "startlinecolor": "#A2B1C6"
            },
            "type": "carpet"
           }
          ],
          "choropleth": [
           {
            "colorbar": {
             "outlinewidth": 0,
             "ticks": ""
            },
            "type": "choropleth"
           }
          ],
          "contourcarpet": [
           {
            "colorbar": {
             "outlinewidth": 0,
             "ticks": ""
            },
            "type": "contourcarpet"
           }
          ],
          "contour": [
           {
            "colorbar": {
             "outlinewidth": 0,
             "ticks": ""
            },
            "colorscale": [
             [
              0.0,
              "#0d0887"
             ],
             [
              0.1111111111111111,
              "#46039f"
             ],
             [
              0.2222222222222222,
              "#7201a8"
             ],
             [
              0.3333333333333333,
              "#9c179e"
             ],
             [
              0.4444444444444444,
              "#bd3786"
             ],
             [
              0.5555555555555556,
              "#d8576b"
             ],
             [
              0.6666666666666666,
              "#ed7953"
             ],
             [
              0.7777777777777778,
              "#fb9f3a"
             ],
             [
              0.8888888888888888,
              "#fdca26"
             ],
             [
              1.0,
              "#f0f921"
             ]
            ],
            "type": "contour"
           }
          ],
          "heatmapgl": [
           {
            "colorbar": {
             "outlinewidth": 0,
             "ticks": ""
            },
            "colorscale": [
             [
              0.0,
              "#0d0887"
             ],
             [
              0.1111111111111111,
              "#46039f"
             ],
             [
              0.2222222222222222,
              "#7201a8"
             ],
             [
              0.3333333333333333,
              "#9c179e"
             ],
             [
              0.4444444444444444,
              "#bd3786"
             ],
             [
              0.5555555555555556,
              "#d8576b"
             ],
             [
              0.6666666666666666,
              "#ed7953"
             ],
             [
              0.7777777777777778,
              "#fb9f3a"
             ],
             [
              0.8888888888888888,
              "#fdca26"
             ],
             [
              1.0,
              "#f0f921"
             ]
            ],
            "type": "heatmapgl"
           }
          ],
          "heatmap": [
           {
            "colorbar": {
             "outlinewidth": 0,
             "ticks": ""
            },
            "colorscale": [
             [
              0.0,
              "#0d0887"
             ],
             [
              0.1111111111111111,
              "#46039f"
             ],
             [
              0.2222222222222222,
              "#7201a8"
             ],
             [
              0.3333333333333333,
              "#9c179e"
             ],
             [
              0.4444444444444444,
              "#bd3786"
             ],
             [
              0.5555555555555556,
              "#d8576b"
             ],
             [
              0.6666666666666666,
              "#ed7953"
             ],
             [
              0.7777777777777778,
              "#fb9f3a"
             ],
             [
              0.8888888888888888,
              "#fdca26"
             ],
             [
              1.0,
              "#f0f921"
             ]
            ],
            "type": "heatmap"
           }
          ],
          "histogram2dcontour": [
           {
            "colorbar": {
             "outlinewidth": 0,
             "ticks": ""
            },
            "colorscale": [
             [
              0.0,
              "#0d0887"
             ],
             [
              0.1111111111111111,
              "#46039f"
             ],
             [
              0.2222222222222222,
              "#7201a8"
             ],
             [
              0.3333333333333333,
              "#9c179e"
             ],
             [
              0.4444444444444444,
              "#bd3786"
             ],
             [
              0.5555555555555556,
              "#d8576b"
             ],
             [
              0.6666666666666666,
              "#ed7953"
             ],
             [
              0.7777777777777778,
              "#fb9f3a"
             ],
             [
              0.8888888888888888,
              "#fdca26"
             ],
             [
              1.0,
              "#f0f921"
             ]
            ],
            "type": "histogram2dcontour"
           }
          ],
          "histogram2d": [
           {
            "colorbar": {
             "outlinewidth": 0,
             "ticks": ""
            },
            "colorscale": [
             [
              0.0,
              "#0d0887"
             ],
             [
              0.1111111111111111,
              "#46039f"
             ],
             [
              0.2222222222222222,
              "#7201a8"
             ],
             [
              0.3333333333333333,
              "#9c179e"
             ],
             [
              0.4444444444444444,
              "#bd3786"
             ],
             [
              0.5555555555555556,
              "#d8576b"
             ],
             [
              0.6666666666666666,
              "#ed7953"
             ],
             [
              0.7777777777777778,
              "#fb9f3a"
             ],
             [
              0.8888888888888888,
              "#fdca26"
             ],
             [
              1.0,
              "#f0f921"
             ]
            ],
            "type": "histogram2d"
           }
          ],
          "histogram": [
           {
            "marker": {
             "pattern": {
              "fillmode": "overlay",
              "size": 10,
              "solidity": 0.2
             }
            },
            "type": "histogram"
           }
          ],
          "mesh3d": [
           {
            "colorbar": {
             "outlinewidth": 0,
             "ticks": ""
            },
            "type": "mesh3d"
           }
          ],
          "parcoords": [
           {
            "line": {
             "colorbar": {
              "outlinewidth": 0,
              "ticks": ""
             }
            },
            "type": "parcoords"
           }
          ],
          "pie": [
           {
            "automargin": true,
            "type": "pie"
           }
          ],
          "scatter3d": [
           {
            "line": {
             "colorbar": {
              "outlinewidth": 0,
              "ticks": ""
             }
            },
            "marker": {
             "colorbar": {
              "outlinewidth": 0,
              "ticks": ""
             }
            },
            "type": "scatter3d"
           }
          ],
          "scattercarpet": [
           {
            "marker": {
             "colorbar": {
              "outlinewidth": 0,
              "ticks": ""
             }
            },
            "type": "scattercarpet"
           }
          ],
          "scattergeo": [
           {
            "marker": {
             "colorbar": {
              "outlinewidth": 0,
              "ticks": ""
             }
            },
            "type": "scattergeo"
           }
          ],
          "scattergl": [
           {
            "marker": {
             "line": {
              "color": "#283442"
             }
            },
            "type": "scattergl"
           }
          ],
          "scattermapbox": [
           {
            "marker": {
             "colorbar": {
              "outlinewidth": 0,
              "ticks": ""
             }
            },
            "type": "scattermapbox"
           }
          ],
          "scatterpolargl": [
           {
            "marker": {
             "colorbar": {
              "outlinewidth": 0,
              "ticks": ""
             }
            },
            "type": "scatterpolargl"
           }
          ],
          "scatterpolar": [
           {
            "marker": {
             "colorbar": {
              "outlinewidth": 0,
              "ticks": ""
             }
            },
            "type": "scatterpolar"
           }
          ],
          "scatter": [
           {
            "marker": {
             "line": {
              "color": "#283442"
             }
            },
            "type": "scatter"
           }
          ],
          "scatterternary": [
           {
            "marker": {
             "colorbar": {
              "outlinewidth": 0,
              "ticks": ""
             }
            },
            "type": "scatterternary"
           }
          ],
          "surface": [
           {
            "colorbar": {
             "outlinewidth": 0,
             "ticks": ""
            },
            "colorscale": [
             [
              0.0,
              "#0d0887"
             ],
             [
              0.1111111111111111,
              "#46039f"
             ],
             [
              0.2222222222222222,
              "#7201a8"
             ],
             [
              0.3333333333333333,
              "#9c179e"
             ],
             [
              0.4444444444444444,
              "#bd3786"
             ],
             [
              0.5555555555555556,
              "#d8576b"
             ],
             [
              0.6666666666666666,
              "#ed7953"
             ],
             [
              0.7777777777777778,
              "#fb9f3a"
             ],
             [
              0.8888888888888888,
              "#fdca26"
             ],
             [
              1.0,
              "#f0f921"
             ]
            ],
            "type": "surface"
           }
          ],
          "table": [
           {
            "cells": {
             "fill": {
              "color": "#506784"
             },
             "line": {
              "color": "rgb(17,17,17)"
             }
            },
            "header": {
             "fill": {
              "color": "#2a3f5f"
             },
             "line": {
              "color": "rgb(17,17,17)"
             }
            },
            "type": "table"
           }
          ]
         },
         "layout": {
          "annotationdefaults": {
           "arrowcolor": "#f2f5fa",
           "arrowhead": 0,
           "arrowwidth": 1
          },
          "autotypenumbers": "strict",
          "coloraxis": {
           "colorbar": {
            "outlinewidth": 0,
            "ticks": ""
           }
          },
          "colorscale": {
           "diverging": [
            [
             0,
             "#8e0152"
            ],
            [
             0.1,
             "#c51b7d"
            ],
            [
             0.2,
             "#de77ae"
            ],
            [
             0.3,
             "#f1b6da"
            ],
            [
             0.4,
             "#fde0ef"
            ],
            [
             0.5,
             "#f7f7f7"
            ],
            [
             0.6,
             "#e6f5d0"
            ],
            [
             0.7,
             "#b8e186"
            ],
            [
             0.8,
             "#7fbc41"
            ],
            [
             0.9,
             "#4d9221"
            ],
            [
             1,
             "#276419"
            ]
           ],
           "sequential": [
            [
             0.0,
             "#0d0887"
            ],
            [
             0.1111111111111111,
             "#46039f"
            ],
            [
             0.2222222222222222,
             "#7201a8"
            ],
            [
             0.3333333333333333,
             "#9c179e"
            ],
            [
             0.4444444444444444,
             "#bd3786"
            ],
            [
             0.5555555555555556,
             "#d8576b"
            ],
            [
             0.6666666666666666,
             "#ed7953"
            ],
            [
             0.7777777777777778,
             "#fb9f3a"
            ],
            [
             0.8888888888888888,
             "#fdca26"
            ],
            [
             1.0,
             "#f0f921"
            ]
           ],
           "sequentialminus": [
            [
             0.0,
             "#0d0887"
            ],
            [
             0.1111111111111111,
             "#46039f"
            ],
            [
             0.2222222222222222,
             "#7201a8"
            ],
            [
             0.3333333333333333,
             "#9c179e"
            ],
            [
             0.4444444444444444,
             "#bd3786"
            ],
            [
             0.5555555555555556,
             "#d8576b"
            ],
            [
             0.6666666666666666,
             "#ed7953"
            ],
            [
             0.7777777777777778,
             "#fb9f3a"
            ],
            [
             0.8888888888888888,
             "#fdca26"
            ],
            [
             1.0,
             "#f0f921"
            ]
           ]
          },
          "colorway": [
           "#636efa",
           "#EF553B",
           "#00cc96",
           "#ab63fa",
           "#FFA15A",
           "#19d3f3",
           "#FF6692",
           "#B6E880",
           "#FF97FF",
           "#FECB52"
          ],
          "font": {
           "color": "#f2f5fa"
          },
          "geo": {
           "bgcolor": "rgb(17,17,17)",
           "lakecolor": "rgb(17,17,17)",
           "landcolor": "rgb(17,17,17)",
           "showlakes": true,
           "showland": true,
           "subunitcolor": "#506784"
          },
          "hoverlabel": {
           "align": "left"
          },
          "hovermode": "closest",
          "mapbox": {
           "style": "dark"
          },
          "paper_bgcolor": "rgb(17,17,17)",
          "plot_bgcolor": "rgb(17,17,17)",
          "polar": {
           "angularaxis": {
            "gridcolor": "#506784",
            "linecolor": "#506784",
            "ticks": ""
           },
           "bgcolor": "rgb(17,17,17)",
           "radialaxis": {
            "gridcolor": "#506784",
            "linecolor": "#506784",
            "ticks": ""
           }
          },
          "scene": {
           "xaxis": {
            "backgroundcolor": "rgb(17,17,17)",
            "gridcolor": "#506784",
            "gridwidth": 2,
            "linecolor": "#506784",
            "showbackground": true,
            "ticks": "",
            "zerolinecolor": "#C8D4E3"
           },
           "yaxis": {
            "backgroundcolor": "rgb(17,17,17)",
            "gridcolor": "#506784",
            "gridwidth": 2,
            "linecolor": "#506784",
            "showbackground": true,
            "ticks": "",
            "zerolinecolor": "#C8D4E3"
           },
           "zaxis": {
            "backgroundcolor": "rgb(17,17,17)",
            "gridcolor": "#506784",
            "gridwidth": 2,
            "linecolor": "#506784",
            "showbackground": true,
            "ticks": "",
            "zerolinecolor": "#C8D4E3"
           }
          },
          "shapedefaults": {
           "line": {
            "color": "#f2f5fa"
           }
          },
          "sliderdefaults": {
           "bgcolor": "#C8D4E3",
           "bordercolor": "rgb(17,17,17)",
           "borderwidth": 1,
           "tickwidth": 0
          },
          "ternary": {
           "aaxis": {
            "gridcolor": "#506784",
            "linecolor": "#506784",
            "ticks": ""
           },
           "baxis": {
            "gridcolor": "#506784",
            "linecolor": "#506784",
            "ticks": ""
           },
           "bgcolor": "rgb(17,17,17)",
           "caxis": {
            "gridcolor": "#506784",
            "linecolor": "#506784",
            "ticks": ""
           }
          },
          "title": {
           "x": 0.05
          },
          "updatemenudefaults": {
           "bgcolor": "#506784",
           "borderwidth": 0
          },
          "xaxis": {
           "automargin": true,
           "gridcolor": "#283442",
           "linecolor": "#506784",
           "ticks": "",
           "title": {
            "standoff": 15
           },
           "zerolinecolor": "#283442",
           "zerolinewidth": 2
          },
          "yaxis": {
           "automargin": true,
           "gridcolor": "#283442",
           "linecolor": "#506784",
           "ticks": "",
           "title": {
            "standoff": 15
           },
           "zerolinecolor": "#283442",
           "zerolinewidth": 2
          }
         }
        },
        "title": {
         "font": {
          "color": "#4D5663"
         }
        },
        "xaxis": {
         "gridcolor": "#E1E5ED",
         "showgrid": true,
         "tickfont": {
          "color": "#4D5663"
         },
         "title": {
          "font": {
           "color": "#4D5663"
          },
          "text": ""
         },
         "zerolinecolor": "#E1E5ED"
        },
        "yaxis": {
         "gridcolor": "#E1E5ED",
         "showgrid": true,
         "tickfont": {
          "color": "#4D5663"
         },
         "title": {
          "font": {
           "color": "#4D5663"
          },
          "text": ""
         },
         "zerolinecolor": "#E1E5ED"
        }
       },
       "config": {
        "showLink": true,
        "linkText": "Export to plot.ly",
        "plotlyServerURL": "https://plot.ly"
       }
      },
      "text/html": "<div>                            <div id=\"f527fbed-f57e-45cf-80c0-033647ce2d39\" class=\"plotly-graph-div\" style=\"height:525px; width:100%;\"></div>            <script type=\"text/javascript\">                require([\"plotly\"], function(Plotly) {                    window.PLOTLYENV=window.PLOTLYENV || {};\n                    window.PLOTLYENV.BASE_URL='https://plot.ly';                                    if (document.getElementById(\"f527fbed-f57e-45cf-80c0-033647ce2d39\")) {                    Plotly.newPlot(                        \"f527fbed-f57e-45cf-80c0-033647ce2d39\",                        [{\"marker\":{\"color\":\"rgba(255, 153, 51, 0.6)\",\"line\":{\"color\":\"rgba(255, 153, 51, 1.0)\",\"width\":1}},\"name\":\"Dep_Time_hour\",\"orientation\":\"v\",\"text\":\"\",\"x\":[\"Early Morning\",\"Afternoon\",\"Evening\",\"Morning\",\"Late Night\"],\"y\":[2880,2771,2357,2209,465],\"type\":\"bar\"}],                        {\"legend\":{\"bgcolor\":\"#F5F6F9\",\"font\":{\"color\":\"#4D5663\"}},\"paper_bgcolor\":\"#F5F6F9\",\"plot_bgcolor\":\"#F5F6F9\",\"template\":{\"data\":{\"barpolar\":[{\"marker\":{\"line\":{\"color\":\"rgb(17,17,17)\",\"width\":0.5},\"pattern\":{\"fillmode\":\"overlay\",\"size\":10,\"solidity\":0.2}},\"type\":\"barpolar\"}],\"bar\":[{\"error_x\":{\"color\":\"#f2f5fa\"},\"error_y\":{\"color\":\"#f2f5fa\"},\"marker\":{\"line\":{\"color\":\"rgb(17,17,17)\",\"width\":0.5},\"pattern\":{\"fillmode\":\"overlay\",\"size\":10,\"solidity\":0.2}},\"type\":\"bar\"}],\"carpet\":[{\"aaxis\":{\"endlinecolor\":\"#A2B1C6\",\"gridcolor\":\"#506784\",\"linecolor\":\"#506784\",\"minorgridcolor\":\"#506784\",\"startlinecolor\":\"#A2B1C6\"},\"baxis\":{\"endlinecolor\":\"#A2B1C6\",\"gridcolor\":\"#506784\",\"linecolor\":\"#506784\",\"minorgridcolor\":\"#506784\",\"startlinecolor\":\"#A2B1C6\"},\"type\":\"carpet\"}],\"choropleth\":[{\"colorbar\":{\"outlinewidth\":0,\"ticks\":\"\"},\"type\":\"choropleth\"}],\"contourcarpet\":[{\"colorbar\":{\"outlinewidth\":0,\"ticks\":\"\"},\"type\":\"contourcarpet\"}],\"contour\":[{\"colorbar\":{\"outlinewidth\":0,\"ticks\":\"\"},\"colorscale\":[[0.0,\"#0d0887\"],[0.1111111111111111,\"#46039f\"],[0.2222222222222222,\"#7201a8\"],[0.3333333333333333,\"#9c179e\"],[0.4444444444444444,\"#bd3786\"],[0.5555555555555556,\"#d8576b\"],[0.6666666666666666,\"#ed7953\"],[0.7777777777777778,\"#fb9f3a\"],[0.8888888888888888,\"#fdca26\"],[1.0,\"#f0f921\"]],\"type\":\"contour\"}],\"heatmapgl\":[{\"colorbar\":{\"outlinewidth\":0,\"ticks\":\"\"},\"colorscale\":[[0.0,\"#0d0887\"],[0.1111111111111111,\"#46039f\"],[0.2222222222222222,\"#7201a8\"],[0.3333333333333333,\"#9c179e\"],[0.4444444444444444,\"#bd3786\"],[0.5555555555555556,\"#d8576b\"],[0.6666666666666666,\"#ed7953\"],[0.7777777777777778,\"#fb9f3a\"],[0.8888888888888888,\"#fdca26\"],[1.0,\"#f0f921\"]],\"type\":\"heatmapgl\"}],\"heatmap\":[{\"colorbar\":{\"outlinewidth\":0,\"ticks\":\"\"},\"colorscale\":[[0.0,\"#0d0887\"],[0.1111111111111111,\"#46039f\"],[0.2222222222222222,\"#7201a8\"],[0.3333333333333333,\"#9c179e\"],[0.4444444444444444,\"#bd3786\"],[0.5555555555555556,\"#d8576b\"],[0.6666666666666666,\"#ed7953\"],[0.7777777777777778,\"#fb9f3a\"],[0.8888888888888888,\"#fdca26\"],[1.0,\"#f0f921\"]],\"type\":\"heatmap\"}],\"histogram2dcontour\":[{\"colorbar\":{\"outlinewidth\":0,\"ticks\":\"\"},\"colorscale\":[[0.0,\"#0d0887\"],[0.1111111111111111,\"#46039f\"],[0.2222222222222222,\"#7201a8\"],[0.3333333333333333,\"#9c179e\"],[0.4444444444444444,\"#bd3786\"],[0.5555555555555556,\"#d8576b\"],[0.6666666666666666,\"#ed7953\"],[0.7777777777777778,\"#fb9f3a\"],[0.8888888888888888,\"#fdca26\"],[1.0,\"#f0f921\"]],\"type\":\"histogram2dcontour\"}],\"histogram2d\":[{\"colorbar\":{\"outlinewidth\":0,\"ticks\":\"\"},\"colorscale\":[[0.0,\"#0d0887\"],[0.1111111111111111,\"#46039f\"],[0.2222222222222222,\"#7201a8\"],[0.3333333333333333,\"#9c179e\"],[0.4444444444444444,\"#bd3786\"],[0.5555555555555556,\"#d8576b\"],[0.6666666666666666,\"#ed7953\"],[0.7777777777777778,\"#fb9f3a\"],[0.8888888888888888,\"#fdca26\"],[1.0,\"#f0f921\"]],\"type\":\"histogram2d\"}],\"histogram\":[{\"marker\":{\"pattern\":{\"fillmode\":\"overlay\",\"size\":10,\"solidity\":0.2}},\"type\":\"histogram\"}],\"mesh3d\":[{\"colorbar\":{\"outlinewidth\":0,\"ticks\":\"\"},\"type\":\"mesh3d\"}],\"parcoords\":[{\"line\":{\"colorbar\":{\"outlinewidth\":0,\"ticks\":\"\"}},\"type\":\"parcoords\"}],\"pie\":[{\"automargin\":true,\"type\":\"pie\"}],\"scatter3d\":[{\"line\":{\"colorbar\":{\"outlinewidth\":0,\"ticks\":\"\"}},\"marker\":{\"colorbar\":{\"outlinewidth\":0,\"ticks\":\"\"}},\"type\":\"scatter3d\"}],\"scattercarpet\":[{\"marker\":{\"colorbar\":{\"outlinewidth\":0,\"ticks\":\"\"}},\"type\":\"scattercarpet\"}],\"scattergeo\":[{\"marker\":{\"colorbar\":{\"outlinewidth\":0,\"ticks\":\"\"}},\"type\":\"scattergeo\"}],\"scattergl\":[{\"marker\":{\"line\":{\"color\":\"#283442\"}},\"type\":\"scattergl\"}],\"scattermapbox\":[{\"marker\":{\"colorbar\":{\"outlinewidth\":0,\"ticks\":\"\"}},\"type\":\"scattermapbox\"}],\"scatterpolargl\":[{\"marker\":{\"colorbar\":{\"outlinewidth\":0,\"ticks\":\"\"}},\"type\":\"scatterpolargl\"}],\"scatterpolar\":[{\"marker\":{\"colorbar\":{\"outlinewidth\":0,\"ticks\":\"\"}},\"type\":\"scatterpolar\"}],\"scatter\":[{\"marker\":{\"line\":{\"color\":\"#283442\"}},\"type\":\"scatter\"}],\"scatterternary\":[{\"marker\":{\"colorbar\":{\"outlinewidth\":0,\"ticks\":\"\"}},\"type\":\"scatterternary\"}],\"surface\":[{\"colorbar\":{\"outlinewidth\":0,\"ticks\":\"\"},\"colorscale\":[[0.0,\"#0d0887\"],[0.1111111111111111,\"#46039f\"],[0.2222222222222222,\"#7201a8\"],[0.3333333333333333,\"#9c179e\"],[0.4444444444444444,\"#bd3786\"],[0.5555555555555556,\"#d8576b\"],[0.6666666666666666,\"#ed7953\"],[0.7777777777777778,\"#fb9f3a\"],[0.8888888888888888,\"#fdca26\"],[1.0,\"#f0f921\"]],\"type\":\"surface\"}],\"table\":[{\"cells\":{\"fill\":{\"color\":\"#506784\"},\"line\":{\"color\":\"rgb(17,17,17)\"}},\"header\":{\"fill\":{\"color\":\"#2a3f5f\"},\"line\":{\"color\":\"rgb(17,17,17)\"}},\"type\":\"table\"}]},\"layout\":{\"annotationdefaults\":{\"arrowcolor\":\"#f2f5fa\",\"arrowhead\":0,\"arrowwidth\":1},\"autotypenumbers\":\"strict\",\"coloraxis\":{\"colorbar\":{\"outlinewidth\":0,\"ticks\":\"\"}},\"colorscale\":{\"diverging\":[[0,\"#8e0152\"],[0.1,\"#c51b7d\"],[0.2,\"#de77ae\"],[0.3,\"#f1b6da\"],[0.4,\"#fde0ef\"],[0.5,\"#f7f7f7\"],[0.6,\"#e6f5d0\"],[0.7,\"#b8e186\"],[0.8,\"#7fbc41\"],[0.9,\"#4d9221\"],[1,\"#276419\"]],\"sequential\":[[0.0,\"#0d0887\"],[0.1111111111111111,\"#46039f\"],[0.2222222222222222,\"#7201a8\"],[0.3333333333333333,\"#9c179e\"],[0.4444444444444444,\"#bd3786\"],[0.5555555555555556,\"#d8576b\"],[0.6666666666666666,\"#ed7953\"],[0.7777777777777778,\"#fb9f3a\"],[0.8888888888888888,\"#fdca26\"],[1.0,\"#f0f921\"]],\"sequentialminus\":[[0.0,\"#0d0887\"],[0.1111111111111111,\"#46039f\"],[0.2222222222222222,\"#7201a8\"],[0.3333333333333333,\"#9c179e\"],[0.4444444444444444,\"#bd3786\"],[0.5555555555555556,\"#d8576b\"],[0.6666666666666666,\"#ed7953\"],[0.7777777777777778,\"#fb9f3a\"],[0.8888888888888888,\"#fdca26\"],[1.0,\"#f0f921\"]]},\"colorway\":[\"#636efa\",\"#EF553B\",\"#00cc96\",\"#ab63fa\",\"#FFA15A\",\"#19d3f3\",\"#FF6692\",\"#B6E880\",\"#FF97FF\",\"#FECB52\"],\"font\":{\"color\":\"#f2f5fa\"},\"geo\":{\"bgcolor\":\"rgb(17,17,17)\",\"lakecolor\":\"rgb(17,17,17)\",\"landcolor\":\"rgb(17,17,17)\",\"showlakes\":true,\"showland\":true,\"subunitcolor\":\"#506784\"},\"hoverlabel\":{\"align\":\"left\"},\"hovermode\":\"closest\",\"mapbox\":{\"style\":\"dark\"},\"paper_bgcolor\":\"rgb(17,17,17)\",\"plot_bgcolor\":\"rgb(17,17,17)\",\"polar\":{\"angularaxis\":{\"gridcolor\":\"#506784\",\"linecolor\":\"#506784\",\"ticks\":\"\"},\"bgcolor\":\"rgb(17,17,17)\",\"radialaxis\":{\"gridcolor\":\"#506784\",\"linecolor\":\"#506784\",\"ticks\":\"\"}},\"scene\":{\"xaxis\":{\"backgroundcolor\":\"rgb(17,17,17)\",\"gridcolor\":\"#506784\",\"gridwidth\":2,\"linecolor\":\"#506784\",\"showbackground\":true,\"ticks\":\"\",\"zerolinecolor\":\"#C8D4E3\"},\"yaxis\":{\"backgroundcolor\":\"rgb(17,17,17)\",\"gridcolor\":\"#506784\",\"gridwidth\":2,\"linecolor\":\"#506784\",\"showbackground\":true,\"ticks\":\"\",\"zerolinecolor\":\"#C8D4E3\"},\"zaxis\":{\"backgroundcolor\":\"rgb(17,17,17)\",\"gridcolor\":\"#506784\",\"gridwidth\":2,\"linecolor\":\"#506784\",\"showbackground\":true,\"ticks\":\"\",\"zerolinecolor\":\"#C8D4E3\"}},\"shapedefaults\":{\"line\":{\"color\":\"#f2f5fa\"}},\"sliderdefaults\":{\"bgcolor\":\"#C8D4E3\",\"bordercolor\":\"rgb(17,17,17)\",\"borderwidth\":1,\"tickwidth\":0},\"ternary\":{\"aaxis\":{\"gridcolor\":\"#506784\",\"linecolor\":\"#506784\",\"ticks\":\"\"},\"baxis\":{\"gridcolor\":\"#506784\",\"linecolor\":\"#506784\",\"ticks\":\"\"},\"bgcolor\":\"rgb(17,17,17)\",\"caxis\":{\"gridcolor\":\"#506784\",\"linecolor\":\"#506784\",\"ticks\":\"\"}},\"title\":{\"x\":0.05},\"updatemenudefaults\":{\"bgcolor\":\"#506784\",\"borderwidth\":0},\"xaxis\":{\"automargin\":true,\"gridcolor\":\"#283442\",\"linecolor\":\"#506784\",\"ticks\":\"\",\"title\":{\"standoff\":15},\"zerolinecolor\":\"#283442\",\"zerolinewidth\":2},\"yaxis\":{\"automargin\":true,\"gridcolor\":\"#283442\",\"linecolor\":\"#506784\",\"ticks\":\"\",\"title\":{\"standoff\":15},\"zerolinecolor\":\"#283442\",\"zerolinewidth\":2}}},\"title\":{\"font\":{\"color\":\"#4D5663\"}},\"xaxis\":{\"gridcolor\":\"#E1E5ED\",\"showgrid\":true,\"tickfont\":{\"color\":\"#4D5663\"},\"title\":{\"font\":{\"color\":\"#4D5663\"},\"text\":\"\"},\"zerolinecolor\":\"#E1E5ED\"},\"yaxis\":{\"gridcolor\":\"#E1E5ED\",\"showgrid\":true,\"tickfont\":{\"color\":\"#4D5663\"},\"title\":{\"font\":{\"color\":\"#4D5663\"},\"text\":\"\"},\"zerolinecolor\":\"#E1E5ED\"}},                        {\"showLink\": true, \"linkText\": \"Export to plot.ly\", \"plotlyServerURL\": \"https://plot.ly\", \"responsive\": true}                    ).then(function(){\n                            \nvar gd = document.getElementById('f527fbed-f57e-45cf-80c0-033647ce2d39');\nvar x = new MutationObserver(function (mutations, observer) {{\n        var display = window.getComputedStyle(gd).display;\n        if (!display || display === 'none') {{\n            console.log([gd, 'removed!']);\n            Plotly.purge(gd);\n            observer.disconnect();\n        }}\n}});\n\n// Listen for the removal of the full notebook cells\nvar notebookContainer = gd.closest('#notebook-container');\nif (notebookContainer) {{\n    x.observe(notebookContainer, {childList: true});\n}}\n\n// Listen for the clearing of the current output cell\nvar outputEl = gd.closest('.output');\nif (outputEl) {{\n    x.observe(outputEl, {childList: true});\n}}\n\n                        })                };                });            </script>        </div>"
     },
     "metadata": {},
     "output_type": "display_data"
    }
   ],
   "source": [
    "data[\"Dep_Time_hour\"].apply(flight_departure_time).value_counts().iplot(kind=\"bar\")"
   ],
   "metadata": {
    "collapsed": false,
    "ExecuteTime": {
     "end_time": "2023-06-18T14:52:12.167800800Z",
     "start_time": "2023-06-18T14:52:11.574403700Z"
    }
   }
  },
  {
   "cell_type": "code",
   "execution_count": 45,
   "outputs": [
    {
     "data": {
      "text/plain": "       Airline Date_of_Journey    Source Destination                  Route  \\\n0       IndiGo      2019-03-24  Banglore   New Delhi              BLR → DEL   \n1    Air India      2019-01-05   Kolkata    Banglore  CCU → IXR → BBI → BLR   \n2  Jet Airways      2019-09-06     Delhi      Cochin  DEL → LKO → BOM → COK   \n\n  Duration Total_Stops Additional_Info  Price  Journey_Day  Journey_Month  \\\n0   2h 50m    non-stop         No info   3897           24              3   \n1   7h 25m     2 stops         No info   7662            5              1   \n2      19h     2 stops         No info  13882            6              9   \n\n   Journey_Year  Dep_Time_hour  Dep_Time_minute  Arrival_Time_hour  \\\n0          2019             22               20                  1   \n1          2019              5               50                 13   \n2          2019              9               25                  4   \n\n   Arrival_Time_minute  \n0                   10  \n1                   15  \n2                   25  ",
      "text/html": "<div>\n<style scoped>\n    .dataframe tbody tr th:only-of-type {\n        vertical-align: middle;\n    }\n\n    .dataframe tbody tr th {\n        vertical-align: top;\n    }\n\n    .dataframe thead th {\n        text-align: right;\n    }\n</style>\n<table border=\"1\" class=\"dataframe\">\n  <thead>\n    <tr style=\"text-align: right;\">\n      <th></th>\n      <th>Airline</th>\n      <th>Date_of_Journey</th>\n      <th>Source</th>\n      <th>Destination</th>\n      <th>Route</th>\n      <th>Duration</th>\n      <th>Total_Stops</th>\n      <th>Additional_Info</th>\n      <th>Price</th>\n      <th>Journey_Day</th>\n      <th>Journey_Month</th>\n      <th>Journey_Year</th>\n      <th>Dep_Time_hour</th>\n      <th>Dep_Time_minute</th>\n      <th>Arrival_Time_hour</th>\n      <th>Arrival_Time_minute</th>\n    </tr>\n  </thead>\n  <tbody>\n    <tr>\n      <th>0</th>\n      <td>IndiGo</td>\n      <td>2019-03-24</td>\n      <td>Banglore</td>\n      <td>New Delhi</td>\n      <td>BLR → DEL</td>\n      <td>2h 50m</td>\n      <td>non-stop</td>\n      <td>No info</td>\n      <td>3897</td>\n      <td>24</td>\n      <td>3</td>\n      <td>2019</td>\n      <td>22</td>\n      <td>20</td>\n      <td>1</td>\n      <td>10</td>\n    </tr>\n    <tr>\n      <th>1</th>\n      <td>Air India</td>\n      <td>2019-01-05</td>\n      <td>Kolkata</td>\n      <td>Banglore</td>\n      <td>CCU → IXR → BBI → BLR</td>\n      <td>7h 25m</td>\n      <td>2 stops</td>\n      <td>No info</td>\n      <td>7662</td>\n      <td>5</td>\n      <td>1</td>\n      <td>2019</td>\n      <td>5</td>\n      <td>50</td>\n      <td>13</td>\n      <td>15</td>\n    </tr>\n    <tr>\n      <th>2</th>\n      <td>Jet Airways</td>\n      <td>2019-09-06</td>\n      <td>Delhi</td>\n      <td>Cochin</td>\n      <td>DEL → LKO → BOM → COK</td>\n      <td>19h</td>\n      <td>2 stops</td>\n      <td>No info</td>\n      <td>13882</td>\n      <td>6</td>\n      <td>9</td>\n      <td>2019</td>\n      <td>9</td>\n      <td>25</td>\n      <td>4</td>\n      <td>25</td>\n    </tr>\n  </tbody>\n</table>\n</div>"
     },
     "execution_count": 45,
     "metadata": {},
     "output_type": "execute_result"
    }
   ],
   "source": [
    "data.head(3)"
   ],
   "metadata": {
    "collapsed": false,
    "ExecuteTime": {
     "end_time": "2023-06-18T14:52:12.183758800Z",
     "start_time": "2023-06-18T14:52:11.795811400Z"
    }
   }
  },
  {
   "cell_type": "code",
   "execution_count": 46,
   "outputs": [],
   "source": [
    "def preprocess_duration(x):\n",
    "    if \"h\" not in x:\n",
    "        x = \"0h\" + \" \" + x\n",
    "    elif \"m\" not in x:\n",
    "        x = x + \" \" + \"0m\"\n",
    "    return x"
   ],
   "metadata": {
    "collapsed": false,
    "ExecuteTime": {
     "end_time": "2023-06-18T14:52:12.183758800Z",
     "start_time": "2023-06-18T14:52:11.826715Z"
    }
   }
  },
  {
   "cell_type": "code",
   "execution_count": 47,
   "outputs": [
    {
     "data": {
      "text/plain": "0        2h 50m\n1        7h 25m\n2        19h 0m\n3        5h 25m\n4        4h 45m\n          ...  \n10678    2h 30m\n10679    2h 35m\n10680     3h 0m\n10681    2h 40m\n10682    8h 20m\nName: Duration, Length: 10682, dtype: object"
     },
     "execution_count": 47,
     "metadata": {},
     "output_type": "execute_result"
    }
   ],
   "source": [
    "data[\"Duration\"].apply(preprocess_duration)"
   ],
   "metadata": {
    "collapsed": false,
    "ExecuteTime": {
     "end_time": "2023-06-18T14:52:12.184756900Z",
     "start_time": "2023-06-18T14:52:11.845664200Z"
    }
   }
  },
  {
   "cell_type": "code",
   "execution_count": 48,
   "outputs": [
    {
     "data": {
      "text/plain": "'2h 50m'"
     },
     "execution_count": 48,
     "metadata": {},
     "output_type": "execute_result"
    }
   ],
   "source": [
    "data[\"Duration\"][0]"
   ],
   "metadata": {
    "collapsed": false,
    "ExecuteTime": {
     "end_time": "2023-06-18T14:52:12.184756900Z",
     "start_time": "2023-06-18T14:52:11.859627200Z"
    }
   }
  },
  {
   "cell_type": "code",
   "execution_count": 49,
   "outputs": [
    {
     "data": {
      "text/plain": "['2h', '50m']"
     },
     "execution_count": 49,
     "metadata": {},
     "output_type": "execute_result"
    }
   ],
   "source": [
    "'2h 50m'.split(\" \")"
   ],
   "metadata": {
    "collapsed": false,
    "ExecuteTime": {
     "end_time": "2023-06-18T14:52:12.184756900Z",
     "start_time": "2023-06-18T14:52:11.872591700Z"
    }
   }
  },
  {
   "cell_type": "code",
   "execution_count": 50,
   "outputs": [
    {
     "data": {
      "text/plain": "'2h'"
     },
     "execution_count": 50,
     "metadata": {},
     "output_type": "execute_result"
    }
   ],
   "source": [
    "'2h 50m'.split(\" \")[0]"
   ],
   "metadata": {
    "collapsed": false,
    "ExecuteTime": {
     "end_time": "2023-06-18T14:52:12.246590700Z",
     "start_time": "2023-06-18T14:52:11.888574700Z"
    }
   }
  },
  {
   "cell_type": "code",
   "execution_count": 51,
   "outputs": [
    {
     "data": {
      "text/plain": "'2'"
     },
     "execution_count": 51,
     "metadata": {},
     "output_type": "execute_result"
    }
   ],
   "source": [
    "'2h 50m'.split(\" \")[0][0:-1]"
   ],
   "metadata": {
    "collapsed": false,
    "ExecuteTime": {
     "end_time": "2023-06-18T14:52:12.247588900Z",
     "start_time": "2023-06-18T14:52:11.907497900Z"
    }
   }
  },
  {
   "cell_type": "code",
   "execution_count": 52,
   "outputs": [
    {
     "data": {
      "text/plain": "str"
     },
     "execution_count": 52,
     "metadata": {},
     "output_type": "execute_result"
    }
   ],
   "source": [
    "type('2h 50m'.split(\" \")[0][0:-1])"
   ],
   "metadata": {
    "collapsed": false,
    "ExecuteTime": {
     "end_time": "2023-06-18T14:52:12.247588900Z",
     "start_time": "2023-06-18T14:52:11.920463Z"
    }
   }
  },
  {
   "cell_type": "code",
   "execution_count": 53,
   "outputs": [
    {
     "data": {
      "text/plain": "2"
     },
     "execution_count": 53,
     "metadata": {},
     "output_type": "execute_result"
    }
   ],
   "source": [
    "int('2h 50m'.split(\" \")[0][0:-1])"
   ],
   "metadata": {
    "collapsed": false,
    "ExecuteTime": {
     "end_time": "2023-06-18T14:52:12.248586600Z",
     "start_time": "2023-06-18T14:52:11.937419500Z"
    }
   }
  },
  {
   "cell_type": "code",
   "execution_count": 54,
   "outputs": [
    {
     "data": {
      "text/plain": "50"
     },
     "execution_count": 54,
     "metadata": {},
     "output_type": "execute_result"
    }
   ],
   "source": [
    "int('2h 50m'.split(\" \")[1][0:-1])"
   ],
   "metadata": {
    "collapsed": false,
    "ExecuteTime": {
     "end_time": "2023-06-18T14:52:12.250580600Z",
     "start_time": "2023-06-18T14:52:11.951381Z"
    }
   }
  },
  {
   "cell_type": "code",
   "execution_count": 55,
   "outputs": [],
   "source": [
    "data[\"Duration_hours\"] = data[\"Duration\"].apply(lambda x: int(x.split(\" \")[0][0:-1]))"
   ],
   "metadata": {
    "collapsed": false,
    "ExecuteTime": {
     "end_time": "2023-06-18T14:52:12.250580600Z",
     "start_time": "2023-06-18T14:52:11.969333700Z"
    }
   }
  },
  {
   "cell_type": "markdown",
   "source": [],
   "metadata": {
    "collapsed": false
   }
  },
  {
   "cell_type": "markdown",
   "source": [],
   "metadata": {
    "collapsed": false
   }
  },
  {
   "cell_type": "code",
   "execution_count": 56,
   "outputs": [],
   "source": [
    "data[\"Duration_minutes\"] = data[\"Duration\"].apply(lambda x: int(x.split(\" \")[1][0:-1] if len(x.split(\" \")) > 1 else 0))"
   ],
   "metadata": {
    "collapsed": false,
    "ExecuteTime": {
     "end_time": "2023-06-18T14:52:12.251578400Z",
     "start_time": "2023-06-18T14:52:12.004239700Z"
    }
   }
  },
  {
   "cell_type": "code",
   "execution_count": 57,
   "outputs": [
    {
     "data": {
      "text/plain": "     Airline Date_of_Journey    Source Destination                  Route  \\\n0     IndiGo      2019-03-24  Banglore   New Delhi              BLR → DEL   \n1  Air India      2019-01-05   Kolkata    Banglore  CCU → IXR → BBI → BLR   \n\n  Duration Total_Stops Additional_Info  Price  Journey_Day  Journey_Month  \\\n0   2h 50m    non-stop         No info   3897           24              3   \n1   7h 25m     2 stops         No info   7662            5              1   \n\n   Journey_Year  Dep_Time_hour  Dep_Time_minute  Arrival_Time_hour  \\\n0          2019             22               20                  1   \n1          2019              5               50                 13   \n\n   Arrival_Time_minute  Duration_hours  Duration_minutes  \n0                   10               2                50  \n1                   15               7                25  ",
      "text/html": "<div>\n<style scoped>\n    .dataframe tbody tr th:only-of-type {\n        vertical-align: middle;\n    }\n\n    .dataframe tbody tr th {\n        vertical-align: top;\n    }\n\n    .dataframe thead th {\n        text-align: right;\n    }\n</style>\n<table border=\"1\" class=\"dataframe\">\n  <thead>\n    <tr style=\"text-align: right;\">\n      <th></th>\n      <th>Airline</th>\n      <th>Date_of_Journey</th>\n      <th>Source</th>\n      <th>Destination</th>\n      <th>Route</th>\n      <th>Duration</th>\n      <th>Total_Stops</th>\n      <th>Additional_Info</th>\n      <th>Price</th>\n      <th>Journey_Day</th>\n      <th>Journey_Month</th>\n      <th>Journey_Year</th>\n      <th>Dep_Time_hour</th>\n      <th>Dep_Time_minute</th>\n      <th>Arrival_Time_hour</th>\n      <th>Arrival_Time_minute</th>\n      <th>Duration_hours</th>\n      <th>Duration_minutes</th>\n    </tr>\n  </thead>\n  <tbody>\n    <tr>\n      <th>0</th>\n      <td>IndiGo</td>\n      <td>2019-03-24</td>\n      <td>Banglore</td>\n      <td>New Delhi</td>\n      <td>BLR → DEL</td>\n      <td>2h 50m</td>\n      <td>non-stop</td>\n      <td>No info</td>\n      <td>3897</td>\n      <td>24</td>\n      <td>3</td>\n      <td>2019</td>\n      <td>22</td>\n      <td>20</td>\n      <td>1</td>\n      <td>10</td>\n      <td>2</td>\n      <td>50</td>\n    </tr>\n    <tr>\n      <th>1</th>\n      <td>Air India</td>\n      <td>2019-01-05</td>\n      <td>Kolkata</td>\n      <td>Banglore</td>\n      <td>CCU → IXR → BBI → BLR</td>\n      <td>7h 25m</td>\n      <td>2 stops</td>\n      <td>No info</td>\n      <td>7662</td>\n      <td>5</td>\n      <td>1</td>\n      <td>2019</td>\n      <td>5</td>\n      <td>50</td>\n      <td>13</td>\n      <td>15</td>\n      <td>7</td>\n      <td>25</td>\n    </tr>\n  </tbody>\n</table>\n</div>"
     },
     "execution_count": 57,
     "metadata": {},
     "output_type": "execute_result"
    }
   ],
   "source": [
    "data.head(2)"
   ],
   "metadata": {
    "collapsed": false,
    "ExecuteTime": {
     "end_time": "2023-06-18T14:52:12.251578400Z",
     "start_time": "2023-06-18T14:52:12.030170100Z"
    }
   }
  },
  {
   "cell_type": "code",
   "execution_count": 58,
   "outputs": [
    {
     "data": {
      "text/plain": "0        2h 50m\n1        7h 25m\n2           19h\n3        5h 25m\n4        4h 45m\n          ...  \n10678    2h 30m\n10679    2h 35m\n10680        3h\n10681    2h 40m\n10682    8h 20m\nName: Duration, Length: 10682, dtype: object"
     },
     "execution_count": 58,
     "metadata": {},
     "output_type": "execute_result"
    }
   ],
   "source": [
    "data[\"Duration\"]"
   ],
   "metadata": {
    "collapsed": false,
    "ExecuteTime": {
     "end_time": "2023-06-18T14:52:12.251578400Z",
     "start_time": "2023-06-18T14:52:12.063083400Z"
    }
   }
  },
  {
   "cell_type": "markdown",
   "source": [],
   "metadata": {
    "collapsed": false
   }
  },
  {
   "cell_type": "code",
   "execution_count": 59,
   "outputs": [],
   "source": [
    "data[\"Duration_total_minutes\"] = data[\"Duration\"].str.replace(\"h\", \"*60\").str.replace(\" \", \"+\").str.replace(\"m\", \"*1\").apply(eval)"
   ],
   "metadata": {
    "collapsed": false,
    "ExecuteTime": {
     "end_time": "2023-06-18T14:52:12.321390500Z",
     "start_time": "2023-06-18T14:52:12.081033400Z"
    }
   }
  },
  {
   "cell_type": "code",
   "execution_count": 60,
   "outputs": [
    {
     "data": {
      "text/plain": "0         170\n1         445\n2        1140\n3         325\n4         285\n         ... \n10678     150\n10679     155\n10680     180\n10681     160\n10682     500\nName: Duration_total_minutes, Length: 10682, dtype: int64"
     },
     "execution_count": 60,
     "metadata": {},
     "output_type": "execute_result"
    }
   ],
   "source": [
    "data[\"Duration_total_minutes\"]"
   ],
   "metadata": {
    "collapsed": false,
    "ExecuteTime": {
     "end_time": "2023-06-18T14:52:12.370260100Z",
     "start_time": "2023-06-18T14:52:12.205700900Z"
    }
   }
  },
  {
   "cell_type": "code",
   "execution_count": 61,
   "outputs": [
    {
     "data": {
      "text/plain": "Index(['Airline', 'Date_of_Journey', 'Source', 'Destination', 'Route',\n       'Duration', 'Total_Stops', 'Additional_Info', 'Price', 'Journey_Day',\n       'Journey_Month', 'Journey_Year', 'Dep_Time_hour', 'Dep_Time_minute',\n       'Arrival_Time_hour', 'Arrival_Time_minute', 'Duration_hours',\n       'Duration_minutes', 'Duration_total_minutes'],\n      dtype='object')"
     },
     "execution_count": 61,
     "metadata": {},
     "output_type": "execute_result"
    }
   ],
   "source": [
    "data.columns"
   ],
   "metadata": {
    "collapsed": false,
    "ExecuteTime": {
     "end_time": "2023-06-18T14:52:12.536814100Z",
     "start_time": "2023-06-18T14:52:12.232629500Z"
    }
   }
  },
  {
   "cell_type": "code",
   "execution_count": 62,
   "outputs": [
    {
     "data": {
      "text/plain": "<Axes: xlabel='Duration_total_minutes', ylabel='Price'>"
     },
     "execution_count": 62,
     "metadata": {},
     "output_type": "execute_result"
    },
    {
     "data": {
      "text/plain": "<Figure size 640x480 with 1 Axes>",
      "image/png": "[encoded data removed]"
     },
     "metadata": {},
     "output_type": "display_data"
    }
   ],
   "source": [
    "sns.scatterplot(x=\"Duration_total_minutes\", y=\"Price\", data=data)"
   ],
   "metadata": {
    "collapsed": false,
    "ExecuteTime": {
     "end_time": "2023-06-18T14:52:12.802444Z",
     "start_time": "2023-06-18T14:52:12.280501200Z"
    }
   }
  },
  {
   "cell_type": "code",
   "execution_count": 63,
   "outputs": [
    {
     "data": {
      "text/plain": "<seaborn.axisgrid.FacetGrid at 0x267094f10f0>"
     },
     "execution_count": 63,
     "metadata": {},
     "output_type": "execute_result"
    },
    {
     "data": {
      "text/plain": "<Figure size 500x500 with 1 Axes>",
      "image/png": "[encoded data removed]"
     },
     "metadata": {},
     "output_type": "display_data"
    }
   ],
   "source": [
    "sns.lmplot(x=\"Duration_total_minutes\", y=\"Price\", data=data)"
   ],
   "metadata": {
    "collapsed": false,
    "ExecuteTime": {
     "end_time": "2023-06-18T14:52:14.897838700Z",
     "start_time": "2023-06-18T14:52:12.786486900Z"
    }
   }
  },
  {
   "cell_type": "code",
   "execution_count": 64,
   "outputs": [
    {
     "data": {
      "text/plain": "<Axes: xlabel='Duration_total_minutes', ylabel='Price'>"
     },
     "execution_count": 64,
     "metadata": {},
     "output_type": "execute_result"
    },
    {
     "data": {
      "text/plain": "<Figure size 640x480 with 1 Axes>",
      "image/png": "[encoded data removed]"
     },
     "metadata": {},
     "output_type": "display_data"
    }
   ],
   "source": [
    "sns.scatterplot(x=\"Duration_total_minutes\", y=\"Price\", hue=\"Total_Stops\", data=data)"
   ],
   "metadata": {
    "collapsed": false,
    "ExecuteTime": {
     "end_time": "2023-06-18T14:52:16.141509700Z",
     "start_time": "2023-06-18T14:52:14.900829600Z"
    }
   }
  },
  {
   "cell_type": "code",
   "execution_count": 65,
   "outputs": [
    {
     "data": {
      "text/plain": "Route\nCCU → BOM → BLR          930\nDEL → BOM → COK          875\nBLR → BOM → DEL          385\nBLR → DEL                382\nCCU → DEL → BLR          300\nBOM → HYD                207\nDEL → JAI → BOM → COK    207\nDEL → AMD → BOM → COK    141\nDEL → IDR → BOM → COK     86\nDEL → NAG → BOM → COK     61\nDEL → ATQ → BOM → COK     38\nDEL → COK                 34\nDEL → BHO → BOM → COK     29\nDEL → BDQ → BOM → COK     28\nDEL → LKO → BOM → COK     25\nDEL → JDH → BOM → COK     23\nCCU → GAU → BLR           22\nDEL → MAA → BOM → COK     16\nDEL → IXC → BOM → COK     13\nBLR → MAA → DEL           10\nBLR → BDQ → DEL            8\nDEL → UDR → BOM → COK      7\nBOM → DEL → HYD            5\nCCU → BOM → PNQ → BLR      4\nBLR → BOM → JDH → DEL      3\nDEL → DED → BOM → COK      2\nBOM → BDQ → DEL → HYD      2\nDEL → CCU → BOM → COK      1\nBOM → VNS → DEL → HYD      1\nBOM → UDR → DEL → HYD      1\nBOM → JDH → DEL → HYD      1\nBOM → IDR → DEL → HYD      1\nBOM → DED → DEL → HYD      1\ndtype: int64"
     },
     "execution_count": 65,
     "metadata": {},
     "output_type": "execute_result"
    }
   ],
   "source": [
    "data[data[\"Airline\"]==\"Jet Airways\"].groupby(\"Route\").size().sort_values(ascending=False)"
   ],
   "metadata": {
    "collapsed": false,
    "ExecuteTime": {
     "end_time": "2023-06-18T14:52:16.229280700Z",
     "start_time": "2023-06-18T14:52:16.144501400Z"
    }
   }
  },
  {
   "cell_type": "code",
   "execution_count": 66,
   "outputs": [
    {
     "data": {
      "text/plain": "Index(['Airline', 'Date_of_Journey', 'Source', 'Destination', 'Route',\n       'Duration', 'Total_Stops', 'Additional_Info', 'Price', 'Journey_Day',\n       'Journey_Month', 'Journey_Year', 'Dep_Time_hour', 'Dep_Time_minute',\n       'Arrival_Time_hour', 'Arrival_Time_minute', 'Duration_hours',\n       'Duration_minutes', 'Duration_total_minutes'],\n      dtype='object')"
     },
     "execution_count": 66,
     "metadata": {},
     "output_type": "execute_result"
    }
   ],
   "source": [
    "data.columns"
   ],
   "metadata": {
    "collapsed": false,
    "ExecuteTime": {
     "end_time": "2023-06-18T14:52:16.229280700Z",
     "start_time": "2023-06-18T14:52:16.172429Z"
    }
   }
  },
  {
   "cell_type": "code",
   "execution_count": 67,
   "outputs": [
    {
     "data": {
      "text/plain": "<Figure size 640x480 with 1 Axes>",
      "image/png": "[encoded data removed]"
     },
     "metadata": {},
     "output_type": "display_data"
    }
   ],
   "source": [
    "sns.boxplot(y=\"Price\", x=\"Airline\", data=data.sort_values(\"Price\", ascending=False))\n",
    "plt.xticks(rotation=\"vertical\")\n",
    "plt.show()"
   ],
   "metadata": {
    "collapsed": false,
    "ExecuteTime": {
     "end_time": "2023-06-18T14:52:16.638180300Z",
     "start_time": "2023-06-18T14:52:16.197359800Z"
    }
   }
  },
  {
   "cell_type": "code",
   "execution_count": 68,
   "outputs": [
    {
     "data": {
      "text/plain": "     Airline Date_of_Journey    Source Destination                  Route  \\\n0     IndiGo      2019-03-24  Banglore   New Delhi              BLR → DEL   \n1  Air India      2019-01-05   Kolkata    Banglore  CCU → IXR → BBI → BLR   \n\n  Duration Total_Stops Additional_Info  Price  Journey_Day  Journey_Month  \\\n0   2h 50m    non-stop         No info   3897           24              3   \n1   7h 25m     2 stops         No info   7662            5              1   \n\n   Journey_Year  Dep_Time_hour  Dep_Time_minute  Arrival_Time_hour  \\\n0          2019             22               20                  1   \n1          2019              5               50                 13   \n\n   Arrival_Time_minute  Duration_hours  Duration_minutes  \\\n0                   10               2                50   \n1                   15               7                25   \n\n   Duration_total_minutes  \n0                     170  \n1                     445  ",
      "text/html": "<div>\n<style scoped>\n    .dataframe tbody tr th:only-of-type {\n        vertical-align: middle;\n    }\n\n    .dataframe tbody tr th {\n        vertical-align: top;\n    }\n\n    .dataframe thead th {\n        text-align: right;\n    }\n</style>\n<table border=\"1\" class=\"dataframe\">\n  <thead>\n    <tr style=\"text-align: right;\">\n      <th></th>\n      <th>Airline</th>\n      <th>Date_of_Journey</th>\n      <th>Source</th>\n      <th>Destination</th>\n      <th>Route</th>\n      <th>Duration</th>\n      <th>Total_Stops</th>\n      <th>Additional_Info</th>\n      <th>Price</th>\n      <th>Journey_Day</th>\n      <th>Journey_Month</th>\n      <th>Journey_Year</th>\n      <th>Dep_Time_hour</th>\n      <th>Dep_Time_minute</th>\n      <th>Arrival_Time_hour</th>\n      <th>Arrival_Time_minute</th>\n      <th>Duration_hours</th>\n      <th>Duration_minutes</th>\n      <th>Duration_total_minutes</th>\n    </tr>\n  </thead>\n  <tbody>\n    <tr>\n      <th>0</th>\n      <td>IndiGo</td>\n      <td>2019-03-24</td>\n      <td>Banglore</td>\n      <td>New Delhi</td>\n      <td>BLR → DEL</td>\n      <td>2h 50m</td>\n      <td>non-stop</td>\n      <td>No info</td>\n      <td>3897</td>\n      <td>24</td>\n      <td>3</td>\n      <td>2019</td>\n      <td>22</td>\n      <td>20</td>\n      <td>1</td>\n      <td>10</td>\n      <td>2</td>\n      <td>50</td>\n      <td>170</td>\n    </tr>\n    <tr>\n      <th>1</th>\n      <td>Air India</td>\n      <td>2019-01-05</td>\n      <td>Kolkata</td>\n      <td>Banglore</td>\n      <td>CCU → IXR → BBI → BLR</td>\n      <td>7h 25m</td>\n      <td>2 stops</td>\n      <td>No info</td>\n      <td>7662</td>\n      <td>5</td>\n      <td>1</td>\n      <td>2019</td>\n      <td>5</td>\n      <td>50</td>\n      <td>13</td>\n      <td>15</td>\n      <td>7</td>\n      <td>25</td>\n      <td>445</td>\n    </tr>\n  </tbody>\n</table>\n</div>"
     },
     "execution_count": 68,
     "metadata": {},
     "output_type": "execute_result"
    }
   ],
   "source": [
    "data.head(2)"
   ],
   "metadata": {
    "collapsed": false,
    "ExecuteTime": {
     "end_time": "2023-06-18T14:52:16.725946700Z",
     "start_time": "2023-06-18T14:52:16.614244900Z"
    }
   }
  },
  {
   "cell_type": "code",
   "execution_count": 69,
   "outputs": [],
   "source": [
    "cat_col = [col for col in data.columns if data[col].dtype==\"object\"]"
   ],
   "metadata": {
    "collapsed": false,
    "ExecuteTime": {
     "end_time": "2023-06-18T14:52:16.725946700Z",
     "start_time": "2023-06-18T14:52:16.645162100Z"
    }
   }
  },
  {
   "cell_type": "code",
   "execution_count": 70,
   "outputs": [],
   "source": [
    "num_col = [col for col in data.columns if data[col].dtype!=\"object\"]"
   ],
   "metadata": {
    "collapsed": false,
    "ExecuteTime": {
     "end_time": "2023-06-18T14:52:16.725946700Z",
     "start_time": "2023-06-18T14:52:16.657129900Z"
    }
   }
  },
  {
   "cell_type": "code",
   "execution_count": 71,
   "outputs": [
    {
     "data": {
      "text/plain": "['Airline',\n 'Source',\n 'Destination',\n 'Route',\n 'Duration',\n 'Total_Stops',\n 'Additional_Info']"
     },
     "execution_count": 71,
     "metadata": {},
     "output_type": "execute_result"
    }
   ],
   "source": [
    "cat_col"
   ],
   "metadata": {
    "collapsed": false,
    "ExecuteTime": {
     "end_time": "2023-06-18T14:52:16.725946700Z",
     "start_time": "2023-06-18T14:52:16.673087300Z"
    }
   }
  },
  {
   "cell_type": "code",
   "execution_count": 72,
   "outputs": [
    {
     "data": {
      "text/plain": "array(['Banglore', 'Kolkata', 'Delhi', 'Chennai', 'Mumbai'], dtype=object)"
     },
     "execution_count": 72,
     "metadata": {},
     "output_type": "execute_result"
    }
   ],
   "source": [
    "data[\"Source\"].unique()"
   ],
   "metadata": {
    "collapsed": false,
    "ExecuteTime": {
     "end_time": "2023-06-18T14:52:16.727940800Z",
     "start_time": "2023-06-18T14:52:16.688047300Z"
    }
   }
  },
  {
   "cell_type": "code",
   "execution_count": 73,
   "outputs": [],
   "source": [
    "for sub_category in data[\"Source\"].unique():\n",
    "    data[\"Source_\" + sub_category] = data[\"Source\"].apply(lambda x: 1 if x == sub_category else 0)"
   ],
   "metadata": {
    "collapsed": false,
    "ExecuteTime": {
     "end_time": "2023-06-18T14:52:16.813711Z",
     "start_time": "2023-06-18T14:52:16.723957900Z"
    }
   }
  },
  {
   "cell_type": "code",
   "execution_count": 74,
   "outputs": [
    {
     "data": {
      "text/plain": "       Airline Date_of_Journey    Source Destination                  Route  \\\n0       IndiGo      2019-03-24  Banglore   New Delhi              BLR → DEL   \n1    Air India      2019-01-05   Kolkata    Banglore  CCU → IXR → BBI → BLR   \n2  Jet Airways      2019-09-06     Delhi      Cochin  DEL → LKO → BOM → COK   \n\n  Duration Total_Stops Additional_Info  Price  Journey_Day  ...  \\\n0   2h 50m    non-stop         No info   3897           24  ...   \n1   7h 25m     2 stops         No info   7662            5  ...   \n2      19h     2 stops         No info  13882            6  ...   \n\n   Arrival_Time_hour  Arrival_Time_minute  Duration_hours  Duration_minutes  \\\n0                  1                   10               2                50   \n1                 13                   15               7                25   \n2                  4                   25              19                 0   \n\n   Duration_total_minutes  Source_Banglore  Source_Kolkata  Source_Delhi  \\\n0                     170                1               0             0   \n1                     445                0               1             0   \n2                    1140                0               0             1   \n\n   Source_Chennai  Source_Mumbai  \n0               0              0  \n1               0              0  \n2               0              0  \n\n[3 rows x 24 columns]",
      "text/html": "<div>\n<style scoped>\n    .dataframe tbody tr th:only-of-type {\n        vertical-align: middle;\n    }\n\n    .dataframe tbody tr th {\n        vertical-align: top;\n    }\n\n    .dataframe thead th {\n        text-align: right;\n    }\n</style>\n<table border=\"1\" class=\"dataframe\">\n  <thead>\n    <tr style=\"text-align: right;\">\n      <th></th>\n      <th>Airline</th>\n      <th>Date_of_Journey</th>\n      <th>Source</th>\n      <th>Destination</th>\n      <th>Route</th>\n      <th>Duration</th>\n      <th>Total_Stops</th>\n      <th>Additional_Info</th>\n      <th>Price</th>\n      <th>Journey_Day</th>\n      <th>...</th>\n      <th>Arrival_Time_hour</th>\n      <th>Arrival_Time_minute</th>\n      <th>Duration_hours</th>\n      <th>Duration_minutes</th>\n      <th>Duration_total_minutes</th>\n      <th>Source_Banglore</th>\n      <th>Source_Kolkata</th>\n      <th>Source_Delhi</th>\n      <th>Source_Chennai</th>\n      <th>Source_Mumbai</th>\n    </tr>\n  </thead>\n  <tbody>\n    <tr>\n      <th>0</th>\n      <td>IndiGo</td>\n      <td>2019-03-24</td>\n      <td>Banglore</td>\n      <td>New Delhi</td>\n      <td>BLR → DEL</td>\n      <td>2h 50m</td>\n      <td>non-stop</td>\n      <td>No info</td>\n      <td>3897</td>\n      <td>24</td>\n      <td>...</td>\n      <td>1</td>\n      <td>10</td>\n      <td>2</td>\n      <td>50</td>\n      <td>170</td>\n      <td>1</td>\n      <td>0</td>\n      <td>0</td>\n      <td>0</td>\n      <td>0</td>\n    </tr>\n    <tr>\n      <th>1</th>\n      <td>Air India</td>\n      <td>2019-01-05</td>\n      <td>Kolkata</td>\n      <td>Banglore</td>\n      <td>CCU → IXR → BBI → BLR</td>\n      <td>7h 25m</td>\n      <td>2 stops</td>\n      <td>No info</td>\n      <td>7662</td>\n      <td>5</td>\n      <td>...</td>\n      <td>13</td>\n      <td>15</td>\n      <td>7</td>\n      <td>25</td>\n      <td>445</td>\n      <td>0</td>\n      <td>1</td>\n      <td>0</td>\n      <td>0</td>\n      <td>0</td>\n    </tr>\n    <tr>\n      <th>2</th>\n      <td>Jet Airways</td>\n      <td>2019-09-06</td>\n      <td>Delhi</td>\n      <td>Cochin</td>\n      <td>DEL → LKO → BOM → COK</td>\n      <td>19h</td>\n      <td>2 stops</td>\n      <td>No info</td>\n      <td>13882</td>\n      <td>6</td>\n      <td>...</td>\n      <td>4</td>\n      <td>25</td>\n      <td>19</td>\n      <td>0</td>\n      <td>1140</td>\n      <td>0</td>\n      <td>0</td>\n      <td>1</td>\n      <td>0</td>\n      <td>0</td>\n    </tr>\n  </tbody>\n</table>\n<p>3 rows × 24 columns</p>\n</div>"
     },
     "execution_count": 74,
     "metadata": {},
     "output_type": "execute_result"
    }
   ],
   "source": [
    "data.head(3)"
   ],
   "metadata": {
    "collapsed": false,
    "ExecuteTime": {
     "end_time": "2023-06-18T14:52:16.906463600Z",
     "start_time": "2023-06-18T14:52:16.769830200Z"
    }
   }
  },
  {
   "cell_type": "code",
   "execution_count": 75,
   "outputs": [
    {
     "data": {
      "text/plain": "['Airline',\n 'Source',\n 'Destination',\n 'Route',\n 'Duration',\n 'Total_Stops',\n 'Additional_Info']"
     },
     "execution_count": 75,
     "metadata": {},
     "output_type": "execute_result"
    }
   ],
   "source": [
    "cat_col\n"
   ],
   "metadata": {
    "collapsed": false,
    "ExecuteTime": {
     "end_time": "2023-06-18T14:52:16.941370100Z",
     "start_time": "2023-06-18T14:52:16.861583900Z"
    }
   }
  },
  {
   "cell_type": "code",
   "execution_count": 76,
   "outputs": [
    {
     "data": {
      "text/plain": "     Airline Date_of_Journey    Source Destination                  Route  \\\n0     IndiGo      2019-03-24  Banglore   New Delhi              BLR → DEL   \n1  Air India      2019-01-05   Kolkata    Banglore  CCU → IXR → BBI → BLR   \n\n  Duration Total_Stops Additional_Info  Price  Journey_Day  ...  \\\n0   2h 50m    non-stop         No info   3897           24  ...   \n1   7h 25m     2 stops         No info   7662            5  ...   \n\n   Arrival_Time_hour  Arrival_Time_minute  Duration_hours  Duration_minutes  \\\n0                  1                   10               2                50   \n1                 13                   15               7                25   \n\n   Duration_total_minutes  Source_Banglore  Source_Kolkata  Source_Delhi  \\\n0                     170                1               0             0   \n1                     445                0               1             0   \n\n   Source_Chennai  Source_Mumbai  \n0               0              0  \n1               0              0  \n\n[2 rows x 24 columns]",
      "text/html": "<div>\n<style scoped>\n    .dataframe tbody tr th:only-of-type {\n        vertical-align: middle;\n    }\n\n    .dataframe tbody tr th {\n        vertical-align: top;\n    }\n\n    .dataframe thead th {\n        text-align: right;\n    }\n</style>\n<table border=\"1\" class=\"dataframe\">\n  <thead>\n    <tr style=\"text-align: right;\">\n      <th></th>\n      <th>Airline</th>\n      <th>Date_of_Journey</th>\n      <th>Source</th>\n      <th>Destination</th>\n      <th>Route</th>\n      <th>Duration</th>\n      <th>Total_Stops</th>\n      <th>Additional_Info</th>\n      <th>Price</th>\n      <th>Journey_Day</th>\n      <th>...</th>\n      <th>Arrival_Time_hour</th>\n      <th>Arrival_Time_minute</th>\n      <th>Duration_hours</th>\n      <th>Duration_minutes</th>\n      <th>Duration_total_minutes</th>\n      <th>Source_Banglore</th>\n      <th>Source_Kolkata</th>\n      <th>Source_Delhi</th>\n      <th>Source_Chennai</th>\n      <th>Source_Mumbai</th>\n    </tr>\n  </thead>\n  <tbody>\n    <tr>\n      <th>0</th>\n      <td>IndiGo</td>\n      <td>2019-03-24</td>\n      <td>Banglore</td>\n      <td>New Delhi</td>\n      <td>BLR → DEL</td>\n      <td>2h 50m</td>\n      <td>non-stop</td>\n      <td>No info</td>\n      <td>3897</td>\n      <td>24</td>\n      <td>...</td>\n      <td>1</td>\n      <td>10</td>\n      <td>2</td>\n      <td>50</td>\n      <td>170</td>\n      <td>1</td>\n      <td>0</td>\n      <td>0</td>\n      <td>0</td>\n      <td>0</td>\n    </tr>\n    <tr>\n      <th>1</th>\n      <td>Air India</td>\n      <td>2019-01-05</td>\n      <td>Kolkata</td>\n      <td>Banglore</td>\n      <td>CCU → IXR → BBI → BLR</td>\n      <td>7h 25m</td>\n      <td>2 stops</td>\n      <td>No info</td>\n      <td>7662</td>\n      <td>5</td>\n      <td>...</td>\n      <td>13</td>\n      <td>15</td>\n      <td>7</td>\n      <td>25</td>\n      <td>445</td>\n      <td>0</td>\n      <td>1</td>\n      <td>0</td>\n      <td>0</td>\n      <td>0</td>\n    </tr>\n  </tbody>\n</table>\n<p>2 rows × 24 columns</p>\n</div>"
     },
     "execution_count": 76,
     "metadata": {},
     "output_type": "execute_result"
    }
   ],
   "source": [
    "data.head(2)"
   ],
   "metadata": {
    "collapsed": false,
    "ExecuteTime": {
     "end_time": "2023-06-18T14:52:16.941370100Z",
     "start_time": "2023-06-18T14:52:16.862580800Z"
    }
   }
  },
  {
   "cell_type": "code",
   "execution_count": 236,
   "outputs": [
    {
     "data": {
      "text/plain": "12"
     },
     "execution_count": 236,
     "metadata": {},
     "output_type": "execute_result"
    }
   ],
   "source": [
    "data[\"Airline\"].nunique()"
   ],
   "metadata": {
    "collapsed": false,
    "ExecuteTime": {
     "end_time": "2023-06-18T16:08:39.040990500Z",
     "start_time": "2023-06-18T16:08:39.000101100Z"
    }
   }
  },
  {
   "cell_type": "code",
   "execution_count": 253,
   "outputs": [
    {
     "data": {
      "text/plain": "Airline\nTrujet                                4140.000000\nSpiceJet                              4338.284841\nAir Asia                              5590.260188\nIndiGo                                5673.682903\nGoAir                                 5861.056701\nVistara                               7796.348643\nJet Airways Business                  8372.000000\nVistara Premium economy               8962.333333\nAir India                             9612.427756\nMultiple carriers                    10878.755853\nMultiple carriers Premium economy    11418.846154\nJet Airways                          11586.271759\nName: Price, dtype: float64"
     },
     "execution_count": 253,
     "metadata": {},
     "output_type": "execute_result"
    }
   ],
   "source": [
    "data.groupby([\"Airline\"])[\"Price\"].mean().sort_values()"
   ],
   "metadata": {
    "collapsed": false,
    "ExecuteTime": {
     "end_time": "2023-06-18T16:10:01.174695100Z",
     "start_time": "2023-06-18T16:10:01.130812900Z"
    }
   }
  },
  {
   "cell_type": "code",
   "execution_count": 238,
   "outputs": [],
   "source": [
    "airlines = data.groupby([\"Airline\"])[\"Price\"].mean().sort_values().index"
   ],
   "metadata": {
    "collapsed": false,
    "ExecuteTime": {
     "end_time": "2023-06-18T16:08:42.594890300Z",
     "start_time": "2023-06-18T16:08:42.569471200Z"
    }
   }
  },
  {
   "cell_type": "code",
   "execution_count": 254,
   "outputs": [
    {
     "data": {
      "text/plain": "Index(['Trujet', 'SpiceJet', 'Air Asia', 'IndiGo', 'GoAir', 'Vistara',\n       'Jet Airways Business', 'Vistara Premium economy', 'Air India',\n       'Multiple carriers', 'Multiple carriers Premium economy',\n       'Jet Airways'],\n      dtype='object', name='Airline')"
     },
     "execution_count": 254,
     "metadata": {},
     "output_type": "execute_result"
    }
   ],
   "source": [
    "airlines"
   ],
   "metadata": {
    "collapsed": false,
    "ExecuteTime": {
     "end_time": "2023-06-18T16:10:05.057201300Z",
     "start_time": "2023-06-18T16:10:05.014316Z"
    }
   }
  },
  {
   "cell_type": "code",
   "execution_count": 255,
   "outputs": [],
   "source": [
    "dict_airlines = {key: index for index, key in enumerate(airlines, 0)}\n"
   ],
   "metadata": {
    "collapsed": false,
    "ExecuteTime": {
     "end_time": "2023-06-18T16:10:06.923974100Z",
     "start_time": "2023-06-18T16:10:06.905025700Z"
    }
   }
  },
  {
   "cell_type": "code",
   "execution_count": 256,
   "outputs": [
    {
     "data": {
      "text/plain": "{'Trujet': 0,\n 'SpiceJet': 1,\n 'Air Asia': 2,\n 'IndiGo': 3,\n 'GoAir': 4,\n 'Vistara': 5,\n 'Jet Airways Business': 6,\n 'Vistara Premium economy': 7,\n 'Air India': 8,\n 'Multiple carriers': 9,\n 'Multiple carriers Premium economy': 10,\n 'Jet Airways': 11}"
     },
     "execution_count": 256,
     "metadata": {},
     "output_type": "execute_result"
    }
   ],
   "source": [
    "dict_airlines"
   ],
   "metadata": {
    "collapsed": false,
    "ExecuteTime": {
     "end_time": "2023-06-18T16:10:08.543904300Z",
     "start_time": "2023-06-18T16:10:08.493043600Z"
    }
   }
  },
  {
   "cell_type": "code",
   "execution_count": 258,
   "outputs": [],
   "source": [
    "data[\"Airline\"] = data[\"Airline\"].map(dict_airlines)"
   ],
   "metadata": {
    "collapsed": false,
    "ExecuteTime": {
     "end_time": "2023-06-18T16:18:10.696776700Z",
     "start_time": "2023-06-18T16:18:10.683812600Z"
    }
   }
  },
  {
   "cell_type": "code",
   "execution_count": 259,
   "outputs": [
    {
     "data": {
      "text/plain": "   Airline  Destination  Total_Stops    Price  Journey_Day  Journey_Month  \\\n0        3            2            0   3897.0           24              3   \n1        8            3            2   7662.0            5              1   \n2       11            4            2  13882.0            6              9   \n\n   Dep_Time_hour  Dep_Time_minute  Arrival_Time_hour  Arrival_Time_minute  \\\n0             22               20                  1                   10   \n1              5               50                 13                   15   \n2              9               25                  4                   25   \n\n   Duration_hours  Duration_minutes  Source_Banglore  Source_Kolkata  \\\n0               2                50                1               0   \n1               7                25                0               1   \n2              19                 0                0               0   \n\n   Source_Delhi  Source_Chennai  Source_Mumbai  \n0             0               0              0  \n1             0               0              0  \n2             1               0              0  ",
      "text/html": "<div>\n<style scoped>\n    .dataframe tbody tr th:only-of-type {\n        vertical-align: middle;\n    }\n\n    .dataframe tbody tr th {\n        vertical-align: top;\n    }\n\n    .dataframe thead th {\n        text-align: right;\n    }\n</style>\n<table border=\"1\" class=\"dataframe\">\n  <thead>\n    <tr style=\"text-align: right;\">\n      <th></th>\n      <th>Airline</th>\n      <th>Destination</th>\n      <th>Total_Stops</th>\n      <th>Price</th>\n      <th>Journey_Day</th>\n      <th>Journey_Month</th>\n      <th>Dep_Time_hour</th>\n      <th>Dep_Time_minute</th>\n      <th>Arrival_Time_hour</th>\n      <th>Arrival_Time_minute</th>\n      <th>Duration_hours</th>\n      <th>Duration_minutes</th>\n      <th>Source_Banglore</th>\n      <th>Source_Kolkata</th>\n      <th>Source_Delhi</th>\n      <th>Source_Chennai</th>\n      <th>Source_Mumbai</th>\n    </tr>\n  </thead>\n  <tbody>\n    <tr>\n      <th>0</th>\n      <td>3</td>\n      <td>2</td>\n      <td>0</td>\n      <td>3897.0</td>\n      <td>24</td>\n      <td>3</td>\n      <td>22</td>\n      <td>20</td>\n      <td>1</td>\n      <td>10</td>\n      <td>2</td>\n      <td>50</td>\n      <td>1</td>\n      <td>0</td>\n      <td>0</td>\n      <td>0</td>\n      <td>0</td>\n    </tr>\n    <tr>\n      <th>1</th>\n      <td>8</td>\n      <td>3</td>\n      <td>2</td>\n      <td>7662.0</td>\n      <td>5</td>\n      <td>1</td>\n      <td>5</td>\n      <td>50</td>\n      <td>13</td>\n      <td>15</td>\n      <td>7</td>\n      <td>25</td>\n      <td>0</td>\n      <td>1</td>\n      <td>0</td>\n      <td>0</td>\n      <td>0</td>\n    </tr>\n    <tr>\n      <th>2</th>\n      <td>11</td>\n      <td>4</td>\n      <td>2</td>\n      <td>13882.0</td>\n      <td>6</td>\n      <td>9</td>\n      <td>9</td>\n      <td>25</td>\n      <td>4</td>\n      <td>25</td>\n      <td>19</td>\n      <td>0</td>\n      <td>0</td>\n      <td>0</td>\n      <td>1</td>\n      <td>0</td>\n      <td>0</td>\n    </tr>\n  </tbody>\n</table>\n</div>"
     },
     "execution_count": 259,
     "metadata": {},
     "output_type": "execute_result"
    }
   ],
   "source": [
    "data.head(3)"
   ],
   "metadata": {
    "collapsed": false,
    "ExecuteTime": {
     "end_time": "2023-06-18T16:18:13.612018700Z",
     "start_time": "2023-06-18T16:18:13.574885500Z"
    }
   }
  },
  {
   "cell_type": "code",
   "execution_count": 243,
   "outputs": [
    {
     "data": {
      "text/plain": "array([2, 3, 4, 0, 1], dtype=int64)"
     },
     "execution_count": 243,
     "metadata": {},
     "output_type": "execute_result"
    }
   ],
   "source": [
    "data[\"Destination\"].unique()"
   ],
   "metadata": {
    "collapsed": false,
    "ExecuteTime": {
     "end_time": "2023-06-18T16:08:50.869399800Z",
     "start_time": "2023-06-18T16:08:50.822721Z"
    }
   }
  },
  {
   "cell_type": "code",
   "execution_count": 244,
   "outputs": [],
   "source": [
    "data[\"Destination\"].replace(\"New Delhi\", \"Delhi\", inplace=True)"
   ],
   "metadata": {
    "collapsed": false,
    "ExecuteTime": {
     "end_time": "2023-06-18T16:08:52.071103900Z",
     "start_time": "2023-06-18T16:08:52.050402200Z"
    }
   }
  },
  {
   "cell_type": "code",
   "execution_count": 245,
   "outputs": [
    {
     "data": {
      "text/plain": "array([2, 3, 4, 0, 1], dtype=int64)"
     },
     "execution_count": 245,
     "metadata": {},
     "output_type": "execute_result"
    }
   ],
   "source": [
    "data[\"Destination\"].unique()"
   ],
   "metadata": {
    "collapsed": false,
    "ExecuteTime": {
     "end_time": "2023-06-18T16:08:53.084075500Z",
     "start_time": "2023-06-18T16:08:53.050167100Z"
    }
   }
  },
  {
   "cell_type": "code",
   "execution_count": 246,
   "outputs": [],
   "source": [
    "destination = data.groupby([\"Destination\"])[\"Price\"].mean().sort_values().index"
   ],
   "metadata": {
    "collapsed": false,
    "ExecuteTime": {
     "end_time": "2023-06-18T16:08:54.090383300Z",
     "start_time": "2023-06-18T16:08:54.071434500Z"
    }
   }
  },
  {
   "cell_type": "code",
   "execution_count": 247,
   "outputs": [
    {
     "data": {
      "text/plain": "Int64Index([0, 1, 2, 3, 4], dtype='int64', name='Destination')"
     },
     "execution_count": 247,
     "metadata": {},
     "output_type": "execute_result"
    }
   ],
   "source": [
    "destination\n"
   ],
   "metadata": {
    "collapsed": false,
    "ExecuteTime": {
     "end_time": "2023-06-18T16:08:55.376776700Z",
     "start_time": "2023-06-18T16:08:55.325913400Z"
    }
   }
  },
  {
   "cell_type": "code",
   "execution_count": 248,
   "outputs": [],
   "source": [
    "dict_destination = {key: index for index, key in enumerate(destination, 0)}"
   ],
   "metadata": {
    "collapsed": false,
    "ExecuteTime": {
     "end_time": "2023-06-18T16:08:56.819920300Z",
     "start_time": "2023-06-18T16:08:56.774615Z"
    }
   }
  },
  {
   "cell_type": "code",
   "execution_count": 249,
   "outputs": [
    {
     "data": {
      "text/plain": "{0: 0, 1: 1, 2: 2, 3: 3, 4: 4}"
     },
     "execution_count": 249,
     "metadata": {},
     "output_type": "execute_result"
    }
   ],
   "source": [
    "dict_destination"
   ],
   "metadata": {
    "collapsed": false,
    "ExecuteTime": {
     "end_time": "2023-06-18T16:08:57.895556600Z",
     "start_time": "2023-06-18T16:08:57.828260900Z"
    }
   }
  },
  {
   "cell_type": "markdown",
   "source": [],
   "metadata": {
    "collapsed": false
   }
  },
  {
   "cell_type": "code",
   "execution_count": 250,
   "outputs": [],
   "source": [
    "data[\"Destination\"] = data[\"Destination\"].map(dict_destination)"
   ],
   "metadata": {
    "collapsed": false,
    "ExecuteTime": {
     "end_time": "2023-06-18T16:09:05.583356900Z",
     "start_time": "2023-06-18T16:09:05.560435800Z"
    }
   }
  },
  {
   "cell_type": "code",
   "execution_count": 251,
   "outputs": [
    {
     "data": {
      "text/plain": "0        2\n1        3\n2        4\n3        3\n4        2\n        ..\n10678    3\n10679    3\n10680    2\n10681    2\n10682    4\nName: Destination, Length: 10682, dtype: int64"
     },
     "execution_count": 251,
     "metadata": {},
     "output_type": "execute_result"
    }
   ],
   "source": [
    "data[\"Destination\"]"
   ],
   "metadata": {
    "collapsed": false,
    "ExecuteTime": {
     "end_time": "2023-06-18T16:09:06.865656600Z",
     "start_time": "2023-06-18T16:09:06.817575600Z"
    }
   }
  },
  {
   "cell_type": "code",
   "execution_count": 252,
   "outputs": [
    {
     "data": {
      "text/plain": "       Airline  Destination  Total_Stops    Price  Journey_Day  Journey_Month  \\\n0       IndiGo            2            0   3897.0           24              3   \n1    Air India            3            2   7662.0            5              1   \n2  Jet Airways            4            2  13882.0            6              9   \n\n   Dep_Time_hour  Dep_Time_minute  Arrival_Time_hour  Arrival_Time_minute  \\\n0             22               20                  1                   10   \n1              5               50                 13                   15   \n2              9               25                  4                   25   \n\n   Duration_hours  Duration_minutes  Source_Banglore  Source_Kolkata  \\\n0               2                50                1               0   \n1               7                25                0               1   \n2              19                 0                0               0   \n\n   Source_Delhi  Source_Chennai  Source_Mumbai  \n0             0               0              0  \n1             0               0              0  \n2             1               0              0  ",
      "text/html": "<div>\n<style scoped>\n    .dataframe tbody tr th:only-of-type {\n        vertical-align: middle;\n    }\n\n    .dataframe tbody tr th {\n        vertical-align: top;\n    }\n\n    .dataframe thead th {\n        text-align: right;\n    }\n</style>\n<table border=\"1\" class=\"dataframe\">\n  <thead>\n    <tr style=\"text-align: right;\">\n      <th></th>\n      <th>Airline</th>\n      <th>Destination</th>\n      <th>Total_Stops</th>\n      <th>Price</th>\n      <th>Journey_Day</th>\n      <th>Journey_Month</th>\n      <th>Dep_Time_hour</th>\n      <th>Dep_Time_minute</th>\n      <th>Arrival_Time_hour</th>\n      <th>Arrival_Time_minute</th>\n      <th>Duration_hours</th>\n      <th>Duration_minutes</th>\n      <th>Source_Banglore</th>\n      <th>Source_Kolkata</th>\n      <th>Source_Delhi</th>\n      <th>Source_Chennai</th>\n      <th>Source_Mumbai</th>\n    </tr>\n  </thead>\n  <tbody>\n    <tr>\n      <th>0</th>\n      <td>IndiGo</td>\n      <td>2</td>\n      <td>0</td>\n      <td>3897.0</td>\n      <td>24</td>\n      <td>3</td>\n      <td>22</td>\n      <td>20</td>\n      <td>1</td>\n      <td>10</td>\n      <td>2</td>\n      <td>50</td>\n      <td>1</td>\n      <td>0</td>\n      <td>0</td>\n      <td>0</td>\n      <td>0</td>\n    </tr>\n    <tr>\n      <th>1</th>\n      <td>Air India</td>\n      <td>3</td>\n      <td>2</td>\n      <td>7662.0</td>\n      <td>5</td>\n      <td>1</td>\n      <td>5</td>\n      <td>50</td>\n      <td>13</td>\n      <td>15</td>\n      <td>7</td>\n      <td>25</td>\n      <td>0</td>\n      <td>1</td>\n      <td>0</td>\n      <td>0</td>\n      <td>0</td>\n    </tr>\n    <tr>\n      <th>2</th>\n      <td>Jet Airways</td>\n      <td>4</td>\n      <td>2</td>\n      <td>13882.0</td>\n      <td>6</td>\n      <td>9</td>\n      <td>9</td>\n      <td>25</td>\n      <td>4</td>\n      <td>25</td>\n      <td>19</td>\n      <td>0</td>\n      <td>0</td>\n      <td>0</td>\n      <td>1</td>\n      <td>0</td>\n      <td>0</td>\n    </tr>\n  </tbody>\n</table>\n</div>"
     },
     "execution_count": 252,
     "metadata": {},
     "output_type": "execute_result"
    }
   ],
   "source": [
    "data.head(3)"
   ],
   "metadata": {
    "collapsed": false,
    "ExecuteTime": {
     "end_time": "2023-06-18T16:09:08.372983700Z",
     "start_time": "2023-06-18T16:09:08.325082Z"
    }
   }
  },
  {
   "cell_type": "code",
   "execution_count": 95,
   "outputs": [
    {
     "data": {
      "text/plain": "0        non-stop\n1         2 stops\n2         2 stops\n3          1 stop\n4          1 stop\n           ...   \n10678    non-stop\n10679    non-stop\n10680    non-stop\n10681    non-stop\n10682     2 stops\nName: Total_Stops, Length: 10682, dtype: object"
     },
     "execution_count": 95,
     "metadata": {},
     "output_type": "execute_result"
    }
   ],
   "source": [
    "data[\"Total_Stops\"]"
   ],
   "metadata": {
    "collapsed": false,
    "ExecuteTime": {
     "end_time": "2023-06-18T14:52:55.966564600Z",
     "start_time": "2023-06-18T14:52:55.912708600Z"
    }
   }
  },
  {
   "cell_type": "code",
   "execution_count": 221,
   "outputs": [
    {
     "data": {
      "text/plain": "array(['non-stop', '2 stops', '1 stop', '3 stops', '4 stops'],\n      dtype=object)"
     },
     "execution_count": 221,
     "metadata": {},
     "output_type": "execute_result"
    }
   ],
   "source": [
    "data[\"Total_Stops\"].unique()"
   ],
   "metadata": {
    "collapsed": false,
    "ExecuteTime": {
     "end_time": "2023-06-18T16:02:52.202442800Z",
     "start_time": "2023-06-18T16:02:52.171328400Z"
    }
   }
  },
  {
   "cell_type": "code",
   "execution_count": 224,
   "outputs": [],
   "source": [
    "stop = {\"non-stop\": 0, \"2 stops\": 2, \"1 stop\": 1, \"3 stops\": 3, \"4 stops\": 4}"
   ],
   "metadata": {
    "collapsed": false,
    "ExecuteTime": {
     "end_time": "2023-06-18T16:04:06.329685500Z",
     "start_time": "2023-06-18T16:04:06.240789600Z"
    }
   }
  },
  {
   "cell_type": "code",
   "execution_count": 225,
   "outputs": [],
   "source": [
    "data[\"Total_Stops\"] = data[\"Total_Stops\"].map(stop)"
   ],
   "metadata": {
    "collapsed": false,
    "ExecuteTime": {
     "end_time": "2023-06-18T16:04:41.417885800Z",
     "start_time": "2023-06-18T16:04:41.352155400Z"
    }
   }
  },
  {
   "cell_type": "code",
   "execution_count": 226,
   "outputs": [
    {
     "data": {
      "text/plain": "0        0\n1        2\n2        2\n3        1\n4        1\n        ..\n10678    0\n10679    0\n10680    0\n10681    0\n10682    2\nName: Total_Stops, Length: 10682, dtype: int64"
     },
     "execution_count": 226,
     "metadata": {},
     "output_type": "execute_result"
    }
   ],
   "source": [
    "data[\"Total_Stops\"]"
   ],
   "metadata": {
    "collapsed": false,
    "ExecuteTime": {
     "end_time": "2023-06-18T16:04:50.565319200Z",
     "start_time": "2023-06-18T16:04:50.524429300Z"
    }
   }
  },
  {
   "cell_type": "code",
   "execution_count": 227,
   "outputs": [
    {
     "data": {
      "text/plain": "  Airline Date_of_Journey    Source  Destination      Route Duration  \\\n0  IndiGo      2019-03-24  Banglore            2  BLR → DEL   2h 50m   \n\n   Total_Stops Additional_Info   Price  Journey_Day  ...  Arrival_Time_hour  \\\n0            0         No info  3897.0           24  ...                  1   \n\n   Arrival_Time_minute  Duration_hours  Duration_minutes  \\\n0                   10               2                50   \n\n   Duration_total_minutes  Source_Banglore  Source_Kolkata  Source_Delhi  \\\n0                     170                1               0             0   \n\n   Source_Chennai  Source_Mumbai  \n0               0              0  \n\n[1 rows x 24 columns]",
      "text/html": "<div>\n<style scoped>\n    .dataframe tbody tr th:only-of-type {\n        vertical-align: middle;\n    }\n\n    .dataframe tbody tr th {\n        vertical-align: top;\n    }\n\n    .dataframe thead th {\n        text-align: right;\n    }\n</style>\n<table border=\"1\" class=\"dataframe\">\n  <thead>\n    <tr style=\"text-align: right;\">\n      <th></th>\n      <th>Airline</th>\n      <th>Date_of_Journey</th>\n      <th>Source</th>\n      <th>Destination</th>\n      <th>Route</th>\n      <th>Duration</th>\n      <th>Total_Stops</th>\n      <th>Additional_Info</th>\n      <th>Price</th>\n      <th>Journey_Day</th>\n      <th>...</th>\n      <th>Arrival_Time_hour</th>\n      <th>Arrival_Time_minute</th>\n      <th>Duration_hours</th>\n      <th>Duration_minutes</th>\n      <th>Duration_total_minutes</th>\n      <th>Source_Banglore</th>\n      <th>Source_Kolkata</th>\n      <th>Source_Delhi</th>\n      <th>Source_Chennai</th>\n      <th>Source_Mumbai</th>\n    </tr>\n  </thead>\n  <tbody>\n    <tr>\n      <th>0</th>\n      <td>IndiGo</td>\n      <td>2019-03-24</td>\n      <td>Banglore</td>\n      <td>2</td>\n      <td>BLR → DEL</td>\n      <td>2h 50m</td>\n      <td>0</td>\n      <td>No info</td>\n      <td>3897.0</td>\n      <td>24</td>\n      <td>...</td>\n      <td>1</td>\n      <td>10</td>\n      <td>2</td>\n      <td>50</td>\n      <td>170</td>\n      <td>1</td>\n      <td>0</td>\n      <td>0</td>\n      <td>0</td>\n      <td>0</td>\n    </tr>\n  </tbody>\n</table>\n<p>1 rows × 24 columns</p>\n</div>"
     },
     "execution_count": 227,
     "metadata": {},
     "output_type": "execute_result"
    }
   ],
   "source": [
    "data.head(1)"
   ],
   "metadata": {
    "collapsed": false,
    "ExecuteTime": {
     "end_time": "2023-06-18T16:04:58.938374900Z",
     "start_time": "2023-06-18T16:04:58.887516200Z"
    }
   }
  },
  {
   "cell_type": "code",
   "execution_count": 104,
   "outputs": [
    {
     "data": {
      "text/plain": "No info                         78.112713\nIn-flight meal not included     18.554578\nNo check-in baggage included     2.995694\n1 Long layover                   0.177869\nChange airports                  0.065531\nBusiness class                   0.037446\nNo Info                          0.028085\n1 Short layover                  0.009362\nRed-eye flight                   0.009362\n2 Long layover                   0.009362\nName: Additional_Info, dtype: float64"
     },
     "execution_count": 104,
     "metadata": {},
     "output_type": "execute_result"
    }
   ],
   "source": [
    "data[\"Additional_Info\"].value_counts()/len(data)*100"
   ],
   "metadata": {
    "collapsed": false,
    "ExecuteTime": {
     "end_time": "2023-06-18T14:58:44.694020700Z",
     "start_time": "2023-06-18T14:58:44.644153600Z"
    }
   }
  },
  {
   "cell_type": "code",
   "execution_count": 105,
   "outputs": [
    {
     "data": {
      "text/plain": "       Airline Date_of_Journey    Source  Destination                  Route  \\\n0       IndiGo      2019-03-24  Banglore            2              BLR → DEL   \n1    Air India      2019-01-05   Kolkata            3  CCU → IXR → BBI → BLR   \n2  Jet Airways      2019-09-06     Delhi            4  DEL → LKO → BOM → COK   \n3       IndiGo      2019-12-05   Kolkata            3        CCU → NAG → BLR   \n\n  Duration Total_Stops Additional_Info  Price  Journey_Day  ...  \\\n0   2h 50m    non-stop         No info   3897           24  ...   \n1   7h 25m     2 stops         No info   7662            5  ...   \n2      19h     2 stops         No info  13882            6  ...   \n3   5h 25m      1 stop         No info   6218            5  ...   \n\n   Arrival_Time_hour  Arrival_Time_minute  Duration_hours  Duration_minutes  \\\n0                  1                   10               2                50   \n1                 13                   15               7                25   \n2                  4                   25              19                 0   \n3                 23                   30               5                25   \n\n   Duration_total_minutes  Source_Banglore  Source_Kolkata  Source_Delhi  \\\n0                     170                1               0             0   \n1                     445                0               1             0   \n2                    1140                0               0             1   \n3                     325                0               1             0   \n\n   Source_Chennai  Source_Mumbai  \n0               0              0  \n1               0              0  \n2               0              0  \n3               0              0  \n\n[4 rows x 24 columns]",
      "text/html": "<div>\n<style scoped>\n    .dataframe tbody tr th:only-of-type {\n        vertical-align: middle;\n    }\n\n    .dataframe tbody tr th {\n        vertical-align: top;\n    }\n\n    .dataframe thead th {\n        text-align: right;\n    }\n</style>\n<table border=\"1\" class=\"dataframe\">\n  <thead>\n    <tr style=\"text-align: right;\">\n      <th></th>\n      <th>Airline</th>\n      <th>Date_of_Journey</th>\n      <th>Source</th>\n      <th>Destination</th>\n      <th>Route</th>\n      <th>Duration</th>\n      <th>Total_Stops</th>\n      <th>Additional_Info</th>\n      <th>Price</th>\n      <th>Journey_Day</th>\n      <th>...</th>\n      <th>Arrival_Time_hour</th>\n      <th>Arrival_Time_minute</th>\n      <th>Duration_hours</th>\n      <th>Duration_minutes</th>\n      <th>Duration_total_minutes</th>\n      <th>Source_Banglore</th>\n      <th>Source_Kolkata</th>\n      <th>Source_Delhi</th>\n      <th>Source_Chennai</th>\n      <th>Source_Mumbai</th>\n    </tr>\n  </thead>\n  <tbody>\n    <tr>\n      <th>0</th>\n      <td>IndiGo</td>\n      <td>2019-03-24</td>\n      <td>Banglore</td>\n      <td>2</td>\n      <td>BLR → DEL</td>\n      <td>2h 50m</td>\n      <td>non-stop</td>\n      <td>No info</td>\n      <td>3897</td>\n      <td>24</td>\n      <td>...</td>\n      <td>1</td>\n      <td>10</td>\n      <td>2</td>\n      <td>50</td>\n      <td>170</td>\n      <td>1</td>\n      <td>0</td>\n      <td>0</td>\n      <td>0</td>\n      <td>0</td>\n    </tr>\n    <tr>\n      <th>1</th>\n      <td>Air India</td>\n      <td>2019-01-05</td>\n      <td>Kolkata</td>\n      <td>3</td>\n      <td>CCU → IXR → BBI → BLR</td>\n      <td>7h 25m</td>\n      <td>2 stops</td>\n      <td>No info</td>\n      <td>7662</td>\n      <td>5</td>\n      <td>...</td>\n      <td>13</td>\n      <td>15</td>\n      <td>7</td>\n      <td>25</td>\n      <td>445</td>\n      <td>0</td>\n      <td>1</td>\n      <td>0</td>\n      <td>0</td>\n      <td>0</td>\n    </tr>\n    <tr>\n      <th>2</th>\n      <td>Jet Airways</td>\n      <td>2019-09-06</td>\n      <td>Delhi</td>\n      <td>4</td>\n      <td>DEL → LKO → BOM → COK</td>\n      <td>19h</td>\n      <td>2 stops</td>\n      <td>No info</td>\n      <td>13882</td>\n      <td>6</td>\n      <td>...</td>\n      <td>4</td>\n      <td>25</td>\n      <td>19</td>\n      <td>0</td>\n      <td>1140</td>\n      <td>0</td>\n      <td>0</td>\n      <td>1</td>\n      <td>0</td>\n      <td>0</td>\n    </tr>\n    <tr>\n      <th>3</th>\n      <td>IndiGo</td>\n      <td>2019-12-05</td>\n      <td>Kolkata</td>\n      <td>3</td>\n      <td>CCU → NAG → BLR</td>\n      <td>5h 25m</td>\n      <td>1 stop</td>\n      <td>No info</td>\n      <td>6218</td>\n      <td>5</td>\n      <td>...</td>\n      <td>23</td>\n      <td>30</td>\n      <td>5</td>\n      <td>25</td>\n      <td>325</td>\n      <td>0</td>\n      <td>1</td>\n      <td>0</td>\n      <td>0</td>\n      <td>0</td>\n    </tr>\n  </tbody>\n</table>\n<p>4 rows × 24 columns</p>\n</div>"
     },
     "execution_count": 105,
     "metadata": {},
     "output_type": "execute_result"
    }
   ],
   "source": [
    "data.head(4)"
   ],
   "metadata": {
    "collapsed": false,
    "ExecuteTime": {
     "end_time": "2023-06-18T14:59:00.961857300Z",
     "start_time": "2023-06-18T14:59:00.893245900Z"
    }
   }
  },
  {
   "cell_type": "code",
   "execution_count": 106,
   "outputs": [
    {
     "data": {
      "text/plain": "Index(['Airline', 'Date_of_Journey', 'Source', 'Destination', 'Route',\n       'Duration', 'Total_Stops', 'Additional_Info', 'Price', 'Journey_Day',\n       'Journey_Month', 'Journey_Year', 'Dep_Time_hour', 'Dep_Time_minute',\n       'Arrival_Time_hour', 'Arrival_Time_minute', 'Duration_hours',\n       'Duration_minutes', 'Duration_total_minutes', 'Source_Banglore',\n       'Source_Kolkata', 'Source_Delhi', 'Source_Chennai', 'Source_Mumbai'],\n      dtype='object')"
     },
     "execution_count": 106,
     "metadata": {},
     "output_type": "execute_result"
    }
   ],
   "source": [
    "data.columns"
   ],
   "metadata": {
    "collapsed": false,
    "ExecuteTime": {
     "end_time": "2023-06-18T14:59:57.421912500Z",
     "start_time": "2023-06-18T14:59:57.367059100Z"
    }
   }
  },
  {
   "cell_type": "markdown",
   "source": [],
   "metadata": {
    "collapsed": false
   }
  },
  {
   "cell_type": "code",
   "execution_count": 229,
   "outputs": [],
   "source": [
    "data.drop(columns=[\"Date_of_Journey\", \"Additional_Info\", \"Duration_total_minutes\", \"Source\", \"Journey_Year\"], axis=1, inplace=True)"
   ],
   "metadata": {
    "collapsed": false,
    "ExecuteTime": {
     "end_time": "2023-06-18T16:07:17.957540Z",
     "start_time": "2023-06-18T16:07:17.900728Z"
    }
   }
  },
  {
   "cell_type": "code",
   "execution_count": 230,
   "outputs": [
    {
     "data": {
      "text/plain": "Index(['Airline', 'Destination', 'Route', 'Duration', 'Total_Stops', 'Price',\n       'Journey_Day', 'Journey_Month', 'Dep_Time_hour', 'Dep_Time_minute',\n       'Arrival_Time_hour', 'Arrival_Time_minute', 'Duration_hours',\n       'Duration_minutes', 'Source_Banglore', 'Source_Kolkata', 'Source_Delhi',\n       'Source_Chennai', 'Source_Mumbai'],\n      dtype='object')"
     },
     "execution_count": 230,
     "metadata": {},
     "output_type": "execute_result"
    }
   ],
   "source": [
    "data.columns"
   ],
   "metadata": {
    "collapsed": false,
    "ExecuteTime": {
     "end_time": "2023-06-18T16:07:22.449652800Z",
     "start_time": "2023-06-18T16:07:22.407771300Z"
    }
   }
  },
  {
   "cell_type": "code",
   "execution_count": 231,
   "outputs": [],
   "source": [
    "data.drop(columns=[\"Route\"], axis=1, inplace=True)"
   ],
   "metadata": {
    "collapsed": false,
    "ExecuteTime": {
     "end_time": "2023-06-18T16:07:28.397321300Z",
     "start_time": "2023-06-18T16:07:28.379369900Z"
    }
   }
  },
  {
   "cell_type": "code",
   "execution_count": 232,
   "outputs": [
    {
     "data": {
      "text/plain": "       Airline  Destination Duration  Total_Stops    Price  Journey_Day  \\\n0       IndiGo            2   2h 50m            0   3897.0           24   \n1    Air India            3   7h 25m            2   7662.0            5   \n2  Jet Airways            4      19h            2  13882.0            6   \n\n   Journey_Month  Dep_Time_hour  Dep_Time_minute  Arrival_Time_hour  \\\n0              3             22               20                  1   \n1              1              5               50                 13   \n2              9              9               25                  4   \n\n   Arrival_Time_minute  Duration_hours  Duration_minutes  Source_Banglore  \\\n0                   10               2                50                1   \n1                   15               7                25                0   \n2                   25              19                 0                0   \n\n   Source_Kolkata  Source_Delhi  Source_Chennai  Source_Mumbai  \n0               0             0               0              0  \n1               1             0               0              0  \n2               0             1               0              0  ",
      "text/html": "<div>\n<style scoped>\n    .dataframe tbody tr th:only-of-type {\n        vertical-align: middle;\n    }\n\n    .dataframe tbody tr th {\n        vertical-align: top;\n    }\n\n    .dataframe thead th {\n        text-align: right;\n    }\n</style>\n<table border=\"1\" class=\"dataframe\">\n  <thead>\n    <tr style=\"text-align: right;\">\n      <th></th>\n      <th>Airline</th>\n      <th>Destination</th>\n      <th>Duration</th>\n      <th>Total_Stops</th>\n      <th>Price</th>\n      <th>Journey_Day</th>\n      <th>Journey_Month</th>\n      <th>Dep_Time_hour</th>\n      <th>Dep_Time_minute</th>\n      <th>Arrival_Time_hour</th>\n      <th>Arrival_Time_minute</th>\n      <th>Duration_hours</th>\n      <th>Duration_minutes</th>\n      <th>Source_Banglore</th>\n      <th>Source_Kolkata</th>\n      <th>Source_Delhi</th>\n      <th>Source_Chennai</th>\n      <th>Source_Mumbai</th>\n    </tr>\n  </thead>\n  <tbody>\n    <tr>\n      <th>0</th>\n      <td>IndiGo</td>\n      <td>2</td>\n      <td>2h 50m</td>\n      <td>0</td>\n      <td>3897.0</td>\n      <td>24</td>\n      <td>3</td>\n      <td>22</td>\n      <td>20</td>\n      <td>1</td>\n      <td>10</td>\n      <td>2</td>\n      <td>50</td>\n      <td>1</td>\n      <td>0</td>\n      <td>0</td>\n      <td>0</td>\n      <td>0</td>\n    </tr>\n    <tr>\n      <th>1</th>\n      <td>Air India</td>\n      <td>3</td>\n      <td>7h 25m</td>\n      <td>2</td>\n      <td>7662.0</td>\n      <td>5</td>\n      <td>1</td>\n      <td>5</td>\n      <td>50</td>\n      <td>13</td>\n      <td>15</td>\n      <td>7</td>\n      <td>25</td>\n      <td>0</td>\n      <td>1</td>\n      <td>0</td>\n      <td>0</td>\n      <td>0</td>\n    </tr>\n    <tr>\n      <th>2</th>\n      <td>Jet Airways</td>\n      <td>4</td>\n      <td>19h</td>\n      <td>2</td>\n      <td>13882.0</td>\n      <td>6</td>\n      <td>9</td>\n      <td>9</td>\n      <td>25</td>\n      <td>4</td>\n      <td>25</td>\n      <td>19</td>\n      <td>0</td>\n      <td>0</td>\n      <td>0</td>\n      <td>1</td>\n      <td>0</td>\n      <td>0</td>\n    </tr>\n  </tbody>\n</table>\n</div>"
     },
     "execution_count": 232,
     "metadata": {},
     "output_type": "execute_result"
    }
   ],
   "source": [
    "data.head(3)"
   ],
   "metadata": {
    "collapsed": false,
    "ExecuteTime": {
     "end_time": "2023-06-18T16:07:31.465408500Z",
     "start_time": "2023-06-18T16:07:31.371564200Z"
    }
   }
  },
  {
   "cell_type": "code",
   "execution_count": 233,
   "outputs": [],
   "source": [
    "data.drop(columns=[\"Duration\"], axis=1, inplace=True)"
   ],
   "metadata": {
    "collapsed": false,
    "ExecuteTime": {
     "end_time": "2023-06-18T16:07:42.469876Z",
     "start_time": "2023-06-18T16:07:42.408532300Z"
    }
   }
  },
  {
   "cell_type": "code",
   "execution_count": 234,
   "outputs": [
    {
     "data": {
      "text/plain": "       Airline  Destination  Total_Stops    Price  Journey_Day  Journey_Month  \\\n0       IndiGo            2            0   3897.0           24              3   \n1    Air India            3            2   7662.0            5              1   \n2  Jet Airways            4            2  13882.0            6              9   \n\n   Dep_Time_hour  Dep_Time_minute  Arrival_Time_hour  Arrival_Time_minute  \\\n0             22               20                  1                   10   \n1              5               50                 13                   15   \n2              9               25                  4                   25   \n\n   Duration_hours  Duration_minutes  Source_Banglore  Source_Kolkata  \\\n0               2                50                1               0   \n1               7                25                0               1   \n2              19                 0                0               0   \n\n   Source_Delhi  Source_Chennai  Source_Mumbai  \n0             0               0              0  \n1             0               0              0  \n2             1               0              0  ",
      "text/html": "<div>\n<style scoped>\n    .dataframe tbody tr th:only-of-type {\n        vertical-align: middle;\n    }\n\n    .dataframe tbody tr th {\n        vertical-align: top;\n    }\n\n    .dataframe thead th {\n        text-align: right;\n    }\n</style>\n<table border=\"1\" class=\"dataframe\">\n  <thead>\n    <tr style=\"text-align: right;\">\n      <th></th>\n      <th>Airline</th>\n      <th>Destination</th>\n      <th>Total_Stops</th>\n      <th>Price</th>\n      <th>Journey_Day</th>\n      <th>Journey_Month</th>\n      <th>Dep_Time_hour</th>\n      <th>Dep_Time_minute</th>\n      <th>Arrival_Time_hour</th>\n      <th>Arrival_Time_minute</th>\n      <th>Duration_hours</th>\n      <th>Duration_minutes</th>\n      <th>Source_Banglore</th>\n      <th>Source_Kolkata</th>\n      <th>Source_Delhi</th>\n      <th>Source_Chennai</th>\n      <th>Source_Mumbai</th>\n    </tr>\n  </thead>\n  <tbody>\n    <tr>\n      <th>0</th>\n      <td>IndiGo</td>\n      <td>2</td>\n      <td>0</td>\n      <td>3897.0</td>\n      <td>24</td>\n      <td>3</td>\n      <td>22</td>\n      <td>20</td>\n      <td>1</td>\n      <td>10</td>\n      <td>2</td>\n      <td>50</td>\n      <td>1</td>\n      <td>0</td>\n      <td>0</td>\n      <td>0</td>\n      <td>0</td>\n    </tr>\n    <tr>\n      <th>1</th>\n      <td>Air India</td>\n      <td>3</td>\n      <td>2</td>\n      <td>7662.0</td>\n      <td>5</td>\n      <td>1</td>\n      <td>5</td>\n      <td>50</td>\n      <td>13</td>\n      <td>15</td>\n      <td>7</td>\n      <td>25</td>\n      <td>0</td>\n      <td>1</td>\n      <td>0</td>\n      <td>0</td>\n      <td>0</td>\n    </tr>\n    <tr>\n      <th>2</th>\n      <td>Jet Airways</td>\n      <td>4</td>\n      <td>2</td>\n      <td>13882.0</td>\n      <td>6</td>\n      <td>9</td>\n      <td>9</td>\n      <td>25</td>\n      <td>4</td>\n      <td>25</td>\n      <td>19</td>\n      <td>0</td>\n      <td>0</td>\n      <td>0</td>\n      <td>1</td>\n      <td>0</td>\n      <td>0</td>\n    </tr>\n  </tbody>\n</table>\n</div>"
     },
     "execution_count": 234,
     "metadata": {},
     "output_type": "execute_result"
    }
   ],
   "source": [
    "data.head(3)"
   ],
   "metadata": {
    "collapsed": false,
    "ExecuteTime": {
     "end_time": "2023-06-18T16:07:43.500250300Z",
     "start_time": "2023-06-18T16:07:43.420943900Z"
    }
   }
  },
  {
   "cell_type": "code",
   "execution_count": 191,
   "outputs": [],
   "source": [
    "def plot(df, col):\n",
    "    fig, (axis1, axis2, axis3) = plt.subplots(3, 1)\n",
    "\n",
    "    sns.distplot(df[col], ax=axis1)\n",
    "    sns.boxplot(df[col], orient=\"h\", ax=axis2)\n",
    "    sns.distplot(df[col], ax=axis3, kde=False)"
   ],
   "metadata": {
    "collapsed": false,
    "ExecuteTime": {
     "end_time": "2023-06-18T15:45:13.842110600Z",
     "start_time": "2023-06-18T15:45:13.746366300Z"
    }
   }
  },
  {
   "cell_type": "code",
   "execution_count": 192,
   "outputs": [
    {
     "data": {
      "text/plain": "<Figure size 640x480 with 3 Axes>",
      "image/png": "[encoded data removed]"
     },
     "metadata": {},
     "output_type": "display_data"
    }
   ],
   "source": [
    "plot(data, \"Price\")"
   ],
   "metadata": {
    "collapsed": false,
    "ExecuteTime": {
     "end_time": "2023-06-18T15:45:19.864452100Z",
     "start_time": "2023-06-18T15:45:18.860034200Z"
    }
   }
  },
  {
   "cell_type": "code",
   "execution_count": 193,
   "outputs": [],
   "source": [
    "q1 = data[\"Price\"].quantile(0.25)\n",
    "q3 = data[\"Price\"].quantile(0.75)\n",
    "\n",
    "iqr = q3 - q1\n",
    "\n",
    "maximum = q3 + 1.5 * iqr\n",
    "minimum = q1 - 1.5 * iqr"
   ],
   "metadata": {
    "collapsed": false,
    "ExecuteTime": {
     "end_time": "2023-06-18T15:45:34.855040300Z",
     "start_time": "2023-06-18T15:45:34.813791300Z"
    }
   }
  },
  {
   "cell_type": "code",
   "execution_count": 194,
   "outputs": [
    {
     "name": "stdout",
     "output_type": "stream",
     "text": [
      "23017.0\n"
     ]
    }
   ],
   "source": [
    "print(maximum)"
   ],
   "metadata": {
    "collapsed": false,
    "ExecuteTime": {
     "end_time": "2023-06-18T15:45:42.359676200Z",
     "start_time": "2023-06-18T15:45:42.315775900Z"
    }
   }
  },
  {
   "cell_type": "code",
   "execution_count": 195,
   "outputs": [
    {
     "name": "stdout",
     "output_type": "stream",
     "text": [
      "-5367.0\n"
     ]
    }
   ],
   "source": [
    "print(minimum)"
   ],
   "metadata": {
    "collapsed": false,
    "ExecuteTime": {
     "end_time": "2023-06-18T15:45:46.837737Z",
     "start_time": "2023-06-18T15:45:46.785195500Z"
    }
   }
  },
  {
   "cell_type": "code",
   "execution_count": 196,
   "outputs": [
    {
     "name": "stdout",
     "output_type": "stream",
     "text": [
      "[27430, 36983, 26890, 26890, 25139, 27210, 52229, 26743, 26890, 25735, 27992, 26890, 26890, 23583, 26890, 23533, 24115, 25735, 54826, 31783, 27992, 26890, 26890, 25430, 36235, 27210, 26890, 25735, 54826, 26890, 35185, 79512, 28097, 27992, 26890, 25735, 26092, 31825, 25913, 25735, 27992, 31825, 23267, 62427, 54826, 31825, 25430, 26890, 36235, 23843, 26890, 25735, 28322, 25735, 25735, 31825, 26890, 27992, 34273, 46490, 29528, 26890, 26890, 26890, 34503, 26890, 27992, 26890, 26890, 23170, 24528, 26890, 27992, 25735, 34608, 25703, 26890, 23528, 31825, 27282, 25735, 27992, 52285, 24017, 31945, 26890, 24318, 23677, 27992, 24210, 57209, 26890, 31825, 26480]\n"
     ]
    }
   ],
   "source": [
    "print([price for price in data[\"Price\"] if price > maximum or price < minimum])"
   ],
   "metadata": {
    "collapsed": false,
    "ExecuteTime": {
     "end_time": "2023-06-18T15:45:55.288075600Z",
     "start_time": "2023-06-18T15:45:55.248465500Z"
    }
   }
  },
  {
   "cell_type": "code",
   "execution_count": 197,
   "outputs": [
    {
     "data": {
      "text/plain": "94"
     },
     "execution_count": 197,
     "metadata": {},
     "output_type": "execute_result"
    }
   ],
   "source": [
    "len([price for price in data[\"Price\"] if price > maximum or price < minimum])"
   ],
   "metadata": {
    "collapsed": false,
    "ExecuteTime": {
     "end_time": "2023-06-18T15:46:00.336415200Z",
     "start_time": "2023-06-18T15:46:00.290536100Z"
    }
   }
  },
  {
   "cell_type": "code",
   "execution_count": 198,
   "outputs": [],
   "source": [
    "data[\"Price\"] = np.where(data[\"Price\"]>=35000, data[\"Price\"].median(), data[\"Price\"])"
   ],
   "metadata": {
    "collapsed": false,
    "ExecuteTime": {
     "end_time": "2023-06-18T15:46:06.701034600Z",
     "start_time": "2023-06-18T15:46:06.654159600Z"
    }
   }
  },
  {
   "cell_type": "code",
   "execution_count": 199,
   "outputs": [
    {
     "data": {
      "text/plain": "<Figure size 640x480 with 3 Axes>",
      "image/png": "[encoded data removed]"
     },
     "metadata": {},
     "output_type": "display_data"
    }
   ],
   "source": [
    "plot(data, \"Price\")"
   ],
   "metadata": {
    "collapsed": false,
    "ExecuteTime": {
     "end_time": "2023-06-18T15:46:15.330602700Z",
     "start_time": "2023-06-18T15:46:14.216584100Z"
    }
   }
  },
  {
   "cell_type": "code",
   "execution_count": 260,
   "outputs": [
    {
     "data": {
      "text/plain": "   Airline  Destination  Total_Stops   Price  Journey_Day  Journey_Month  \\\n0        3            2            0  3897.0           24              3   \n1        8            3            2  7662.0            5              1   \n\n   Dep_Time_hour  Dep_Time_minute  Arrival_Time_hour  Arrival_Time_minute  \\\n0             22               20                  1                   10   \n1              5               50                 13                   15   \n\n   Duration_hours  Duration_minutes  Source_Banglore  Source_Kolkata  \\\n0               2                50                1               0   \n1               7                25                0               1   \n\n   Source_Delhi  Source_Chennai  Source_Mumbai  \n0             0               0              0  \n1             0               0              0  ",
      "text/html": "<div>\n<style scoped>\n    .dataframe tbody tr th:only-of-type {\n        vertical-align: middle;\n    }\n\n    .dataframe tbody tr th {\n        vertical-align: top;\n    }\n\n    .dataframe thead th {\n        text-align: right;\n    }\n</style>\n<table border=\"1\" class=\"dataframe\">\n  <thead>\n    <tr style=\"text-align: right;\">\n      <th></th>\n      <th>Airline</th>\n      <th>Destination</th>\n      <th>Total_Stops</th>\n      <th>Price</th>\n      <th>Journey_Day</th>\n      <th>Journey_Month</th>\n      <th>Dep_Time_hour</th>\n      <th>Dep_Time_minute</th>\n      <th>Arrival_Time_hour</th>\n      <th>Arrival_Time_minute</th>\n      <th>Duration_hours</th>\n      <th>Duration_minutes</th>\n      <th>Source_Banglore</th>\n      <th>Source_Kolkata</th>\n      <th>Source_Delhi</th>\n      <th>Source_Chennai</th>\n      <th>Source_Mumbai</th>\n    </tr>\n  </thead>\n  <tbody>\n    <tr>\n      <th>0</th>\n      <td>3</td>\n      <td>2</td>\n      <td>0</td>\n      <td>3897.0</td>\n      <td>24</td>\n      <td>3</td>\n      <td>22</td>\n      <td>20</td>\n      <td>1</td>\n      <td>10</td>\n      <td>2</td>\n      <td>50</td>\n      <td>1</td>\n      <td>0</td>\n      <td>0</td>\n      <td>0</td>\n      <td>0</td>\n    </tr>\n    <tr>\n      <th>1</th>\n      <td>8</td>\n      <td>3</td>\n      <td>2</td>\n      <td>7662.0</td>\n      <td>5</td>\n      <td>1</td>\n      <td>5</td>\n      <td>50</td>\n      <td>13</td>\n      <td>15</td>\n      <td>7</td>\n      <td>25</td>\n      <td>0</td>\n      <td>1</td>\n      <td>0</td>\n      <td>0</td>\n      <td>0</td>\n    </tr>\n  </tbody>\n</table>\n</div>"
     },
     "execution_count": 260,
     "metadata": {},
     "output_type": "execute_result"
    }
   ],
   "source": [
    "data.head(2)"
   ],
   "metadata": {
    "collapsed": false,
    "ExecuteTime": {
     "end_time": "2023-06-18T16:18:28.488231800Z",
     "start_time": "2023-06-18T16:18:28.425438Z"
    }
   }
  },
  {
   "cell_type": "code",
   "execution_count": 262,
   "outputs": [],
   "source": [
    "X = data.drop([\"Price\"], axis=1)"
   ],
   "metadata": {
    "collapsed": false,
    "ExecuteTime": {
     "end_time": "2023-06-18T16:18:45.115781500Z",
     "start_time": "2023-06-18T16:18:45.050927400Z"
    }
   }
  },
  {
   "cell_type": "code",
   "execution_count": 263,
   "outputs": [],
   "source": [
    "y = data[\"Price\"]"
   ],
   "metadata": {
    "collapsed": false,
    "ExecuteTime": {
     "end_time": "2023-06-18T16:18:46.714871200Z",
     "start_time": "2023-06-18T16:18:46.682388200Z"
    }
   }
  },
  {
   "cell_type": "code",
   "execution_count": 203,
   "outputs": [],
   "source": [
    "from sklearn.feature_selection import mutual_info_regression"
   ],
   "metadata": {
    "collapsed": false,
    "ExecuteTime": {
     "end_time": "2023-06-18T15:55:32.795591400Z",
     "start_time": "2023-06-18T15:55:29.485412800Z"
    }
   }
  },
  {
   "cell_type": "code",
   "execution_count": 265,
   "outputs": [],
   "source": [
    "imp = mutual_info_regression(X, y)"
   ],
   "metadata": {
    "collapsed": false,
    "ExecuteTime": {
     "end_time": "2023-06-18T16:18:59.521891900Z",
     "start_time": "2023-06-18T16:18:58.179829300Z"
    }
   }
  },
  {
   "cell_type": "code",
   "execution_count": 266,
   "outputs": [
    {
     "data": {
      "text/plain": "array([0.97770971, 1.00925273, 0.79511931, 0.20344088, 0.2342176 ,\n       0.33622691, 0.25632561, 0.38895135, 0.34436126, 0.47049348,\n       0.34583918, 0.38567202, 0.45348974, 0.52303018, 0.13363471,\n       0.20065786])"
     },
     "execution_count": 266,
     "metadata": {},
     "output_type": "execute_result"
    }
   ],
   "source": [
    "imp"
   ],
   "metadata": {
    "collapsed": false,
    "ExecuteTime": {
     "end_time": "2023-06-18T16:19:06.756759200Z",
     "start_time": "2023-06-18T16:19:06.687855900Z"
    }
   }
  },
  {
   "cell_type": "code",
   "execution_count": 268,
   "outputs": [],
   "source": [
    "imp_df = pd.DataFrame(imp, index=X.columns)"
   ],
   "metadata": {
    "collapsed": false,
    "ExecuteTime": {
     "end_time": "2023-06-18T16:20:00.253401400Z",
     "start_time": "2023-06-18T16:20:00.174612200Z"
    }
   }
  },
  {
   "cell_type": "code",
   "execution_count": 270,
   "outputs": [],
   "source": [
    "imp_df.columns = [\"importance\"]"
   ],
   "metadata": {
    "collapsed": false,
    "ExecuteTime": {
     "end_time": "2023-06-18T16:20:20.327638600Z",
     "start_time": "2023-06-18T16:20:20.308689400Z"
    }
   }
  },
  {
   "cell_type": "code",
   "execution_count": 272,
   "outputs": [
    {
     "data": {
      "text/plain": "                     importance\nAirline                0.977710\nDestination            1.009253\nTotal_Stops            0.795119\nJourney_Day            0.203441\nJourney_Month          0.234218\nDep_Time_hour          0.336227\nDep_Time_minute        0.256326\nArrival_Time_hour      0.388951\nArrival_Time_minute    0.344361\nDuration_hours         0.470493\nDuration_minutes       0.345839\nSource_Banglore        0.385672\nSource_Kolkata         0.453490\nSource_Delhi           0.523030\nSource_Chennai         0.133635\nSource_Mumbai          0.200658",
      "text/html": "<div>\n<style scoped>\n    .dataframe tbody tr th:only-of-type {\n        vertical-align: middle;\n    }\n\n    .dataframe tbody tr th {\n        vertical-align: top;\n    }\n\n    .dataframe thead th {\n        text-align: right;\n    }\n</style>\n<table border=\"1\" class=\"dataframe\">\n  <thead>\n    <tr style=\"text-align: right;\">\n      <th></th>\n      <th>importance</th>\n    </tr>\n  </thead>\n  <tbody>\n    <tr>\n      <th>Airline</th>\n      <td>0.977710</td>\n    </tr>\n    <tr>\n      <th>Destination</th>\n      <td>1.009253</td>\n    </tr>\n    <tr>\n      <th>Total_Stops</th>\n      <td>0.795119</td>\n    </tr>\n    <tr>\n      <th>Journey_Day</th>\n      <td>0.203441</td>\n    </tr>\n    <tr>\n      <th>Journey_Month</th>\n      <td>0.234218</td>\n    </tr>\n    <tr>\n      <th>Dep_Time_hour</th>\n      <td>0.336227</td>\n    </tr>\n    <tr>\n      <th>Dep_Time_minute</th>\n      <td>0.256326</td>\n    </tr>\n    <tr>\n      <th>Arrival_Time_hour</th>\n      <td>0.388951</td>\n    </tr>\n    <tr>\n      <th>Arrival_Time_minute</th>\n      <td>0.344361</td>\n    </tr>\n    <tr>\n      <th>Duration_hours</th>\n      <td>0.470493</td>\n    </tr>\n    <tr>\n      <th>Duration_minutes</th>\n      <td>0.345839</td>\n    </tr>\n    <tr>\n      <th>Source_Banglore</th>\n      <td>0.385672</td>\n    </tr>\n    <tr>\n      <th>Source_Kolkata</th>\n      <td>0.453490</td>\n    </tr>\n    <tr>\n      <th>Source_Delhi</th>\n      <td>0.523030</td>\n    </tr>\n    <tr>\n      <th>Source_Chennai</th>\n      <td>0.133635</td>\n    </tr>\n    <tr>\n      <th>Source_Mumbai</th>\n      <td>0.200658</td>\n    </tr>\n  </tbody>\n</table>\n</div>"
     },
     "execution_count": 272,
     "metadata": {},
     "output_type": "execute_result"
    }
   ],
   "source": [
    "imp_df"
   ],
   "metadata": {
    "collapsed": false,
    "ExecuteTime": {
     "end_time": "2023-06-18T16:20:48.638327700Z",
     "start_time": "2023-06-18T16:20:48.586051100Z"
    }
   }
  },
  {
   "cell_type": "code",
   "execution_count": 273,
   "outputs": [
    {
     "data": {
      "text/plain": "                     importance\nDestination            1.009253\nAirline                0.977710\nTotal_Stops            0.795119\nSource_Delhi           0.523030\nDuration_hours         0.470493\nSource_Kolkata         0.453490\nArrival_Time_hour      0.388951\nSource_Banglore        0.385672\nDuration_minutes       0.345839\nArrival_Time_minute    0.344361\nDep_Time_hour          0.336227\nDep_Time_minute        0.256326\nJourney_Month          0.234218\nJourney_Day            0.203441\nSource_Mumbai          0.200658\nSource_Chennai         0.133635",
      "text/html": "<div>\n<style scoped>\n    .dataframe tbody tr th:only-of-type {\n        vertical-align: middle;\n    }\n\n    .dataframe tbody tr th {\n        vertical-align: top;\n    }\n\n    .dataframe thead th {\n        text-align: right;\n    }\n</style>\n<table border=\"1\" class=\"dataframe\">\n  <thead>\n    <tr style=\"text-align: right;\">\n      <th></th>\n      <th>importance</th>\n    </tr>\n  </thead>\n  <tbody>\n    <tr>\n      <th>Destination</th>\n      <td>1.009253</td>\n    </tr>\n    <tr>\n      <th>Airline</th>\n      <td>0.977710</td>\n    </tr>\n    <tr>\n      <th>Total_Stops</th>\n      <td>0.795119</td>\n    </tr>\n    <tr>\n      <th>Source_Delhi</th>\n      <td>0.523030</td>\n    </tr>\n    <tr>\n      <th>Duration_hours</th>\n      <td>0.470493</td>\n    </tr>\n    <tr>\n      <th>Source_Kolkata</th>\n      <td>0.453490</td>\n    </tr>\n    <tr>\n      <th>Arrival_Time_hour</th>\n      <td>0.388951</td>\n    </tr>\n    <tr>\n      <th>Source_Banglore</th>\n      <td>0.385672</td>\n    </tr>\n    <tr>\n      <th>Duration_minutes</th>\n      <td>0.345839</td>\n    </tr>\n    <tr>\n      <th>Arrival_Time_minute</th>\n      <td>0.344361</td>\n    </tr>\n    <tr>\n      <th>Dep_Time_hour</th>\n      <td>0.336227</td>\n    </tr>\n    <tr>\n      <th>Dep_Time_minute</th>\n      <td>0.256326</td>\n    </tr>\n    <tr>\n      <th>Journey_Month</th>\n      <td>0.234218</td>\n    </tr>\n    <tr>\n      <th>Journey_Day</th>\n      <td>0.203441</td>\n    </tr>\n    <tr>\n      <th>Source_Mumbai</th>\n      <td>0.200658</td>\n    </tr>\n    <tr>\n      <th>Source_Chennai</th>\n      <td>0.133635</td>\n    </tr>\n  </tbody>\n</table>\n</div>"
     },
     "execution_count": 273,
     "metadata": {},
     "output_type": "execute_result"
    }
   ],
   "source": [
    "imp_df.sort_values(by=\"importance\", ascending=False)"
   ],
   "metadata": {
    "collapsed": false,
    "ExecuteTime": {
     "end_time": "2023-06-18T16:21:36.601550100Z",
     "start_time": "2023-06-18T16:21:36.531600900Z"
    }
   }
  },
  {
   "cell_type": "code",
   "execution_count": null,
   "outputs": [],
   "source": [],
   "metadata": {
    "collapsed": false
   }
  }
 ],
 "metadata": {
  "kernelspec": {
   "display_name": "Python 3",
   "language": "python",
   "name": "python3"
  },
  "language_info": {
   "codemirror_mode": {
    "name": "ipython",
    "version": 2
   },
   "file_extension": ".py",
   "mimetype": "text/x-python",
   "name": "python",
   "nbconvert_exporter": "python",
   "pygments_lexer": "ipython2",
   "version": "2.7.6"
  }
 },
 "nbformat": 4,
 "nbformat_minor": 0
}
