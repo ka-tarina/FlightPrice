{
 "cells": [
  {
   "cell_type": "code",
   "execution_count": 1,
   "metadata": {
    "collapsed": true,
    "ExecuteTime": {
     "end_time": "2023-06-16T09:25:48.362465400Z",
     "start_time": "2023-06-16T09:25:48.349850800Z"
    }
   },
   "outputs": [],
   "source": [
    "import pandas as pd\n",
    "import numpy as  np\n",
    "import matplotlib.pyplot as plt\n",
    "import seaborn as sns"
   ]
  },
  {
   "cell_type": "code",
   "execution_count": 4,
   "outputs": [],
   "source": [
    "train_data = pd.read_excel(r\"C:\\Users\\My computer\\Downloads\\1..Flight_Price-- Machine Learning-20230616T090444Z-001\\1..Flight_Price--_ Machine Learning\\Datasets/Data_train.xlsx\")"
   ],
   "metadata": {
    "collapsed": false,
    "ExecuteTime": {
     "end_time": "2023-06-16T09:30:41.932675400Z",
     "start_time": "2023-06-16T09:30:40.150445300Z"
    }
   }
  },
  {
   "cell_type": "code",
   "execution_count": 5,
   "outputs": [
    {
     "data": {
      "text/plain": "       Airline Date_of_Journey    Source Destination                  Route  \\\n0       IndiGo      24/03/2019  Banglore   New Delhi              BLR → DEL   \n1    Air India       1/05/2019   Kolkata    Banglore  CCU → IXR → BBI → BLR   \n2  Jet Airways       9/06/2019     Delhi      Cochin  DEL → LKO → BOM → COK   \n3       IndiGo      12/05/2019   Kolkata    Banglore        CCU → NAG → BLR   \n\n  Dep_Time  Arrival_Time Duration Total_Stops Additional_Info  Price  \n0    22:20  01:10 22 Mar   2h 50m    non-stop         No info   3897  \n1    05:50         13:15   7h 25m     2 stops         No info   7662  \n2    09:25  04:25 10 Jun      19h     2 stops         No info  13882  \n3    18:05         23:30   5h 25m      1 stop         No info   6218  ",
      "text/html": "<div>\n<style scoped>\n    .dataframe tbody tr th:only-of-type {\n        vertical-align: middle;\n    }\n\n    .dataframe tbody tr th {\n        vertical-align: top;\n    }\n\n    .dataframe thead th {\n        text-align: right;\n    }\n</style>\n<table border=\"1\" class=\"dataframe\">\n  <thead>\n    <tr style=\"text-align: right;\">\n      <th></th>\n      <th>Airline</th>\n      <th>Date_of_Journey</th>\n      <th>Source</th>\n      <th>Destination</th>\n      <th>Route</th>\n      <th>Dep_Time</th>\n      <th>Arrival_Time</th>\n      <th>Duration</th>\n      <th>Total_Stops</th>\n      <th>Additional_Info</th>\n      <th>Price</th>\n    </tr>\n  </thead>\n  <tbody>\n    <tr>\n      <th>0</th>\n      <td>IndiGo</td>\n      <td>24/03/2019</td>\n      <td>Banglore</td>\n      <td>New Delhi</td>\n      <td>BLR → DEL</td>\n      <td>22:20</td>\n      <td>01:10 22 Mar</td>\n      <td>2h 50m</td>\n      <td>non-stop</td>\n      <td>No info</td>\n      <td>3897</td>\n    </tr>\n    <tr>\n      <th>1</th>\n      <td>Air India</td>\n      <td>1/05/2019</td>\n      <td>Kolkata</td>\n      <td>Banglore</td>\n      <td>CCU → IXR → BBI → BLR</td>\n      <td>05:50</td>\n      <td>13:15</td>\n      <td>7h 25m</td>\n      <td>2 stops</td>\n      <td>No info</td>\n      <td>7662</td>\n    </tr>\n    <tr>\n      <th>2</th>\n      <td>Jet Airways</td>\n      <td>9/06/2019</td>\n      <td>Delhi</td>\n      <td>Cochin</td>\n      <td>DEL → LKO → BOM → COK</td>\n      <td>09:25</td>\n      <td>04:25 10 Jun</td>\n      <td>19h</td>\n      <td>2 stops</td>\n      <td>No info</td>\n      <td>13882</td>\n    </tr>\n    <tr>\n      <th>3</th>\n      <td>IndiGo</td>\n      <td>12/05/2019</td>\n      <td>Kolkata</td>\n      <td>Banglore</td>\n      <td>CCU → NAG → BLR</td>\n      <td>18:05</td>\n      <td>23:30</td>\n      <td>5h 25m</td>\n      <td>1 stop</td>\n      <td>No info</td>\n      <td>6218</td>\n    </tr>\n  </tbody>\n</table>\n</div>"
     },
     "execution_count": 5,
     "metadata": {},
     "output_type": "execute_result"
    }
   ],
   "source": [
    "train_data.head(4)"
   ],
   "metadata": {
    "collapsed": false,
    "ExecuteTime": {
     "end_time": "2023-06-16T09:30:56.735160600Z",
     "start_time": "2023-06-16T09:30:56.712220900Z"
    }
   }
  },
  {
   "cell_type": "code",
   "execution_count": 6,
   "outputs": [
    {
     "data": {
      "text/plain": "           Airline Date_of_Journey    Source Destination  \\\n10679    Air India      27/04/2019   Kolkata    Banglore   \n10680  Jet Airways      27/04/2019  Banglore       Delhi   \n10681      Vistara      01/03/2019  Banglore   New Delhi   \n10682    Air India       9/05/2019     Delhi      Cochin   \n\n                       Route Dep_Time Arrival_Time Duration Total_Stops  \\\n10679              CCU → BLR    20:45        23:20   2h 35m    non-stop   \n10680              BLR → DEL    08:20        11:20       3h    non-stop   \n10681              BLR → DEL    11:30        14:10   2h 40m    non-stop   \n10682  DEL → GOI → BOM → COK    10:55        19:15   8h 20m     2 stops   \n\n      Additional_Info  Price  \n10679         No info   4145  \n10680         No info   7229  \n10681         No info  12648  \n10682         No info  11753  ",
      "text/html": "<div>\n<style scoped>\n    .dataframe tbody tr th:only-of-type {\n        vertical-align: middle;\n    }\n\n    .dataframe tbody tr th {\n        vertical-align: top;\n    }\n\n    .dataframe thead th {\n        text-align: right;\n    }\n</style>\n<table border=\"1\" class=\"dataframe\">\n  <thead>\n    <tr style=\"text-align: right;\">\n      <th></th>\n      <th>Airline</th>\n      <th>Date_of_Journey</th>\n      <th>Source</th>\n      <th>Destination</th>\n      <th>Route</th>\n      <th>Dep_Time</th>\n      <th>Arrival_Time</th>\n      <th>Duration</th>\n      <th>Total_Stops</th>\n      <th>Additional_Info</th>\n      <th>Price</th>\n    </tr>\n  </thead>\n  <tbody>\n    <tr>\n      <th>10679</th>\n      <td>Air India</td>\n      <td>27/04/2019</td>\n      <td>Kolkata</td>\n      <td>Banglore</td>\n      <td>CCU → BLR</td>\n      <td>20:45</td>\n      <td>23:20</td>\n      <td>2h 35m</td>\n      <td>non-stop</td>\n      <td>No info</td>\n      <td>4145</td>\n    </tr>\n    <tr>\n      <th>10680</th>\n      <td>Jet Airways</td>\n      <td>27/04/2019</td>\n      <td>Banglore</td>\n      <td>Delhi</td>\n      <td>BLR → DEL</td>\n      <td>08:20</td>\n      <td>11:20</td>\n      <td>3h</td>\n      <td>non-stop</td>\n      <td>No info</td>\n      <td>7229</td>\n    </tr>\n    <tr>\n      <th>10681</th>\n      <td>Vistara</td>\n      <td>01/03/2019</td>\n      <td>Banglore</td>\n      <td>New Delhi</td>\n      <td>BLR → DEL</td>\n      <td>11:30</td>\n      <td>14:10</td>\n      <td>2h 40m</td>\n      <td>non-stop</td>\n      <td>No info</td>\n      <td>12648</td>\n    </tr>\n    <tr>\n      <th>10682</th>\n      <td>Air India</td>\n      <td>9/05/2019</td>\n      <td>Delhi</td>\n      <td>Cochin</td>\n      <td>DEL → GOI → BOM → COK</td>\n      <td>10:55</td>\n      <td>19:15</td>\n      <td>8h 20m</td>\n      <td>2 stops</td>\n      <td>No info</td>\n      <td>11753</td>\n    </tr>\n  </tbody>\n</table>\n</div>"
     },
     "execution_count": 6,
     "metadata": {},
     "output_type": "execute_result"
    }
   ],
   "source": [
    "train_data.tail(4)"
   ],
   "metadata": {
    "collapsed": false,
    "ExecuteTime": {
     "end_time": "2023-06-16T09:31:12.640096600Z",
     "start_time": "2023-06-16T09:31:12.581256500Z"
    }
   }
  },
  {
   "cell_type": "code",
   "execution_count": 7,
   "outputs": [
    {
     "name": "stdout",
     "output_type": "stream",
     "text": [
      "<class 'pandas.core.frame.DataFrame'>\n",
      "RangeIndex: 10683 entries, 0 to 10682\n",
      "Data columns (total 11 columns):\n",
      " #   Column           Non-Null Count  Dtype \n",
      "---  ------           --------------  ----- \n",
      " 0   Airline          10683 non-null  object\n",
      " 1   Date_of_Journey  10683 non-null  object\n",
      " 2   Source           10683 non-null  object\n",
      " 3   Destination      10683 non-null  object\n",
      " 4   Route            10682 non-null  object\n",
      " 5   Dep_Time         10683 non-null  object\n",
      " 6   Arrival_Time     10683 non-null  object\n",
      " 7   Duration         10683 non-null  object\n",
      " 8   Total_Stops      10682 non-null  object\n",
      " 9   Additional_Info  10683 non-null  object\n",
      " 10  Price            10683 non-null  int64 \n",
      "dtypes: int64(1), object(10)\n",
      "memory usage: 918.2+ KB\n"
     ]
    }
   ],
   "source": [
    "train_data.info()"
   ],
   "metadata": {
    "collapsed": false,
    "ExecuteTime": {
     "end_time": "2023-06-16T09:47:23.741129100Z",
     "start_time": "2023-06-16T09:47:23.726168500Z"
    }
   }
  },
  {
   "cell_type": "code",
   "execution_count": 9,
   "outputs": [
    {
     "data": {
      "text/plain": "Airline            0\nDate_of_Journey    0\nSource             0\nDestination        0\nRoute              1\nDep_Time           0\nArrival_Time       0\nDuration           0\nTotal_Stops        1\nAdditional_Info    0\nPrice              0\ndtype: int64"
     },
     "execution_count": 9,
     "metadata": {},
     "output_type": "execute_result"
    }
   ],
   "source": [
    "train_data.isnull().sum()"
   ],
   "metadata": {
    "collapsed": false,
    "ExecuteTime": {
     "end_time": "2023-06-16T09:48:49.446547600Z",
     "start_time": "2023-06-16T09:48:49.434230300Z"
    }
   }
  },
  {
   "cell_type": "code",
   "execution_count": 10,
   "outputs": [
    {
     "data": {
      "text/plain": "0        False\n1        False\n2        False\n3        False\n4        False\n         ...  \n10678    False\n10679    False\n10680    False\n10681    False\n10682    False\nName: Total_Stops, Length: 10683, dtype: bool"
     },
     "execution_count": 10,
     "metadata": {},
     "output_type": "execute_result"
    }
   ],
   "source": [
    "train_data[\"Total_Stops\"].isnull()"
   ],
   "metadata": {
    "collapsed": false,
    "ExecuteTime": {
     "end_time": "2023-06-16T09:49:34.688669200Z",
     "start_time": "2023-06-16T09:49:34.683712500Z"
    }
   }
  },
  {
   "cell_type": "code",
   "execution_count": 11,
   "outputs": [
    {
     "data": {
      "text/plain": "        Airline Date_of_Journey Source Destination Route Dep_Time  \\\n9039  Air India       6/05/2019  Delhi      Cochin   NaN    09:45   \n\n      Arrival_Time Duration Total_Stops Additional_Info  Price  \n9039  09:25 07 May  23h 40m         NaN         No info   7480  ",
      "text/html": "<div>\n<style scoped>\n    .dataframe tbody tr th:only-of-type {\n        vertical-align: middle;\n    }\n\n    .dataframe tbody tr th {\n        vertical-align: top;\n    }\n\n    .dataframe thead th {\n        text-align: right;\n    }\n</style>\n<table border=\"1\" class=\"dataframe\">\n  <thead>\n    <tr style=\"text-align: right;\">\n      <th></th>\n      <th>Airline</th>\n      <th>Date_of_Journey</th>\n      <th>Source</th>\n      <th>Destination</th>\n      <th>Route</th>\n      <th>Dep_Time</th>\n      <th>Arrival_Time</th>\n      <th>Duration</th>\n      <th>Total_Stops</th>\n      <th>Additional_Info</th>\n      <th>Price</th>\n    </tr>\n  </thead>\n  <tbody>\n    <tr>\n      <th>9039</th>\n      <td>Air India</td>\n      <td>6/05/2019</td>\n      <td>Delhi</td>\n      <td>Cochin</td>\n      <td>NaN</td>\n      <td>09:45</td>\n      <td>09:25 07 May</td>\n      <td>23h 40m</td>\n      <td>NaN</td>\n      <td>No info</td>\n      <td>7480</td>\n    </tr>\n  </tbody>\n</table>\n</div>"
     },
     "execution_count": 11,
     "metadata": {},
     "output_type": "execute_result"
    }
   ],
   "source": [
    "train_data[train_data[\"Total_Stops\"].isnull()]"
   ],
   "metadata": {
    "collapsed": false,
    "ExecuteTime": {
     "end_time": "2023-06-16T09:50:05.581754900Z",
     "start_time": "2023-06-16T09:50:05.544853900Z"
    }
   }
  },
  {
   "cell_type": "code",
   "execution_count": 12,
   "outputs": [],
   "source": [
    "train_data.dropna(inplace=True)"
   ],
   "metadata": {
    "collapsed": false,
    "ExecuteTime": {
     "end_time": "2023-06-16T09:51:01.506203800Z",
     "start_time": "2023-06-16T09:51:01.472290500Z"
    }
   }
  },
  {
   "cell_type": "code",
   "execution_count": 13,
   "outputs": [
    {
     "data": {
      "text/plain": "Airline            0\nDate_of_Journey    0\nSource             0\nDestination        0\nRoute              0\nDep_Time           0\nArrival_Time       0\nDuration           0\nTotal_Stops        0\nAdditional_Info    0\nPrice              0\ndtype: int64"
     },
     "execution_count": 13,
     "metadata": {},
     "output_type": "execute_result"
    }
   ],
   "source": [
    "train_data.isnull().sum()"
   ],
   "metadata": {
    "collapsed": false,
    "ExecuteTime": {
     "end_time": "2023-06-16T09:51:19.471533500Z",
     "start_time": "2023-06-16T09:51:19.443612600Z"
    }
   }
  },
  {
   "cell_type": "code",
   "execution_count": 14,
   "outputs": [
    {
     "data": {
      "text/plain": "Airline            object\nDate_of_Journey    object\nSource             object\nDestination        object\nRoute              object\nDep_Time           object\nArrival_Time       object\nDuration           object\nTotal_Stops        object\nAdditional_Info    object\nPrice               int64\ndtype: object"
     },
     "execution_count": 14,
     "metadata": {},
     "output_type": "execute_result"
    }
   ],
   "source": [
    "train_data.dtypes"
   ],
   "metadata": {
    "collapsed": false,
    "ExecuteTime": {
     "end_time": "2023-06-16T09:51:42.504496600Z",
     "start_time": "2023-06-16T09:51:42.497514900Z"
    }
   }
  },
  {
   "cell_type": "code",
   "execution_count": 15,
   "outputs": [
    {
     "name": "stdout",
     "output_type": "stream",
     "text": [
      "<class 'pandas.core.frame.DataFrame'>\n",
      "Int64Index: 10682 entries, 0 to 10682\n",
      "Data columns (total 11 columns):\n",
      " #   Column           Non-Null Count  Dtype \n",
      "---  ------           --------------  ----- \n",
      " 0   Airline          10682 non-null  object\n",
      " 1   Date_of_Journey  10682 non-null  object\n",
      " 2   Source           10682 non-null  object\n",
      " 3   Destination      10682 non-null  object\n",
      " 4   Route            10682 non-null  object\n",
      " 5   Dep_Time         10682 non-null  object\n",
      " 6   Arrival_Time     10682 non-null  object\n",
      " 7   Duration         10682 non-null  object\n",
      " 8   Total_Stops      10682 non-null  object\n",
      " 9   Additional_Info  10682 non-null  object\n",
      " 10  Price            10682 non-null  int64 \n",
      "dtypes: int64(1), object(10)\n",
      "memory usage: 7.2 MB\n"
     ]
    }
   ],
   "source": [
    "train_data.info(memory_usage=\"deep\")"
   ],
   "metadata": {
    "collapsed": false,
    "ExecuteTime": {
     "end_time": "2023-06-16T09:56:13.358733200Z",
     "start_time": "2023-06-16T09:56:13.319836100Z"
    }
   }
  },
  {
   "cell_type": "code",
   "execution_count": null,
   "outputs": [],
   "source": [],
   "metadata": {
    "collapsed": false
   }
  }
 ],
 "metadata": {
  "kernelspec": {
   "display_name": "Python 3",
   "language": "python",
   "name": "python3"
  },
  "language_info": {
   "codemirror_mode": {
    "name": "ipython",
    "version": 2
   },
   "file_extension": ".py",
   "mimetype": "text/x-python",
   "name": "python",
   "nbconvert_exporter": "python",
   "pygments_lexer": "ipython2",
   "version": "2.7.6"
  }
 },
 "nbformat": 4,
 "nbformat_minor": 0
}
